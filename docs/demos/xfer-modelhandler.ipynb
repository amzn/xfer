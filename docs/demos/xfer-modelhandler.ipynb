{
 "cells": [
  {
   "cell_type": "markdown",
   "metadata": {},
   "source": [
    "# Model Handler\n",
    "\n",
    "ModelHandler is a utility class for manipulating and inspecting MXNet models. It can be used to:\n",
    "\n",
    "* Add and remove layers from an existing model or \"freeze\" selected layers\n",
    "* Discover information such as layer names and types\n",
    "* Extract features from pretrained models\n",
    "\n",
    "In this tutorial, we will demonstrate some of the key capabilities of ModelHandler.\n",
    "\n",
    "## Initialisation"
   ]
  },
  {
   "cell_type": "code",
   "execution_count": 1,
   "metadata": {
    "collapsed": true
   },
   "outputs": [],
   "source": [
    "import mxnet as mx\n",
    "import logging\n",
    "\n",
    "import xfer\n",
    "\n",
    "logger = logging.getLogger()\n",
    "logger.setLevel(logging.INFO)"
   ]
  },
  {
   "cell_type": "code",
   "execution_count": 2,
   "metadata": {},
   "outputs": [
    {
     "name": "stderr",
     "output_type": "stream",
     "text": [
      "INFO:root:vgg19-0000.params exists, skipping download\n",
      "INFO:root:vgg19-symbol.json exists, skipping download\n"
     ]
    },
    {
     "data": {
      "text/plain": [
       "['vgg19-0000.params', 'vgg19-symbol.json']"
      ]
     },
     "execution_count": 2,
     "metadata": {},
     "output_type": "execute_result"
    }
   ],
   "source": [
    "# Download vgg19 (trained on imagenet)\n",
    "path = 'http://data.mxnet.io/models/imagenet/'\n",
    "[mx.test_utils.download(path+'vgg/vgg19-0000.params'),\n",
    "mx.test_utils.download(path+'vgg/vgg19-symbol.json')]"
   ]
  },
  {
   "cell_type": "code",
   "execution_count": 3,
   "metadata": {
    "collapsed": true
   },
   "outputs": [],
   "source": [
    "source_model = mx.module.Module.load('vgg19', 0, label_names=['prob_label'])\n",
    "\n",
    "# The ModelHandler constructor takes an MXNet Module as input\n",
    "mh = xfer.model_handler.ModelHandler(source_model)"
   ]
  },
  {
   "cell_type": "markdown",
   "metadata": {},
   "source": [
    "## Model Inspection"
   ]
  },
  {
   "cell_type": "markdown",
   "metadata": {},
   "source": [
    "### Layer names"
   ]
  },
  {
   "cell_type": "code",
   "execution_count": 4,
   "metadata": {},
   "outputs": [
    {
     "name": "stdout",
     "output_type": "stream",
     "text": [
      "['conv1_1', 'relu1_1', 'conv1_2', 'relu1_2', 'pool1', 'conv2_1', 'relu2_1', 'conv2_2', 'relu2_2', 'pool2', 'conv3_1', 'relu3_1', 'conv3_2', 'relu3_2', 'conv3_3', 'relu3_3', 'conv3_4', 'relu3_4', 'pool3', 'conv4_1', 'relu4_1', 'conv4_2', 'relu4_2', 'conv4_3', 'relu4_3', 'conv4_4', 'relu4_4', 'pool4', 'conv5_1', 'relu5_1', 'conv5_2', 'relu5_2', 'conv5_3', 'relu5_3', 'conv5_4', 'relu5_4', 'pool5', 'flatten_0', 'fc6', 'relu6', 'drop6', 'fc7', 'relu7', 'drop7', 'fc8', 'prob']\n"
     ]
    }
   ],
   "source": [
    "print(mh.layer_names)"
   ]
  },
  {
   "cell_type": "markdown",
   "metadata": {},
   "source": [
    "### Layer Types\n",
    "Given the name of a layer, this function returns the type."
   ]
  },
  {
   "cell_type": "code",
   "execution_count": 5,
   "metadata": {},
   "outputs": [
    {
     "name": "stdout",
     "output_type": "stream",
     "text": [
      "Activation\n",
      "Flatten\n",
      "FullyConnected\n",
      "Convolution\n",
      "SoftmaxOutput\n"
     ]
    }
   ],
   "source": [
    "print(mh.get_layer_type('relu5_2'))\n",
    "print(mh.get_layer_type('flatten_0'))\n",
    "print(mh.get_layer_type('fc7'))\n",
    "print(mh.get_layer_type('conv5_3'))\n",
    "print(mh.get_layer_type('prob'))"
   ]
  },
  {
   "cell_type": "markdown",
   "metadata": {},
   "source": [
    "ModelHandler can be used to get a list of layers that are of a specific type."
   ]
  },
  {
   "cell_type": "code",
   "execution_count": 6,
   "metadata": {},
   "outputs": [
    {
     "name": "stdout",
     "output_type": "stream",
     "text": [
      "['conv1_1', 'conv1_2', 'conv2_1', 'conv2_2', 'conv3_1', 'conv3_2', 'conv3_3', 'conv3_4', 'conv4_1', 'conv4_2', 'conv4_3', 'conv4_4', 'conv5_1', 'conv5_2', 'conv5_3', 'conv5_4']\n",
      "['pool1', 'pool2', 'pool3', 'pool4', 'pool5']\n",
      "['relu1_1', 'relu1_2', 'relu2_1', 'relu2_2', 'relu3_1', 'relu3_2', 'relu3_3', 'relu3_4', 'relu4_1', 'relu4_2', 'relu4_3', 'relu4_4', 'relu5_1', 'relu5_2', 'relu5_3', 'relu5_4', 'relu6', 'relu7']\n",
      "[]\n"
     ]
    }
   ],
   "source": [
    "import xfer.model_handler.consts as consts\n",
    "\n",
    "print(mh.get_layer_names_matching_type('Convolution'))\n",
    "print(mh.get_layer_names_matching_type('Pooling'))\n",
    "print(mh.get_layer_names_matching_type('Activation'))\n",
    "print(mh.get_layer_names_matching_type('BatchNorm'))"
   ]
  },
  {
   "cell_type": "markdown",
   "metadata": {},
   "source": [
    "### Architecture Visualization"
   ]
  },
  {
   "cell_type": "code",
   "execution_count": 7,
   "metadata": {
    "scrolled": true
   },
   "outputs": [
    {
     "data": {
      "image/svg+xml": [
       "<?xml version=\"1.0\" encoding=\"UTF-8\" standalone=\"no\"?>\n",
       "<!DOCTYPE svg PUBLIC \"-//W3C//DTD SVG 1.1//EN\"\n",
       " \"http://www.w3.org/Graphics/SVG/1.1/DTD/svg11.dtd\">\n",
       "<!-- Generated by graphviz version 2.40.1 (20161225.0304)\n",
       " -->\n",
       "<!-- Title: plot Pages: 1 -->\n",
       "<svg width=\"226pt\" height=\"4390pt\"\n",
       " viewBox=\"0.00 0.00 225.72 4390.00\" xmlns=\"http://www.w3.org/2000/svg\" xmlns:xlink=\"http://www.w3.org/1999/xlink\">\n",
       "<g id=\"graph0\" class=\"graph\" transform=\"scale(1 1) rotate(0) translate(4 4386)\">\n",
       "<title>plot</title>\n",
       "<polygon fill=\"#ffffff\" stroke=\"transparent\" points=\"-4,4 -4,-4386 221.7174,-4386 221.7174,4 -4,4\"/>\n",
       "<!-- data -->\n",
       "<g id=\"node1\" class=\"node\">\n",
       "<title>data</title>\n",
       "<ellipse fill=\"#8dd3c7\" stroke=\"#000000\" cx=\"52.7174\" cy=\"-29\" rx=\"47\" ry=\"29\"/>\n",
       "<text text-anchor=\"middle\" x=\"52.7174\" y=\"-24.8\" font-family=\"Times,serif\" font-size=\"14.00\" fill=\"#000000\">data</text>\n",
       "</g>\n",
       "<!-- conv1_1 -->\n",
       "<g id=\"node2\" class=\"node\">\n",
       "<title>conv1_1</title>\n",
       "<polygon fill=\"#fb8072\" stroke=\"#000000\" points=\"99.7174,-152 5.7174,-152 5.7174,-94 99.7174,-94 99.7174,-152\"/>\n",
       "<text text-anchor=\"middle\" x=\"52.7174\" y=\"-127.2\" font-family=\"Times,serif\" font-size=\"14.00\" fill=\"#000000\">Convolution</text>\n",
       "<text text-anchor=\"middle\" x=\"52.7174\" y=\"-110.4\" font-family=\"Times,serif\" font-size=\"14.00\" fill=\"#000000\">3x3/1x1, 64</text>\n",
       "</g>\n",
       "<!-- conv1_1&#45;&gt;data -->\n",
       "<g id=\"edge1\" class=\"edge\">\n",
       "<title>conv1_1&#45;&gt;data</title>\n",
       "<path fill=\"none\" stroke=\"#000000\" d=\"M52.7174,-83.6321C52.7174,-75.1148 52.7174,-66.2539 52.7174,-58.2088\"/>\n",
       "<polygon fill=\"#000000\" stroke=\"#000000\" points=\"52.7174,-93.7731 48.2175,-83.773 52.7174,-88.7731 52.7175,-83.7731 52.7175,-83.7731 52.7175,-83.7731 52.7174,-88.7731 57.2175,-83.7731 52.7174,-93.7731 52.7174,-93.7731\"/>\n",
       "</g>\n",
       "<!-- relu1_1 -->\n",
       "<g id=\"node3\" class=\"node\">\n",
       "<title>relu1_1</title>\n",
       "<polygon fill=\"#ffffb3\" stroke=\"#000000\" points=\"99.7174,-246 5.7174,-246 5.7174,-188 99.7174,-188 99.7174,-246\"/>\n",
       "<text text-anchor=\"middle\" x=\"52.7174\" y=\"-221.2\" font-family=\"Times,serif\" font-size=\"14.00\" fill=\"#000000\">Activation</text>\n",
       "<text text-anchor=\"middle\" x=\"52.7174\" y=\"-204.4\" font-family=\"Times,serif\" font-size=\"14.00\" fill=\"#000000\">relu</text>\n",
       "</g>\n",
       "<!-- relu1_1&#45;&gt;conv1_1 -->\n",
       "<g id=\"edge2\" class=\"edge\">\n",
       "<title>relu1_1&#45;&gt;conv1_1</title>\n",
       "<path fill=\"none\" stroke=\"#000000\" d=\"M52.7174,-177.6321C52.7174,-169.1148 52.7174,-160.2539 52.7174,-152.2088\"/>\n",
       "<polygon fill=\"#000000\" stroke=\"#000000\" points=\"52.7174,-187.7731 48.2175,-177.773 52.7174,-182.7731 52.7175,-177.7731 52.7175,-177.7731 52.7175,-177.7731 52.7174,-182.7731 57.2175,-177.7731 52.7174,-187.7731 52.7174,-187.7731\"/>\n",
       "</g>\n",
       "<!-- conv1_2 -->\n",
       "<g id=\"node4\" class=\"node\">\n",
       "<title>conv1_2</title>\n",
       "<polygon fill=\"#fb8072\" stroke=\"#000000\" points=\"99.7174,-340 5.7174,-340 5.7174,-282 99.7174,-282 99.7174,-340\"/>\n",
       "<text text-anchor=\"middle\" x=\"52.7174\" y=\"-315.2\" font-family=\"Times,serif\" font-size=\"14.00\" fill=\"#000000\">Convolution</text>\n",
       "<text text-anchor=\"middle\" x=\"52.7174\" y=\"-298.4\" font-family=\"Times,serif\" font-size=\"14.00\" fill=\"#000000\">3x3/1x1, 64</text>\n",
       "</g>\n",
       "<!-- conv1_2&#45;&gt;relu1_1 -->\n",
       "<g id=\"edge3\" class=\"edge\">\n",
       "<title>conv1_2&#45;&gt;relu1_1</title>\n",
       "<path fill=\"none\" stroke=\"#000000\" d=\"M52.7174,-271.6321C52.7174,-263.1148 52.7174,-254.2539 52.7174,-246.2088\"/>\n",
       "<polygon fill=\"#000000\" stroke=\"#000000\" points=\"52.7174,-281.7731 48.2175,-271.773 52.7174,-276.7731 52.7175,-271.7731 52.7175,-271.7731 52.7175,-271.7731 52.7174,-276.7731 57.2175,-271.7731 52.7174,-281.7731 52.7174,-281.7731\"/>\n",
       "</g>\n",
       "<!-- relu1_2 -->\n",
       "<g id=\"node5\" class=\"node\">\n",
       "<title>relu1_2</title>\n",
       "<polygon fill=\"#ffffb3\" stroke=\"#000000\" points=\"99.7174,-434 5.7174,-434 5.7174,-376 99.7174,-376 99.7174,-434\"/>\n",
       "<text text-anchor=\"middle\" x=\"52.7174\" y=\"-409.2\" font-family=\"Times,serif\" font-size=\"14.00\" fill=\"#000000\">Activation</text>\n",
       "<text text-anchor=\"middle\" x=\"52.7174\" y=\"-392.4\" font-family=\"Times,serif\" font-size=\"14.00\" fill=\"#000000\">relu</text>\n",
       "</g>\n",
       "<!-- relu1_2&#45;&gt;conv1_2 -->\n",
       "<g id=\"edge4\" class=\"edge\">\n",
       "<title>relu1_2&#45;&gt;conv1_2</title>\n",
       "<path fill=\"none\" stroke=\"#000000\" d=\"M52.7174,-365.6321C52.7174,-357.1148 52.7174,-348.2539 52.7174,-340.2088\"/>\n",
       "<polygon fill=\"#000000\" stroke=\"#000000\" points=\"52.7174,-375.7731 48.2175,-365.773 52.7174,-370.7731 52.7175,-365.7731 52.7175,-365.7731 52.7175,-365.7731 52.7174,-370.7731 57.2175,-365.7731 52.7174,-375.7731 52.7174,-375.7731\"/>\n",
       "</g>\n",
       "<!-- pool1 -->\n",
       "<g id=\"node6\" class=\"node\">\n",
       "<title>pool1</title>\n",
       "<polygon fill=\"#80b1d3\" stroke=\"#000000\" points=\"99.7174,-528 5.7174,-528 5.7174,-470 99.7174,-470 99.7174,-528\"/>\n",
       "<text text-anchor=\"middle\" x=\"52.7174\" y=\"-503.2\" font-family=\"Times,serif\" font-size=\"14.00\" fill=\"#000000\">Pooling</text>\n",
       "<text text-anchor=\"middle\" x=\"52.7174\" y=\"-486.4\" font-family=\"Times,serif\" font-size=\"14.00\" fill=\"#000000\">max, 2x2/2x2</text>\n",
       "</g>\n",
       "<!-- pool1&#45;&gt;relu1_2 -->\n",
       "<g id=\"edge5\" class=\"edge\">\n",
       "<title>pool1&#45;&gt;relu1_2</title>\n",
       "<path fill=\"none\" stroke=\"#000000\" d=\"M52.7174,-459.6321C52.7174,-451.1148 52.7174,-442.2539 52.7174,-434.2088\"/>\n",
       "<polygon fill=\"#000000\" stroke=\"#000000\" points=\"52.7174,-469.7731 48.2175,-459.773 52.7174,-464.7731 52.7175,-459.7731 52.7175,-459.7731 52.7175,-459.7731 52.7174,-464.7731 57.2175,-459.7731 52.7174,-469.7731 52.7174,-469.7731\"/>\n",
       "</g>\n",
       "<!-- conv2_1 -->\n",
       "<g id=\"node7\" class=\"node\">\n",
       "<title>conv2_1</title>\n",
       "<polygon fill=\"#fb8072\" stroke=\"#000000\" points=\"99.7174,-622 5.7174,-622 5.7174,-564 99.7174,-564 99.7174,-622\"/>\n",
       "<text text-anchor=\"middle\" x=\"52.7174\" y=\"-597.2\" font-family=\"Times,serif\" font-size=\"14.00\" fill=\"#000000\">Convolution</text>\n",
       "<text text-anchor=\"middle\" x=\"52.7174\" y=\"-580.4\" font-family=\"Times,serif\" font-size=\"14.00\" fill=\"#000000\">3x3/1x1, 128</text>\n",
       "</g>\n",
       "<!-- conv2_1&#45;&gt;pool1 -->\n",
       "<g id=\"edge6\" class=\"edge\">\n",
       "<title>conv2_1&#45;&gt;pool1</title>\n",
       "<path fill=\"none\" stroke=\"#000000\" d=\"M52.7174,-553.6321C52.7174,-545.1148 52.7174,-536.2539 52.7174,-528.2088\"/>\n",
       "<polygon fill=\"#000000\" stroke=\"#000000\" points=\"52.7174,-563.7731 48.2175,-553.773 52.7174,-558.7731 52.7175,-553.7731 52.7175,-553.7731 52.7175,-553.7731 52.7174,-558.7731 57.2175,-553.7731 52.7174,-563.7731 52.7174,-563.7731\"/>\n",
       "</g>\n",
       "<!-- relu2_1 -->\n",
       "<g id=\"node8\" class=\"node\">\n",
       "<title>relu2_1</title>\n",
       "<polygon fill=\"#ffffb3\" stroke=\"#000000\" points=\"99.7174,-716 5.7174,-716 5.7174,-658 99.7174,-658 99.7174,-716\"/>\n",
       "<text text-anchor=\"middle\" x=\"52.7174\" y=\"-691.2\" font-family=\"Times,serif\" font-size=\"14.00\" fill=\"#000000\">Activation</text>\n",
       "<text text-anchor=\"middle\" x=\"52.7174\" y=\"-674.4\" font-family=\"Times,serif\" font-size=\"14.00\" fill=\"#000000\">relu</text>\n",
       "</g>\n",
       "<!-- relu2_1&#45;&gt;conv2_1 -->\n",
       "<g id=\"edge7\" class=\"edge\">\n",
       "<title>relu2_1&#45;&gt;conv2_1</title>\n",
       "<path fill=\"none\" stroke=\"#000000\" d=\"M52.7174,-647.6321C52.7174,-639.1148 52.7174,-630.2539 52.7174,-622.2088\"/>\n",
       "<polygon fill=\"#000000\" stroke=\"#000000\" points=\"52.7174,-657.7731 48.2175,-647.773 52.7174,-652.7731 52.7175,-647.7731 52.7175,-647.7731 52.7175,-647.7731 52.7174,-652.7731 57.2175,-647.7731 52.7174,-657.7731 52.7174,-657.7731\"/>\n",
       "</g>\n",
       "<!-- conv2_2 -->\n",
       "<g id=\"node9\" class=\"node\">\n",
       "<title>conv2_2</title>\n",
       "<polygon fill=\"#fb8072\" stroke=\"#000000\" points=\"99.7174,-810 5.7174,-810 5.7174,-752 99.7174,-752 99.7174,-810\"/>\n",
       "<text text-anchor=\"middle\" x=\"52.7174\" y=\"-785.2\" font-family=\"Times,serif\" font-size=\"14.00\" fill=\"#000000\">Convolution</text>\n",
       "<text text-anchor=\"middle\" x=\"52.7174\" y=\"-768.4\" font-family=\"Times,serif\" font-size=\"14.00\" fill=\"#000000\">3x3/1x1, 128</text>\n",
       "</g>\n",
       "<!-- conv2_2&#45;&gt;relu2_1 -->\n",
       "<g id=\"edge8\" class=\"edge\">\n",
       "<title>conv2_2&#45;&gt;relu2_1</title>\n",
       "<path fill=\"none\" stroke=\"#000000\" d=\"M52.7174,-741.6321C52.7174,-733.1148 52.7174,-724.2539 52.7174,-716.2088\"/>\n",
       "<polygon fill=\"#000000\" stroke=\"#000000\" points=\"52.7174,-751.7731 48.2175,-741.773 52.7174,-746.7731 52.7175,-741.7731 52.7175,-741.7731 52.7175,-741.7731 52.7174,-746.7731 57.2175,-741.7731 52.7174,-751.7731 52.7174,-751.7731\"/>\n",
       "</g>\n",
       "<!-- relu2_2 -->\n",
       "<g id=\"node10\" class=\"node\">\n",
       "<title>relu2_2</title>\n",
       "<polygon fill=\"#ffffb3\" stroke=\"#000000\" points=\"99.7174,-904 5.7174,-904 5.7174,-846 99.7174,-846 99.7174,-904\"/>\n",
       "<text text-anchor=\"middle\" x=\"52.7174\" y=\"-879.2\" font-family=\"Times,serif\" font-size=\"14.00\" fill=\"#000000\">Activation</text>\n",
       "<text text-anchor=\"middle\" x=\"52.7174\" y=\"-862.4\" font-family=\"Times,serif\" font-size=\"14.00\" fill=\"#000000\">relu</text>\n",
       "</g>\n",
       "<!-- relu2_2&#45;&gt;conv2_2 -->\n",
       "<g id=\"edge9\" class=\"edge\">\n",
       "<title>relu2_2&#45;&gt;conv2_2</title>\n",
       "<path fill=\"none\" stroke=\"#000000\" d=\"M52.7174,-835.6321C52.7174,-827.1148 52.7174,-818.2539 52.7174,-810.2088\"/>\n",
       "<polygon fill=\"#000000\" stroke=\"#000000\" points=\"52.7174,-845.7731 48.2175,-835.773 52.7174,-840.7731 52.7175,-835.7731 52.7175,-835.7731 52.7175,-835.7731 52.7174,-840.7731 57.2175,-835.7731 52.7174,-845.7731 52.7174,-845.7731\"/>\n",
       "</g>\n",
       "<!-- pool2 -->\n",
       "<g id=\"node11\" class=\"node\">\n",
       "<title>pool2</title>\n",
       "<polygon fill=\"#80b1d3\" stroke=\"#000000\" points=\"99.7174,-998 5.7174,-998 5.7174,-940 99.7174,-940 99.7174,-998\"/>\n",
       "<text text-anchor=\"middle\" x=\"52.7174\" y=\"-973.2\" font-family=\"Times,serif\" font-size=\"14.00\" fill=\"#000000\">Pooling</text>\n",
       "<text text-anchor=\"middle\" x=\"52.7174\" y=\"-956.4\" font-family=\"Times,serif\" font-size=\"14.00\" fill=\"#000000\">max, 2x2/2x2</text>\n",
       "</g>\n",
       "<!-- pool2&#45;&gt;relu2_2 -->\n",
       "<g id=\"edge10\" class=\"edge\">\n",
       "<title>pool2&#45;&gt;relu2_2</title>\n",
       "<path fill=\"none\" stroke=\"#000000\" d=\"M52.7174,-929.6321C52.7174,-921.1148 52.7174,-912.2539 52.7174,-904.2088\"/>\n",
       "<polygon fill=\"#000000\" stroke=\"#000000\" points=\"52.7174,-939.7731 48.2175,-929.773 52.7174,-934.7731 52.7175,-929.7731 52.7175,-929.7731 52.7175,-929.7731 52.7174,-934.7731 57.2175,-929.7731 52.7174,-939.7731 52.7174,-939.7731\"/>\n",
       "</g>\n",
       "<!-- conv3_1 -->\n",
       "<g id=\"node12\" class=\"node\">\n",
       "<title>conv3_1</title>\n",
       "<polygon fill=\"#fb8072\" stroke=\"#000000\" points=\"99.7174,-1092 5.7174,-1092 5.7174,-1034 99.7174,-1034 99.7174,-1092\"/>\n",
       "<text text-anchor=\"middle\" x=\"52.7174\" y=\"-1067.2\" font-family=\"Times,serif\" font-size=\"14.00\" fill=\"#000000\">Convolution</text>\n",
       "<text text-anchor=\"middle\" x=\"52.7174\" y=\"-1050.4\" font-family=\"Times,serif\" font-size=\"14.00\" fill=\"#000000\">3x3/1x1, 256</text>\n",
       "</g>\n",
       "<!-- conv3_1&#45;&gt;pool2 -->\n",
       "<g id=\"edge11\" class=\"edge\">\n",
       "<title>conv3_1&#45;&gt;pool2</title>\n",
       "<path fill=\"none\" stroke=\"#000000\" d=\"M52.7174,-1023.6321C52.7174,-1015.1148 52.7174,-1006.2539 52.7174,-998.2088\"/>\n",
       "<polygon fill=\"#000000\" stroke=\"#000000\" points=\"52.7174,-1033.7731 48.2175,-1023.773 52.7174,-1028.7731 52.7175,-1023.7731 52.7175,-1023.7731 52.7175,-1023.7731 52.7174,-1028.7731 57.2175,-1023.7731 52.7174,-1033.7731 52.7174,-1033.7731\"/>\n",
       "</g>\n",
       "<!-- relu3_1 -->\n",
       "<g id=\"node13\" class=\"node\">\n",
       "<title>relu3_1</title>\n",
       "<polygon fill=\"#ffffb3\" stroke=\"#000000\" points=\"99.7174,-1186 5.7174,-1186 5.7174,-1128 99.7174,-1128 99.7174,-1186\"/>\n",
       "<text text-anchor=\"middle\" x=\"52.7174\" y=\"-1161.2\" font-family=\"Times,serif\" font-size=\"14.00\" fill=\"#000000\">Activation</text>\n",
       "<text text-anchor=\"middle\" x=\"52.7174\" y=\"-1144.4\" font-family=\"Times,serif\" font-size=\"14.00\" fill=\"#000000\">relu</text>\n",
       "</g>\n",
       "<!-- relu3_1&#45;&gt;conv3_1 -->\n",
       "<g id=\"edge12\" class=\"edge\">\n",
       "<title>relu3_1&#45;&gt;conv3_1</title>\n",
       "<path fill=\"none\" stroke=\"#000000\" d=\"M52.7174,-1117.6321C52.7174,-1109.1148 52.7174,-1100.2539 52.7174,-1092.2088\"/>\n",
       "<polygon fill=\"#000000\" stroke=\"#000000\" points=\"52.7174,-1127.7731 48.2175,-1117.773 52.7174,-1122.7731 52.7175,-1117.7731 52.7175,-1117.7731 52.7175,-1117.7731 52.7174,-1122.7731 57.2175,-1117.7731 52.7174,-1127.7731 52.7174,-1127.7731\"/>\n",
       "</g>\n",
       "<!-- conv3_2 -->\n",
       "<g id=\"node14\" class=\"node\">\n",
       "<title>conv3_2</title>\n",
       "<polygon fill=\"#fb8072\" stroke=\"#000000\" points=\"99.7174,-1280 5.7174,-1280 5.7174,-1222 99.7174,-1222 99.7174,-1280\"/>\n",
       "<text text-anchor=\"middle\" x=\"52.7174\" y=\"-1255.2\" font-family=\"Times,serif\" font-size=\"14.00\" fill=\"#000000\">Convolution</text>\n",
       "<text text-anchor=\"middle\" x=\"52.7174\" y=\"-1238.4\" font-family=\"Times,serif\" font-size=\"14.00\" fill=\"#000000\">3x3/1x1, 256</text>\n",
       "</g>\n",
       "<!-- conv3_2&#45;&gt;relu3_1 -->\n",
       "<g id=\"edge13\" class=\"edge\">\n",
       "<title>conv3_2&#45;&gt;relu3_1</title>\n",
       "<path fill=\"none\" stroke=\"#000000\" d=\"M52.7174,-1211.6321C52.7174,-1203.1148 52.7174,-1194.2539 52.7174,-1186.2088\"/>\n",
       "<polygon fill=\"#000000\" stroke=\"#000000\" points=\"52.7174,-1221.7731 48.2175,-1211.773 52.7174,-1216.7731 52.7175,-1211.7731 52.7175,-1211.7731 52.7175,-1211.7731 52.7174,-1216.7731 57.2175,-1211.7731 52.7174,-1221.7731 52.7174,-1221.7731\"/>\n",
       "</g>\n",
       "<!-- relu3_2 -->\n",
       "<g id=\"node15\" class=\"node\">\n",
       "<title>relu3_2</title>\n",
       "<polygon fill=\"#ffffb3\" stroke=\"#000000\" points=\"99.7174,-1374 5.7174,-1374 5.7174,-1316 99.7174,-1316 99.7174,-1374\"/>\n",
       "<text text-anchor=\"middle\" x=\"52.7174\" y=\"-1349.2\" font-family=\"Times,serif\" font-size=\"14.00\" fill=\"#000000\">Activation</text>\n",
       "<text text-anchor=\"middle\" x=\"52.7174\" y=\"-1332.4\" font-family=\"Times,serif\" font-size=\"14.00\" fill=\"#000000\">relu</text>\n",
       "</g>\n",
       "<!-- relu3_2&#45;&gt;conv3_2 -->\n",
       "<g id=\"edge14\" class=\"edge\">\n",
       "<title>relu3_2&#45;&gt;conv3_2</title>\n",
       "<path fill=\"none\" stroke=\"#000000\" d=\"M52.7174,-1305.6321C52.7174,-1297.1148 52.7174,-1288.2539 52.7174,-1280.2088\"/>\n",
       "<polygon fill=\"#000000\" stroke=\"#000000\" points=\"52.7174,-1315.7731 48.2175,-1305.773 52.7174,-1310.7731 52.7175,-1305.7731 52.7175,-1305.7731 52.7175,-1305.7731 52.7174,-1310.7731 57.2175,-1305.7731 52.7174,-1315.7731 52.7174,-1315.7731\"/>\n",
       "</g>\n",
       "<!-- conv3_3 -->\n",
       "<g id=\"node16\" class=\"node\">\n",
       "<title>conv3_3</title>\n",
       "<polygon fill=\"#fb8072\" stroke=\"#000000\" points=\"99.7174,-1468 5.7174,-1468 5.7174,-1410 99.7174,-1410 99.7174,-1468\"/>\n",
       "<text text-anchor=\"middle\" x=\"52.7174\" y=\"-1443.2\" font-family=\"Times,serif\" font-size=\"14.00\" fill=\"#000000\">Convolution</text>\n",
       "<text text-anchor=\"middle\" x=\"52.7174\" y=\"-1426.4\" font-family=\"Times,serif\" font-size=\"14.00\" fill=\"#000000\">3x3/1x1, 256</text>\n",
       "</g>\n",
       "<!-- conv3_3&#45;&gt;relu3_2 -->\n",
       "<g id=\"edge15\" class=\"edge\">\n",
       "<title>conv3_3&#45;&gt;relu3_2</title>\n",
       "<path fill=\"none\" stroke=\"#000000\" d=\"M52.7174,-1399.6321C52.7174,-1391.1148 52.7174,-1382.2539 52.7174,-1374.2088\"/>\n",
       "<polygon fill=\"#000000\" stroke=\"#000000\" points=\"52.7174,-1409.7731 48.2175,-1399.773 52.7174,-1404.7731 52.7175,-1399.7731 52.7175,-1399.7731 52.7175,-1399.7731 52.7174,-1404.7731 57.2175,-1399.7731 52.7174,-1409.7731 52.7174,-1409.7731\"/>\n",
       "</g>\n",
       "<!-- relu3_3 -->\n",
       "<g id=\"node17\" class=\"node\">\n",
       "<title>relu3_3</title>\n",
       "<polygon fill=\"#ffffb3\" stroke=\"#000000\" points=\"99.7174,-1562 5.7174,-1562 5.7174,-1504 99.7174,-1504 99.7174,-1562\"/>\n",
       "<text text-anchor=\"middle\" x=\"52.7174\" y=\"-1537.2\" font-family=\"Times,serif\" font-size=\"14.00\" fill=\"#000000\">Activation</text>\n",
       "<text text-anchor=\"middle\" x=\"52.7174\" y=\"-1520.4\" font-family=\"Times,serif\" font-size=\"14.00\" fill=\"#000000\">relu</text>\n",
       "</g>\n",
       "<!-- relu3_3&#45;&gt;conv3_3 -->\n",
       "<g id=\"edge16\" class=\"edge\">\n",
       "<title>relu3_3&#45;&gt;conv3_3</title>\n",
       "<path fill=\"none\" stroke=\"#000000\" d=\"M52.7174,-1493.6321C52.7174,-1485.1148 52.7174,-1476.2539 52.7174,-1468.2088\"/>\n",
       "<polygon fill=\"#000000\" stroke=\"#000000\" points=\"52.7174,-1503.7731 48.2175,-1493.773 52.7174,-1498.7731 52.7175,-1493.7731 52.7175,-1493.7731 52.7175,-1493.7731 52.7174,-1498.7731 57.2175,-1493.7731 52.7174,-1503.7731 52.7174,-1503.7731\"/>\n",
       "</g>\n",
       "<!-- conv3_4 -->\n",
       "<g id=\"node18\" class=\"node\">\n",
       "<title>conv3_4</title>\n",
       "<polygon fill=\"#fb8072\" stroke=\"#000000\" points=\"99.7174,-1656 5.7174,-1656 5.7174,-1598 99.7174,-1598 99.7174,-1656\"/>\n",
       "<text text-anchor=\"middle\" x=\"52.7174\" y=\"-1631.2\" font-family=\"Times,serif\" font-size=\"14.00\" fill=\"#000000\">Convolution</text>\n",
       "<text text-anchor=\"middle\" x=\"52.7174\" y=\"-1614.4\" font-family=\"Times,serif\" font-size=\"14.00\" fill=\"#000000\">3x3/1x1, 256</text>\n",
       "</g>\n",
       "<!-- conv3_4&#45;&gt;relu3_3 -->\n",
       "<g id=\"edge17\" class=\"edge\">\n",
       "<title>conv3_4&#45;&gt;relu3_3</title>\n",
       "<path fill=\"none\" stroke=\"#000000\" d=\"M52.7174,-1587.6321C52.7174,-1579.1148 52.7174,-1570.2539 52.7174,-1562.2088\"/>\n",
       "<polygon fill=\"#000000\" stroke=\"#000000\" points=\"52.7174,-1597.7731 48.2175,-1587.773 52.7174,-1592.7731 52.7175,-1587.7731 52.7175,-1587.7731 52.7175,-1587.7731 52.7174,-1592.7731 57.2175,-1587.7731 52.7174,-1597.7731 52.7174,-1597.7731\"/>\n",
       "</g>\n",
       "<!-- relu3_4 -->\n",
       "<g id=\"node19\" class=\"node\">\n",
       "<title>relu3_4</title>\n",
       "<polygon fill=\"#ffffb3\" stroke=\"#000000\" points=\"99.7174,-1750 5.7174,-1750 5.7174,-1692 99.7174,-1692 99.7174,-1750\"/>\n",
       "<text text-anchor=\"middle\" x=\"52.7174\" y=\"-1725.2\" font-family=\"Times,serif\" font-size=\"14.00\" fill=\"#000000\">Activation</text>\n",
       "<text text-anchor=\"middle\" x=\"52.7174\" y=\"-1708.4\" font-family=\"Times,serif\" font-size=\"14.00\" fill=\"#000000\">relu</text>\n",
       "</g>\n",
       "<!-- relu3_4&#45;&gt;conv3_4 -->\n",
       "<g id=\"edge18\" class=\"edge\">\n",
       "<title>relu3_4&#45;&gt;conv3_4</title>\n",
       "<path fill=\"none\" stroke=\"#000000\" d=\"M52.7174,-1681.6321C52.7174,-1673.1148 52.7174,-1664.2539 52.7174,-1656.2088\"/>\n",
       "<polygon fill=\"#000000\" stroke=\"#000000\" points=\"52.7174,-1691.7731 48.2175,-1681.773 52.7174,-1686.7731 52.7175,-1681.7731 52.7175,-1681.7731 52.7175,-1681.7731 52.7174,-1686.7731 57.2175,-1681.7731 52.7174,-1691.7731 52.7174,-1691.7731\"/>\n",
       "</g>\n",
       "<!-- pool3 -->\n",
       "<g id=\"node20\" class=\"node\">\n",
       "<title>pool3</title>\n",
       "<polygon fill=\"#80b1d3\" stroke=\"#000000\" points=\"99.7174,-1844 5.7174,-1844 5.7174,-1786 99.7174,-1786 99.7174,-1844\"/>\n",
       "<text text-anchor=\"middle\" x=\"52.7174\" y=\"-1819.2\" font-family=\"Times,serif\" font-size=\"14.00\" fill=\"#000000\">Pooling</text>\n",
       "<text text-anchor=\"middle\" x=\"52.7174\" y=\"-1802.4\" font-family=\"Times,serif\" font-size=\"14.00\" fill=\"#000000\">max, 2x2/2x2</text>\n",
       "</g>\n",
       "<!-- pool3&#45;&gt;relu3_4 -->\n",
       "<g id=\"edge19\" class=\"edge\">\n",
       "<title>pool3&#45;&gt;relu3_4</title>\n",
       "<path fill=\"none\" stroke=\"#000000\" d=\"M52.7174,-1775.6321C52.7174,-1767.1148 52.7174,-1758.2539 52.7174,-1750.2088\"/>\n",
       "<polygon fill=\"#000000\" stroke=\"#000000\" points=\"52.7174,-1785.7731 48.2175,-1775.773 52.7174,-1780.7731 52.7175,-1775.7731 52.7175,-1775.7731 52.7175,-1775.7731 52.7174,-1780.7731 57.2175,-1775.7731 52.7174,-1785.7731 52.7174,-1785.7731\"/>\n",
       "</g>\n",
       "<!-- conv4_1 -->\n",
       "<g id=\"node21\" class=\"node\">\n",
       "<title>conv4_1</title>\n",
       "<polygon fill=\"#fb8072\" stroke=\"#000000\" points=\"99.7174,-1938 5.7174,-1938 5.7174,-1880 99.7174,-1880 99.7174,-1938\"/>\n",
       "<text text-anchor=\"middle\" x=\"52.7174\" y=\"-1913.2\" font-family=\"Times,serif\" font-size=\"14.00\" fill=\"#000000\">Convolution</text>\n",
       "<text text-anchor=\"middle\" x=\"52.7174\" y=\"-1896.4\" font-family=\"Times,serif\" font-size=\"14.00\" fill=\"#000000\">3x3/1x1, 512</text>\n",
       "</g>\n",
       "<!-- conv4_1&#45;&gt;pool3 -->\n",
       "<g id=\"edge20\" class=\"edge\">\n",
       "<title>conv4_1&#45;&gt;pool3</title>\n",
       "<path fill=\"none\" stroke=\"#000000\" d=\"M52.7174,-1869.6321C52.7174,-1861.1148 52.7174,-1852.2539 52.7174,-1844.2088\"/>\n",
       "<polygon fill=\"#000000\" stroke=\"#000000\" points=\"52.7174,-1879.7731 48.2175,-1869.773 52.7174,-1874.7731 52.7175,-1869.7731 52.7175,-1869.7731 52.7175,-1869.7731 52.7174,-1874.7731 57.2175,-1869.7731 52.7174,-1879.7731 52.7174,-1879.7731\"/>\n",
       "</g>\n",
       "<!-- relu4_1 -->\n",
       "<g id=\"node22\" class=\"node\">\n",
       "<title>relu4_1</title>\n",
       "<polygon fill=\"#ffffb3\" stroke=\"#000000\" points=\"99.7174,-2032 5.7174,-2032 5.7174,-1974 99.7174,-1974 99.7174,-2032\"/>\n",
       "<text text-anchor=\"middle\" x=\"52.7174\" y=\"-2007.2\" font-family=\"Times,serif\" font-size=\"14.00\" fill=\"#000000\">Activation</text>\n",
       "<text text-anchor=\"middle\" x=\"52.7174\" y=\"-1990.4\" font-family=\"Times,serif\" font-size=\"14.00\" fill=\"#000000\">relu</text>\n",
       "</g>\n",
       "<!-- relu4_1&#45;&gt;conv4_1 -->\n",
       "<g id=\"edge21\" class=\"edge\">\n",
       "<title>relu4_1&#45;&gt;conv4_1</title>\n",
       "<path fill=\"none\" stroke=\"#000000\" d=\"M52.7174,-1963.6321C52.7174,-1955.1148 52.7174,-1946.2539 52.7174,-1938.2088\"/>\n",
       "<polygon fill=\"#000000\" stroke=\"#000000\" points=\"52.7174,-1973.7731 48.2175,-1963.773 52.7174,-1968.7731 52.7175,-1963.7731 52.7175,-1963.7731 52.7175,-1963.7731 52.7174,-1968.7731 57.2175,-1963.7731 52.7174,-1973.7731 52.7174,-1973.7731\"/>\n",
       "</g>\n",
       "<!-- conv4_2 -->\n",
       "<g id=\"node23\" class=\"node\">\n",
       "<title>conv4_2</title>\n",
       "<polygon fill=\"#fb8072\" stroke=\"#000000\" points=\"99.7174,-2126 5.7174,-2126 5.7174,-2068 99.7174,-2068 99.7174,-2126\"/>\n",
       "<text text-anchor=\"middle\" x=\"52.7174\" y=\"-2101.2\" font-family=\"Times,serif\" font-size=\"14.00\" fill=\"#000000\">Convolution</text>\n",
       "<text text-anchor=\"middle\" x=\"52.7174\" y=\"-2084.4\" font-family=\"Times,serif\" font-size=\"14.00\" fill=\"#000000\">3x3/1x1, 512</text>\n",
       "</g>\n",
       "<!-- conv4_2&#45;&gt;relu4_1 -->\n",
       "<g id=\"edge22\" class=\"edge\">\n",
       "<title>conv4_2&#45;&gt;relu4_1</title>\n",
       "<path fill=\"none\" stroke=\"#000000\" d=\"M52.7174,-2057.6321C52.7174,-2049.1148 52.7174,-2040.2539 52.7174,-2032.2088\"/>\n",
       "<polygon fill=\"#000000\" stroke=\"#000000\" points=\"52.7174,-2067.7731 48.2175,-2057.773 52.7174,-2062.7731 52.7175,-2057.7731 52.7175,-2057.7731 52.7175,-2057.7731 52.7174,-2062.7731 57.2175,-2057.7731 52.7174,-2067.7731 52.7174,-2067.7731\"/>\n",
       "</g>\n",
       "<!-- relu4_2 -->\n",
       "<g id=\"node24\" class=\"node\">\n",
       "<title>relu4_2</title>\n",
       "<polygon fill=\"#ffffb3\" stroke=\"#000000\" points=\"99.7174,-2220 5.7174,-2220 5.7174,-2162 99.7174,-2162 99.7174,-2220\"/>\n",
       "<text text-anchor=\"middle\" x=\"52.7174\" y=\"-2195.2\" font-family=\"Times,serif\" font-size=\"14.00\" fill=\"#000000\">Activation</text>\n",
       "<text text-anchor=\"middle\" x=\"52.7174\" y=\"-2178.4\" font-family=\"Times,serif\" font-size=\"14.00\" fill=\"#000000\">relu</text>\n",
       "</g>\n",
       "<!-- relu4_2&#45;&gt;conv4_2 -->\n",
       "<g id=\"edge23\" class=\"edge\">\n",
       "<title>relu4_2&#45;&gt;conv4_2</title>\n",
       "<path fill=\"none\" stroke=\"#000000\" d=\"M52.7174,-2151.6321C52.7174,-2143.1148 52.7174,-2134.2539 52.7174,-2126.2088\"/>\n",
       "<polygon fill=\"#000000\" stroke=\"#000000\" points=\"52.7174,-2161.7731 48.2175,-2151.773 52.7174,-2156.7731 52.7175,-2151.7731 52.7175,-2151.7731 52.7175,-2151.7731 52.7174,-2156.7731 57.2175,-2151.7731 52.7174,-2161.7731 52.7174,-2161.7731\"/>\n",
       "</g>\n",
       "<!-- conv4_3 -->\n",
       "<g id=\"node25\" class=\"node\">\n",
       "<title>conv4_3</title>\n",
       "<polygon fill=\"#fb8072\" stroke=\"#000000\" points=\"99.7174,-2314 5.7174,-2314 5.7174,-2256 99.7174,-2256 99.7174,-2314\"/>\n",
       "<text text-anchor=\"middle\" x=\"52.7174\" y=\"-2289.2\" font-family=\"Times,serif\" font-size=\"14.00\" fill=\"#000000\">Convolution</text>\n",
       "<text text-anchor=\"middle\" x=\"52.7174\" y=\"-2272.4\" font-family=\"Times,serif\" font-size=\"14.00\" fill=\"#000000\">3x3/1x1, 512</text>\n",
       "</g>\n",
       "<!-- conv4_3&#45;&gt;relu4_2 -->\n",
       "<g id=\"edge24\" class=\"edge\">\n",
       "<title>conv4_3&#45;&gt;relu4_2</title>\n",
       "<path fill=\"none\" stroke=\"#000000\" d=\"M52.7174,-2245.6321C52.7174,-2237.1148 52.7174,-2228.2539 52.7174,-2220.2088\"/>\n",
       "<polygon fill=\"#000000\" stroke=\"#000000\" points=\"52.7174,-2255.7731 48.2175,-2245.773 52.7174,-2250.7731 52.7175,-2245.7731 52.7175,-2245.7731 52.7175,-2245.7731 52.7174,-2250.7731 57.2175,-2245.7731 52.7174,-2255.7731 52.7174,-2255.7731\"/>\n",
       "</g>\n",
       "<!-- relu4_3 -->\n",
       "<g id=\"node26\" class=\"node\">\n",
       "<title>relu4_3</title>\n",
       "<polygon fill=\"#ffffb3\" stroke=\"#000000\" points=\"99.7174,-2408 5.7174,-2408 5.7174,-2350 99.7174,-2350 99.7174,-2408\"/>\n",
       "<text text-anchor=\"middle\" x=\"52.7174\" y=\"-2383.2\" font-family=\"Times,serif\" font-size=\"14.00\" fill=\"#000000\">Activation</text>\n",
       "<text text-anchor=\"middle\" x=\"52.7174\" y=\"-2366.4\" font-family=\"Times,serif\" font-size=\"14.00\" fill=\"#000000\">relu</text>\n",
       "</g>\n",
       "<!-- relu4_3&#45;&gt;conv4_3 -->\n",
       "<g id=\"edge25\" class=\"edge\">\n",
       "<title>relu4_3&#45;&gt;conv4_3</title>\n",
       "<path fill=\"none\" stroke=\"#000000\" d=\"M52.7174,-2339.6321C52.7174,-2331.1148 52.7174,-2322.2539 52.7174,-2314.2088\"/>\n",
       "<polygon fill=\"#000000\" stroke=\"#000000\" points=\"52.7174,-2349.7731 48.2175,-2339.773 52.7174,-2344.7731 52.7175,-2339.7731 52.7175,-2339.7731 52.7175,-2339.7731 52.7174,-2344.7731 57.2175,-2339.7731 52.7174,-2349.7731 52.7174,-2349.7731\"/>\n",
       "</g>\n",
       "<!-- conv4_4 -->\n",
       "<g id=\"node27\" class=\"node\">\n",
       "<title>conv4_4</title>\n",
       "<polygon fill=\"#fb8072\" stroke=\"#000000\" points=\"99.7174,-2502 5.7174,-2502 5.7174,-2444 99.7174,-2444 99.7174,-2502\"/>\n",
       "<text text-anchor=\"middle\" x=\"52.7174\" y=\"-2477.2\" font-family=\"Times,serif\" font-size=\"14.00\" fill=\"#000000\">Convolution</text>\n",
       "<text text-anchor=\"middle\" x=\"52.7174\" y=\"-2460.4\" font-family=\"Times,serif\" font-size=\"14.00\" fill=\"#000000\">3x3/1x1, 512</text>\n",
       "</g>\n",
       "<!-- conv4_4&#45;&gt;relu4_3 -->\n",
       "<g id=\"edge26\" class=\"edge\">\n",
       "<title>conv4_4&#45;&gt;relu4_3</title>\n",
       "<path fill=\"none\" stroke=\"#000000\" d=\"M52.7174,-2433.6321C52.7174,-2425.1148 52.7174,-2416.2539 52.7174,-2408.2088\"/>\n",
       "<polygon fill=\"#000000\" stroke=\"#000000\" points=\"52.7174,-2443.7731 48.2175,-2433.773 52.7174,-2438.7731 52.7175,-2433.7731 52.7175,-2433.7731 52.7175,-2433.7731 52.7174,-2438.7731 57.2175,-2433.7731 52.7174,-2443.7731 52.7174,-2443.7731\"/>\n",
       "</g>\n",
       "<!-- relu4_4 -->\n",
       "<g id=\"node28\" class=\"node\">\n",
       "<title>relu4_4</title>\n",
       "<polygon fill=\"#ffffb3\" stroke=\"#000000\" points=\"99.7174,-2596 5.7174,-2596 5.7174,-2538 99.7174,-2538 99.7174,-2596\"/>\n",
       "<text text-anchor=\"middle\" x=\"52.7174\" y=\"-2571.2\" font-family=\"Times,serif\" font-size=\"14.00\" fill=\"#000000\">Activation</text>\n",
       "<text text-anchor=\"middle\" x=\"52.7174\" y=\"-2554.4\" font-family=\"Times,serif\" font-size=\"14.00\" fill=\"#000000\">relu</text>\n",
       "</g>\n",
       "<!-- relu4_4&#45;&gt;conv4_4 -->\n",
       "<g id=\"edge27\" class=\"edge\">\n",
       "<title>relu4_4&#45;&gt;conv4_4</title>\n",
       "<path fill=\"none\" stroke=\"#000000\" d=\"M52.7174,-2527.6321C52.7174,-2519.1148 52.7174,-2510.2539 52.7174,-2502.2088\"/>\n",
       "<polygon fill=\"#000000\" stroke=\"#000000\" points=\"52.7174,-2537.7731 48.2175,-2527.773 52.7174,-2532.7731 52.7175,-2527.7731 52.7175,-2527.7731 52.7175,-2527.7731 52.7174,-2532.7731 57.2175,-2527.7731 52.7174,-2537.7731 52.7174,-2537.7731\"/>\n",
       "</g>\n",
       "<!-- pool4 -->\n",
       "<g id=\"node29\" class=\"node\">\n",
       "<title>pool4</title>\n",
       "<polygon fill=\"#80b1d3\" stroke=\"#000000\" points=\"99.7174,-2690 5.7174,-2690 5.7174,-2632 99.7174,-2632 99.7174,-2690\"/>\n",
       "<text text-anchor=\"middle\" x=\"52.7174\" y=\"-2665.2\" font-family=\"Times,serif\" font-size=\"14.00\" fill=\"#000000\">Pooling</text>\n",
       "<text text-anchor=\"middle\" x=\"52.7174\" y=\"-2648.4\" font-family=\"Times,serif\" font-size=\"14.00\" fill=\"#000000\">max, 2x2/2x2</text>\n",
       "</g>\n",
       "<!-- pool4&#45;&gt;relu4_4 -->\n",
       "<g id=\"edge28\" class=\"edge\">\n",
       "<title>pool4&#45;&gt;relu4_4</title>\n",
       "<path fill=\"none\" stroke=\"#000000\" d=\"M52.7174,-2621.6321C52.7174,-2613.1148 52.7174,-2604.2539 52.7174,-2596.2088\"/>\n",
       "<polygon fill=\"#000000\" stroke=\"#000000\" points=\"52.7174,-2631.7731 48.2175,-2621.773 52.7174,-2626.7731 52.7175,-2621.7731 52.7175,-2621.7731 52.7175,-2621.7731 52.7174,-2626.7731 57.2175,-2621.7731 52.7174,-2631.7731 52.7174,-2631.7731\"/>\n",
       "</g>\n",
       "<!-- conv5_1 -->\n",
       "<g id=\"node30\" class=\"node\">\n",
       "<title>conv5_1</title>\n",
       "<polygon fill=\"#fb8072\" stroke=\"#000000\" points=\"99.7174,-2784 5.7174,-2784 5.7174,-2726 99.7174,-2726 99.7174,-2784\"/>\n",
       "<text text-anchor=\"middle\" x=\"52.7174\" y=\"-2759.2\" font-family=\"Times,serif\" font-size=\"14.00\" fill=\"#000000\">Convolution</text>\n",
       "<text text-anchor=\"middle\" x=\"52.7174\" y=\"-2742.4\" font-family=\"Times,serif\" font-size=\"14.00\" fill=\"#000000\">3x3/1x1, 512</text>\n",
       "</g>\n",
       "<!-- conv5_1&#45;&gt;pool4 -->\n",
       "<g id=\"edge29\" class=\"edge\">\n",
       "<title>conv5_1&#45;&gt;pool4</title>\n",
       "<path fill=\"none\" stroke=\"#000000\" d=\"M52.7174,-2715.6321C52.7174,-2707.1148 52.7174,-2698.2539 52.7174,-2690.2088\"/>\n",
       "<polygon fill=\"#000000\" stroke=\"#000000\" points=\"52.7174,-2725.7731 48.2175,-2715.773 52.7174,-2720.7731 52.7175,-2715.7731 52.7175,-2715.7731 52.7175,-2715.7731 52.7174,-2720.7731 57.2175,-2715.7731 52.7174,-2725.7731 52.7174,-2725.7731\"/>\n",
       "</g>\n",
       "<!-- relu5_1 -->\n",
       "<g id=\"node31\" class=\"node\">\n",
       "<title>relu5_1</title>\n",
       "<polygon fill=\"#ffffb3\" stroke=\"#000000\" points=\"99.7174,-2878 5.7174,-2878 5.7174,-2820 99.7174,-2820 99.7174,-2878\"/>\n",
       "<text text-anchor=\"middle\" x=\"52.7174\" y=\"-2853.2\" font-family=\"Times,serif\" font-size=\"14.00\" fill=\"#000000\">Activation</text>\n",
       "<text text-anchor=\"middle\" x=\"52.7174\" y=\"-2836.4\" font-family=\"Times,serif\" font-size=\"14.00\" fill=\"#000000\">relu</text>\n",
       "</g>\n",
       "<!-- relu5_1&#45;&gt;conv5_1 -->\n",
       "<g id=\"edge30\" class=\"edge\">\n",
       "<title>relu5_1&#45;&gt;conv5_1</title>\n",
       "<path fill=\"none\" stroke=\"#000000\" d=\"M52.7174,-2809.6321C52.7174,-2801.1148 52.7174,-2792.2539 52.7174,-2784.2088\"/>\n",
       "<polygon fill=\"#000000\" stroke=\"#000000\" points=\"52.7174,-2819.7731 48.2175,-2809.773 52.7174,-2814.7731 52.7175,-2809.7731 52.7175,-2809.7731 52.7175,-2809.7731 52.7174,-2814.7731 57.2175,-2809.7731 52.7174,-2819.7731 52.7174,-2819.7731\"/>\n",
       "</g>\n",
       "<!-- conv5_2 -->\n",
       "<g id=\"node32\" class=\"node\">\n",
       "<title>conv5_2</title>\n",
       "<polygon fill=\"#fb8072\" stroke=\"#000000\" points=\"99.7174,-2972 5.7174,-2972 5.7174,-2914 99.7174,-2914 99.7174,-2972\"/>\n",
       "<text text-anchor=\"middle\" x=\"52.7174\" y=\"-2947.2\" font-family=\"Times,serif\" font-size=\"14.00\" fill=\"#000000\">Convolution</text>\n",
       "<text text-anchor=\"middle\" x=\"52.7174\" y=\"-2930.4\" font-family=\"Times,serif\" font-size=\"14.00\" fill=\"#000000\">3x3/1x1, 512</text>\n",
       "</g>\n",
       "<!-- conv5_2&#45;&gt;relu5_1 -->\n",
       "<g id=\"edge31\" class=\"edge\">\n",
       "<title>conv5_2&#45;&gt;relu5_1</title>\n",
       "<path fill=\"none\" stroke=\"#000000\" d=\"M52.7174,-2903.6321C52.7174,-2895.1148 52.7174,-2886.2539 52.7174,-2878.2088\"/>\n",
       "<polygon fill=\"#000000\" stroke=\"#000000\" points=\"52.7174,-2913.7731 48.2175,-2903.773 52.7174,-2908.7731 52.7175,-2903.7731 52.7175,-2903.7731 52.7175,-2903.7731 52.7174,-2908.7731 57.2175,-2903.7731 52.7174,-2913.7731 52.7174,-2913.7731\"/>\n",
       "</g>\n",
       "<!-- relu5_2 -->\n",
       "<g id=\"node33\" class=\"node\">\n",
       "<title>relu5_2</title>\n",
       "<polygon fill=\"#ffffb3\" stroke=\"#000000\" points=\"99.7174,-3066 5.7174,-3066 5.7174,-3008 99.7174,-3008 99.7174,-3066\"/>\n",
       "<text text-anchor=\"middle\" x=\"52.7174\" y=\"-3041.2\" font-family=\"Times,serif\" font-size=\"14.00\" fill=\"#000000\">Activation</text>\n",
       "<text text-anchor=\"middle\" x=\"52.7174\" y=\"-3024.4\" font-family=\"Times,serif\" font-size=\"14.00\" fill=\"#000000\">relu</text>\n",
       "</g>\n",
       "<!-- relu5_2&#45;&gt;conv5_2 -->\n",
       "<g id=\"edge32\" class=\"edge\">\n",
       "<title>relu5_2&#45;&gt;conv5_2</title>\n",
       "<path fill=\"none\" stroke=\"#000000\" d=\"M52.7174,-2997.6321C52.7174,-2989.1148 52.7174,-2980.2539 52.7174,-2972.2088\"/>\n",
       "<polygon fill=\"#000000\" stroke=\"#000000\" points=\"52.7174,-3007.7731 48.2175,-2997.773 52.7174,-3002.7731 52.7175,-2997.7731 52.7175,-2997.7731 52.7175,-2997.7731 52.7174,-3002.7731 57.2175,-2997.7731 52.7174,-3007.7731 52.7174,-3007.7731\"/>\n",
       "</g>\n",
       "<!-- conv5_3 -->\n",
       "<g id=\"node34\" class=\"node\">\n",
       "<title>conv5_3</title>\n",
       "<polygon fill=\"#fb8072\" stroke=\"#000000\" points=\"99.7174,-3160 5.7174,-3160 5.7174,-3102 99.7174,-3102 99.7174,-3160\"/>\n",
       "<text text-anchor=\"middle\" x=\"52.7174\" y=\"-3135.2\" font-family=\"Times,serif\" font-size=\"14.00\" fill=\"#000000\">Convolution</text>\n",
       "<text text-anchor=\"middle\" x=\"52.7174\" y=\"-3118.4\" font-family=\"Times,serif\" font-size=\"14.00\" fill=\"#000000\">3x3/1x1, 512</text>\n",
       "</g>\n",
       "<!-- conv5_3&#45;&gt;relu5_2 -->\n",
       "<g id=\"edge33\" class=\"edge\">\n",
       "<title>conv5_3&#45;&gt;relu5_2</title>\n",
       "<path fill=\"none\" stroke=\"#000000\" d=\"M52.7174,-3091.6321C52.7174,-3083.1148 52.7174,-3074.2539 52.7174,-3066.2088\"/>\n",
       "<polygon fill=\"#000000\" stroke=\"#000000\" points=\"52.7174,-3101.7731 48.2175,-3091.773 52.7174,-3096.7731 52.7175,-3091.7731 52.7175,-3091.7731 52.7175,-3091.7731 52.7174,-3096.7731 57.2175,-3091.7731 52.7174,-3101.7731 52.7174,-3101.7731\"/>\n",
       "</g>\n",
       "<!-- relu5_3 -->\n",
       "<g id=\"node35\" class=\"node\">\n",
       "<title>relu5_3</title>\n",
       "<polygon fill=\"#ffffb3\" stroke=\"#000000\" points=\"99.7174,-3254 5.7174,-3254 5.7174,-3196 99.7174,-3196 99.7174,-3254\"/>\n",
       "<text text-anchor=\"middle\" x=\"52.7174\" y=\"-3229.2\" font-family=\"Times,serif\" font-size=\"14.00\" fill=\"#000000\">Activation</text>\n",
       "<text text-anchor=\"middle\" x=\"52.7174\" y=\"-3212.4\" font-family=\"Times,serif\" font-size=\"14.00\" fill=\"#000000\">relu</text>\n",
       "</g>\n",
       "<!-- relu5_3&#45;&gt;conv5_3 -->\n",
       "<g id=\"edge34\" class=\"edge\">\n",
       "<title>relu5_3&#45;&gt;conv5_3</title>\n",
       "<path fill=\"none\" stroke=\"#000000\" d=\"M52.7174,-3185.6321C52.7174,-3177.1148 52.7174,-3168.2539 52.7174,-3160.2088\"/>\n",
       "<polygon fill=\"#000000\" stroke=\"#000000\" points=\"52.7174,-3195.7731 48.2175,-3185.773 52.7174,-3190.7731 52.7175,-3185.7731 52.7175,-3185.7731 52.7175,-3185.7731 52.7174,-3190.7731 57.2175,-3185.7731 52.7174,-3195.7731 52.7174,-3195.7731\"/>\n",
       "</g>\n",
       "<!-- conv5_4 -->\n",
       "<g id=\"node36\" class=\"node\">\n",
       "<title>conv5_4</title>\n",
       "<polygon fill=\"#fb8072\" stroke=\"#000000\" points=\"99.7174,-3348 5.7174,-3348 5.7174,-3290 99.7174,-3290 99.7174,-3348\"/>\n",
       "<text text-anchor=\"middle\" x=\"52.7174\" y=\"-3323.2\" font-family=\"Times,serif\" font-size=\"14.00\" fill=\"#000000\">Convolution</text>\n",
       "<text text-anchor=\"middle\" x=\"52.7174\" y=\"-3306.4\" font-family=\"Times,serif\" font-size=\"14.00\" fill=\"#000000\">3x3/1x1, 512</text>\n",
       "</g>\n",
       "<!-- conv5_4&#45;&gt;relu5_3 -->\n",
       "<g id=\"edge35\" class=\"edge\">\n",
       "<title>conv5_4&#45;&gt;relu5_3</title>\n",
       "<path fill=\"none\" stroke=\"#000000\" d=\"M52.7174,-3279.6321C52.7174,-3271.1148 52.7174,-3262.2539 52.7174,-3254.2088\"/>\n",
       "<polygon fill=\"#000000\" stroke=\"#000000\" points=\"52.7174,-3289.7731 48.2175,-3279.773 52.7174,-3284.7731 52.7175,-3279.7731 52.7175,-3279.7731 52.7175,-3279.7731 52.7174,-3284.7731 57.2175,-3279.7731 52.7174,-3289.7731 52.7174,-3289.7731\"/>\n",
       "</g>\n",
       "<!-- relu5_4 -->\n",
       "<g id=\"node37\" class=\"node\">\n",
       "<title>relu5_4</title>\n",
       "<polygon fill=\"#ffffb3\" stroke=\"#000000\" points=\"99.7174,-3442 5.7174,-3442 5.7174,-3384 99.7174,-3384 99.7174,-3442\"/>\n",
       "<text text-anchor=\"middle\" x=\"52.7174\" y=\"-3417.2\" font-family=\"Times,serif\" font-size=\"14.00\" fill=\"#000000\">Activation</text>\n",
       "<text text-anchor=\"middle\" x=\"52.7174\" y=\"-3400.4\" font-family=\"Times,serif\" font-size=\"14.00\" fill=\"#000000\">relu</text>\n",
       "</g>\n",
       "<!-- relu5_4&#45;&gt;conv5_4 -->\n",
       "<g id=\"edge36\" class=\"edge\">\n",
       "<title>relu5_4&#45;&gt;conv5_4</title>\n",
       "<path fill=\"none\" stroke=\"#000000\" d=\"M52.7174,-3373.6321C52.7174,-3365.1148 52.7174,-3356.2539 52.7174,-3348.2088\"/>\n",
       "<polygon fill=\"#000000\" stroke=\"#000000\" points=\"52.7174,-3383.7731 48.2175,-3373.773 52.7174,-3378.7731 52.7175,-3373.7731 52.7175,-3373.7731 52.7175,-3373.7731 52.7174,-3378.7731 57.2175,-3373.7731 52.7174,-3383.7731 52.7174,-3383.7731\"/>\n",
       "</g>\n",
       "<!-- pool5 -->\n",
       "<g id=\"node38\" class=\"node\">\n",
       "<title>pool5</title>\n",
       "<polygon fill=\"#80b1d3\" stroke=\"#000000\" points=\"99.7174,-3536 5.7174,-3536 5.7174,-3478 99.7174,-3478 99.7174,-3536\"/>\n",
       "<text text-anchor=\"middle\" x=\"52.7174\" y=\"-3511.2\" font-family=\"Times,serif\" font-size=\"14.00\" fill=\"#000000\">Pooling</text>\n",
       "<text text-anchor=\"middle\" x=\"52.7174\" y=\"-3494.4\" font-family=\"Times,serif\" font-size=\"14.00\" fill=\"#000000\">max, 2x2/2x2</text>\n",
       "</g>\n",
       "<!-- pool5&#45;&gt;relu5_4 -->\n",
       "<g id=\"edge37\" class=\"edge\">\n",
       "<title>pool5&#45;&gt;relu5_4</title>\n",
       "<path fill=\"none\" stroke=\"#000000\" d=\"M52.7174,-3467.6321C52.7174,-3459.1148 52.7174,-3450.2539 52.7174,-3442.2088\"/>\n",
       "<polygon fill=\"#000000\" stroke=\"#000000\" points=\"52.7174,-3477.7731 48.2175,-3467.773 52.7174,-3472.7731 52.7175,-3467.7731 52.7175,-3467.7731 52.7175,-3467.7731 52.7174,-3472.7731 57.2175,-3467.7731 52.7174,-3477.7731 52.7174,-3477.7731\"/>\n",
       "</g>\n",
       "<!-- flatten_0 -->\n",
       "<g id=\"node39\" class=\"node\">\n",
       "<title>flatten_0</title>\n",
       "<polygon fill=\"#fdb462\" stroke=\"#000000\" points=\"99.7174,-3630 5.7174,-3630 5.7174,-3572 99.7174,-3572 99.7174,-3630\"/>\n",
       "<text text-anchor=\"middle\" x=\"52.7174\" y=\"-3596.8\" font-family=\"Times,serif\" font-size=\"14.00\" fill=\"#000000\">flatten_0</text>\n",
       "</g>\n",
       "<!-- flatten_0&#45;&gt;pool5 -->\n",
       "<g id=\"edge38\" class=\"edge\">\n",
       "<title>flatten_0&#45;&gt;pool5</title>\n",
       "<path fill=\"none\" stroke=\"#000000\" d=\"M52.7174,-3561.6321C52.7174,-3553.1148 52.7174,-3544.2539 52.7174,-3536.2088\"/>\n",
       "<polygon fill=\"#000000\" stroke=\"#000000\" points=\"52.7174,-3571.7731 48.2175,-3561.773 52.7174,-3566.7731 52.7175,-3561.7731 52.7175,-3561.7731 52.7175,-3561.7731 52.7174,-3566.7731 57.2175,-3561.7731 52.7174,-3571.7731 52.7174,-3571.7731\"/>\n",
       "</g>\n",
       "<!-- fc6 -->\n",
       "<g id=\"node40\" class=\"node\">\n",
       "<title>fc6</title>\n",
       "<polygon fill=\"#fb8072\" stroke=\"#000000\" points=\"105.6531,-3724 -.2183,-3724 -.2183,-3666 105.6531,-3666 105.6531,-3724\"/>\n",
       "<text text-anchor=\"middle\" x=\"52.7174\" y=\"-3699.2\" font-family=\"Times,serif\" font-size=\"14.00\" fill=\"#000000\">FullyConnected</text>\n",
       "<text text-anchor=\"middle\" x=\"52.7174\" y=\"-3682.4\" font-family=\"Times,serif\" font-size=\"14.00\" fill=\"#000000\">4096</text>\n",
       "</g>\n",
       "<!-- fc6&#45;&gt;flatten_0 -->\n",
       "<g id=\"edge39\" class=\"edge\">\n",
       "<title>fc6&#45;&gt;flatten_0</title>\n",
       "<path fill=\"none\" stroke=\"#000000\" d=\"M52.7174,-3655.6321C52.7174,-3647.1148 52.7174,-3638.2539 52.7174,-3630.2088\"/>\n",
       "<polygon fill=\"#000000\" stroke=\"#000000\" points=\"52.7174,-3665.7731 48.2175,-3655.773 52.7174,-3660.7731 52.7175,-3655.7731 52.7175,-3655.7731 52.7175,-3655.7731 52.7174,-3660.7731 57.2175,-3655.7731 52.7174,-3665.7731 52.7174,-3665.7731\"/>\n",
       "</g>\n",
       "<!-- relu6 -->\n",
       "<g id=\"node41\" class=\"node\">\n",
       "<title>relu6</title>\n",
       "<polygon fill=\"#ffffb3\" stroke=\"#000000\" points=\"99.7174,-3818 5.7174,-3818 5.7174,-3760 99.7174,-3760 99.7174,-3818\"/>\n",
       "<text text-anchor=\"middle\" x=\"52.7174\" y=\"-3793.2\" font-family=\"Times,serif\" font-size=\"14.00\" fill=\"#000000\">Activation</text>\n",
       "<text text-anchor=\"middle\" x=\"52.7174\" y=\"-3776.4\" font-family=\"Times,serif\" font-size=\"14.00\" fill=\"#000000\">relu</text>\n",
       "</g>\n",
       "<!-- relu6&#45;&gt;fc6 -->\n",
       "<g id=\"edge40\" class=\"edge\">\n",
       "<title>relu6&#45;&gt;fc6</title>\n",
       "<path fill=\"none\" stroke=\"#000000\" d=\"M52.7174,-3749.6321C52.7174,-3741.1148 52.7174,-3732.2539 52.7174,-3724.2088\"/>\n",
       "<polygon fill=\"#000000\" stroke=\"#000000\" points=\"52.7174,-3759.7731 48.2175,-3749.773 52.7174,-3754.7731 52.7175,-3749.7731 52.7175,-3749.7731 52.7175,-3749.7731 52.7174,-3754.7731 57.2175,-3749.7731 52.7174,-3759.7731 52.7174,-3759.7731\"/>\n",
       "</g>\n",
       "<!-- drop6 -->\n",
       "<g id=\"node42\" class=\"node\">\n",
       "<title>drop6</title>\n",
       "<polygon fill=\"#fccde5\" stroke=\"#000000\" points=\"99.7174,-3912 5.7174,-3912 5.7174,-3854 99.7174,-3854 99.7174,-3912\"/>\n",
       "<text text-anchor=\"middle\" x=\"52.7174\" y=\"-3878.8\" font-family=\"Times,serif\" font-size=\"14.00\" fill=\"#000000\">drop6</text>\n",
       "</g>\n",
       "<!-- drop6&#45;&gt;relu6 -->\n",
       "<g id=\"edge41\" class=\"edge\">\n",
       "<title>drop6&#45;&gt;relu6</title>\n",
       "<path fill=\"none\" stroke=\"#000000\" d=\"M52.7174,-3843.6321C52.7174,-3835.1148 52.7174,-3826.2539 52.7174,-3818.2088\"/>\n",
       "<polygon fill=\"#000000\" stroke=\"#000000\" points=\"52.7174,-3853.7731 48.2175,-3843.773 52.7174,-3848.7731 52.7175,-3843.7731 52.7175,-3843.7731 52.7175,-3843.7731 52.7174,-3848.7731 57.2175,-3843.7731 52.7174,-3853.7731 52.7174,-3853.7731\"/>\n",
       "</g>\n",
       "<!-- fc7 -->\n",
       "<g id=\"node43\" class=\"node\">\n",
       "<title>fc7</title>\n",
       "<polygon fill=\"#fb8072\" stroke=\"#000000\" points=\"105.6531,-4006 -.2183,-4006 -.2183,-3948 105.6531,-3948 105.6531,-4006\"/>\n",
       "<text text-anchor=\"middle\" x=\"52.7174\" y=\"-3981.2\" font-family=\"Times,serif\" font-size=\"14.00\" fill=\"#000000\">FullyConnected</text>\n",
       "<text text-anchor=\"middle\" x=\"52.7174\" y=\"-3964.4\" font-family=\"Times,serif\" font-size=\"14.00\" fill=\"#000000\">4096</text>\n",
       "</g>\n",
       "<!-- fc7&#45;&gt;drop6 -->\n",
       "<g id=\"edge42\" class=\"edge\">\n",
       "<title>fc7&#45;&gt;drop6</title>\n",
       "<path fill=\"none\" stroke=\"#000000\" d=\"M52.7174,-3937.6321C52.7174,-3929.1148 52.7174,-3920.2539 52.7174,-3912.2088\"/>\n",
       "<polygon fill=\"#000000\" stroke=\"#000000\" points=\"52.7174,-3947.7731 48.2175,-3937.773 52.7174,-3942.7731 52.7175,-3937.7731 52.7175,-3937.7731 52.7175,-3937.7731 52.7174,-3942.7731 57.2175,-3937.7731 52.7174,-3947.7731 52.7174,-3947.7731\"/>\n",
       "</g>\n",
       "<!-- relu7 -->\n",
       "<g id=\"node44\" class=\"node\">\n",
       "<title>relu7</title>\n",
       "<polygon fill=\"#ffffb3\" stroke=\"#000000\" points=\"99.7174,-4100 5.7174,-4100 5.7174,-4042 99.7174,-4042 99.7174,-4100\"/>\n",
       "<text text-anchor=\"middle\" x=\"52.7174\" y=\"-4075.2\" font-family=\"Times,serif\" font-size=\"14.00\" fill=\"#000000\">Activation</text>\n",
       "<text text-anchor=\"middle\" x=\"52.7174\" y=\"-4058.4\" font-family=\"Times,serif\" font-size=\"14.00\" fill=\"#000000\">relu</text>\n",
       "</g>\n",
       "<!-- relu7&#45;&gt;fc7 -->\n",
       "<g id=\"edge43\" class=\"edge\">\n",
       "<title>relu7&#45;&gt;fc7</title>\n",
       "<path fill=\"none\" stroke=\"#000000\" d=\"M52.7174,-4031.6321C52.7174,-4023.1148 52.7174,-4014.2539 52.7174,-4006.2088\"/>\n",
       "<polygon fill=\"#000000\" stroke=\"#000000\" points=\"52.7174,-4041.7731 48.2175,-4031.773 52.7174,-4036.7731 52.7175,-4031.7731 52.7175,-4031.7731 52.7175,-4031.7731 52.7174,-4036.7731 57.2175,-4031.7731 52.7174,-4041.7731 52.7174,-4041.7731\"/>\n",
       "</g>\n",
       "<!-- drop7 -->\n",
       "<g id=\"node45\" class=\"node\">\n",
       "<title>drop7</title>\n",
       "<polygon fill=\"#fccde5\" stroke=\"#000000\" points=\"99.7174,-4194 5.7174,-4194 5.7174,-4136 99.7174,-4136 99.7174,-4194\"/>\n",
       "<text text-anchor=\"middle\" x=\"52.7174\" y=\"-4160.8\" font-family=\"Times,serif\" font-size=\"14.00\" fill=\"#000000\">drop7</text>\n",
       "</g>\n",
       "<!-- drop7&#45;&gt;relu7 -->\n",
       "<g id=\"edge44\" class=\"edge\">\n",
       "<title>drop7&#45;&gt;relu7</title>\n",
       "<path fill=\"none\" stroke=\"#000000\" d=\"M52.7174,-4125.6321C52.7174,-4117.1148 52.7174,-4108.2539 52.7174,-4100.2088\"/>\n",
       "<polygon fill=\"#000000\" stroke=\"#000000\" points=\"52.7174,-4135.7731 48.2175,-4125.773 52.7174,-4130.7731 52.7175,-4125.7731 52.7175,-4125.7731 52.7175,-4125.7731 52.7174,-4130.7731 57.2175,-4125.7731 52.7174,-4135.7731 52.7174,-4135.7731\"/>\n",
       "</g>\n",
       "<!-- fc8 -->\n",
       "<g id=\"node46\" class=\"node\">\n",
       "<title>fc8</title>\n",
       "<polygon fill=\"#fb8072\" stroke=\"#000000\" points=\"105.6531,-4288 -.2183,-4288 -.2183,-4230 105.6531,-4230 105.6531,-4288\"/>\n",
       "<text text-anchor=\"middle\" x=\"52.7174\" y=\"-4263.2\" font-family=\"Times,serif\" font-size=\"14.00\" fill=\"#000000\">FullyConnected</text>\n",
       "<text text-anchor=\"middle\" x=\"52.7174\" y=\"-4246.4\" font-family=\"Times,serif\" font-size=\"14.00\" fill=\"#000000\">1000</text>\n",
       "</g>\n",
       "<!-- fc8&#45;&gt;drop7 -->\n",
       "<g id=\"edge45\" class=\"edge\">\n",
       "<title>fc8&#45;&gt;drop7</title>\n",
       "<path fill=\"none\" stroke=\"#000000\" d=\"M52.7174,-4219.6321C52.7174,-4211.1148 52.7174,-4202.2539 52.7174,-4194.2088\"/>\n",
       "<polygon fill=\"#000000\" stroke=\"#000000\" points=\"52.7174,-4229.7731 48.2175,-4219.773 52.7174,-4224.7731 52.7175,-4219.7731 52.7175,-4219.7731 52.7175,-4219.7731 52.7174,-4224.7731 57.2175,-4219.7731 52.7174,-4229.7731 52.7174,-4229.7731\"/>\n",
       "</g>\n",
       "<!-- prob_label -->\n",
       "<g id=\"node47\" class=\"node\">\n",
       "<title>prob_label</title>\n",
       "<ellipse fill=\"#8dd3c7\" stroke=\"#000000\" cx=\"170.7174\" cy=\"-4259\" rx=\"47\" ry=\"29\"/>\n",
       "<text text-anchor=\"middle\" x=\"170.7174\" y=\"-4254.8\" font-family=\"Times,serif\" font-size=\"14.00\" fill=\"#000000\">prob_label</text>\n",
       "</g>\n",
       "<!-- prob -->\n",
       "<g id=\"node48\" class=\"node\">\n",
       "<title>prob</title>\n",
       "<polygon fill=\"#fccde5\" stroke=\"#000000\" points=\"158.7174,-4382 64.7174,-4382 64.7174,-4324 158.7174,-4324 158.7174,-4382\"/>\n",
       "<text text-anchor=\"middle\" x=\"111.7174\" y=\"-4348.8\" font-family=\"Times,serif\" font-size=\"14.00\" fill=\"#000000\">prob</text>\n",
       "</g>\n",
       "<!-- prob&#45;&gt;fc8 -->\n",
       "<g id=\"edge46\" class=\"edge\">\n",
       "<title>prob&#45;&gt;fc8</title>\n",
       "<path fill=\"none\" stroke=\"#000000\" d=\"M87.8869,-4315.0328C82.2745,-4306.091 76.3776,-4296.6959 71.0506,-4288.2088\"/>\n",
       "<polygon fill=\"#000000\" stroke=\"#000000\" points=\"93.3728,-4323.7731 84.2452,-4317.6955 90.7147,-4319.5382 88.0566,-4315.3032 88.0566,-4315.3032 88.0566,-4315.3032 90.7147,-4319.5382 91.8681,-4312.9109 93.3728,-4323.7731 93.3728,-4323.7731\"/>\n",
       "</g>\n",
       "<!-- prob&#45;&gt;prob_label -->\n",
       "<g id=\"edge47\" class=\"edge\">\n",
       "<title>prob&#45;&gt;prob_label</title>\n",
       "<path fill=\"none\" stroke=\"#000000\" d=\"M135.4978,-4315.1126C141.5527,-4305.4659 147.9418,-4295.2865 153.5915,-4286.2854\"/>\n",
       "<polygon fill=\"#000000\" stroke=\"#000000\" points=\"130.062,-4323.7731 131.5667,-4312.9109 132.7201,-4319.5382 135.3782,-4315.3032 135.3782,-4315.3032 135.3782,-4315.3032 132.7201,-4319.5382 139.1896,-4317.6955 130.062,-4323.7731 130.062,-4323.7731\"/>\n",
       "</g>\n",
       "</g>\n",
       "</svg>\n"
      ],
      "text/plain": [
       "<graphviz.dot.Digraph at 0x11a183c18>"
      ]
     },
     "execution_count": 7,
     "metadata": {},
     "output_type": "execute_result"
    }
   ],
   "source": [
    "mh.visualize_net()"
   ]
  },
  {
   "cell_type": "markdown",
   "metadata": {},
   "source": [
    "## Feature Extraction\n",
    "\n",
    "ModelHandler makes it easy to extract features from a dataset using a pretrained model.\n",
    "\n",
    "By passing an MXNet DataIterator and a list of the layers to extract features from the `get_layer_output()` method will return a feature dictionary and an ordered list of labels."
   ]
  },
  {
   "cell_type": "code",
   "execution_count": 8,
   "metadata": {},
   "outputs": [
    {
     "name": "stderr",
     "output_type": "stream",
     "text": [
      "INFO:root:Using 1 threads for decoding...\n",
      "INFO:root:Set enviroment variable MXNET_CPU_WORKER_NTHREADS to a larger number to use more threads.\n",
      "INFO:root:ImageIter: loading image list...\n"
     ]
    }
   ],
   "source": [
    "imglist = [[0, 'test_images/accordion/accordion_1.jpg'], [0, 'test_images/accordion/accordion_2.jpg'], [0, 'test_images/accordion/accordion_3.jpg'],\n",
    "           [0, 'test_images/accordion/accordion_4.jpg'], [0, 'test_images/accordion/accordion_5.jpg'], [1, 'test_images/ant/ant_1.jpg'],\n",
    "           [1, 'test_images/ant/ant_2.jpg'], [1, 'test_images/ant/ant_3.jpg'], [1, 'test_images/ant/ant_4.jpg'], [1, 'test_images/ant/ant_5.jpg'],\n",
    "           [2, 'test_images/anchor/anchor_1.jpg'], [2, 'test_images/anchor/anchor_2.jpg'], [2, 'test_images/anchor/anchor_3.jpg'],\n",
    "           [2, 'test_images/anchor/anchor_4.jpg'], [2, 'test_images/anchor/anchor_5.jpg'], [3, 'test_images/airplanes/airplanes_1.jpg'],\n",
    "           [3, 'test_images/airplanes/airplanes_2.jpg'], [3, 'test_images/airplanes/airplanes_3.jpg'], [3, 'test_images/airplanes/airplanes_4.jpg'],\n",
    "           [3, 'test_images/airplanes/airplanes_5.jpg']]\n",
    "iterator = mx.img.ImageIter(imglist=imglist, batch_size=4, path_root='', data_shape=(3, 224, 224))"
   ]
  },
  {
   "cell_type": "code",
   "execution_count": 9,
   "metadata": {},
   "outputs": [
    {
     "name": "stderr",
     "output_type": "stream",
     "text": [
      "INFO:root:Extracting features from layers: fc6 fc8\n",
      "INFO:root:Processed batch 1\n",
      "INFO:root:Processed batch 2\n",
      "INFO:root:Processed batch 3\n",
      "INFO:root:Processed batch 4\n",
      "INFO:root:Processed batch 5\n"
     ]
    },
    {
     "name": "stdout",
     "output_type": "stream",
     "text": [
      "Shape of output from fc6: (20, 4096)\n",
      "Shape of output from fc8: (20, 1000)\n",
      "Labels: [0 0 0 0 0 1 1 1 1 1 2 2 2 2 2 3 3 3 3 3]\n",
      "Subset of example feature: [-2.5173218  -3.0606608  -0.18566455 -1.195584   -1.6561157  -0.3466432\n",
      " -0.27523482 -3.0833778  -3.987122   -4.711858   -2.5934136  -1.1821984\n",
      "  0.06423883 -3.5403426   0.36486915 -2.0515091  -3.3651357   0.47566187\n",
      " -0.93592185 -0.53005326 -2.7707744  -1.2674817  -2.3202353  -0.33125317\n",
      " -1.5847255  -4.2490544  -4.2170153  -5.6999183  -2.6653297  -3.4800928\n",
      " -4.693992   -3.4104934  -3.673527   -4.2224913  -0.29074478 -6.513745\n",
      " -4.4927287  -4.5361094  -2.549627    2.1703975  -1.3125131  -2.1347325\n",
      " -3.761081   -2.3712082  -3.8052034  -1.6259451  -1.68117    -1.481512\n",
      " -2.2081814  -1.5731778  -1.287838    1.2327844  -3.9466934  -3.9385183\n",
      " -0.87836707 -2.9489741  -3.4411037  -4.030957   -1.4967936  -3.7117271\n",
      " -2.2397022  -3.325867   -2.8145652  -0.63274264 -3.2671835  -1.8046627\n",
      " -3.0445974  -1.5151932  -2.7235372   6.5550556  -1.62281    -1.5104069\n",
      "  1.3592944   0.8891826  -0.14048216 -1.0063077  -1.5578198  -0.45763612\n",
      " -2.0689113   3.2839453  -2.0749338  -4.179339   -0.49392343 -0.5244163\n",
      " -1.9723302  -0.07367857 -2.2878125  -0.96980214 -2.8648748  -2.6847577\n",
      " -3.5610118  -3.7286394  -4.5710897  -4.949738   -0.80546796 -5.8007493\n",
      " -3.260846   -6.434879   -4.7502995  -4.953493  ]\n"
     ]
    }
   ],
   "source": [
    "features, labels = mh.get_layer_output(data_iterator=iterator, layer_names=['fc6', 'fc8'])\n",
    "\n",
    "print('Shape of output from fc6:', features['fc6'].shape)\n",
    "print('Shape of output from fc8:', features['fc8'].shape)\n",
    "print('Labels:', labels)\n",
    "\n",
    "print('Subset of example feature:', features['fc8'][0,:100])"
   ]
  },
  {
   "cell_type": "markdown",
   "metadata": {},
   "source": [
    "These features can be used for training a meta-model or for clustering as shown in this example."
   ]
  },
  {
   "cell_type": "code",
   "execution_count": 10,
   "metadata": {},
   "outputs": [
    {
     "data": {
      "text/plain": [
       "[<matplotlib.lines.Line2D at 0x11a199128>]"
      ]
     },
     "execution_count": 10,
     "metadata": {},
     "output_type": "execute_result"
    },
    {
     "data": {
      "image/png": "[encoded data removed]",
      "text/plain": [
       "<Figure size 432x288 with 1 Axes>"
      ]
     },
     "metadata": {},
     "output_type": "display_data"
    }
   ],
   "source": [
    "from sklearn.decomposition import PCA\n",
    "from sklearn.cluster import KMeans\n",
    "import matplotlib.pyplot as plt\n",
    "import numpy as np\n",
    "%matplotlib inline\n",
    "\n",
    "reduced_data = PCA(n_components=2).fit_transform(features['fc8'])\n",
    "\n",
    "kmeans = KMeans(init='k-means++', n_clusters=4, n_init=10)\n",
    "kmeans.fit(reduced_data)\n",
    "\n",
    "h=0.1\n",
    "\n",
    "x_min, x_max = reduced_data[:, 0].min() - 1, reduced_data[:, 0].max() + 1\n",
    "y_min, y_max = reduced_data[:, 1].min() - 1, reduced_data[:, 1].max() + 1\n",
    "xx, yy = np.meshgrid(np.arange(x_min, x_max, h), np.arange(y_min, y_max, h))\n",
    "\n",
    "Z = kmeans.predict(np.c_[xx.ravel(), yy.ravel()])\n",
    "Z = Z.reshape(xx.shape)\n",
    "\n",
    "plt.imshow(Z, interpolation='nearest',\n",
    "           extent=(xx.min(), xx.max(), yy.min(), yy.max()),\n",
    "           cmap=plt.cm.Paired,\n",
    "           aspect='auto', origin='lower')\n",
    "plt.plot(reduced_data[:, 0], reduced_data[:, 1], 'k.', markersize=7)"
   ]
  },
  {
   "cell_type": "markdown",
   "metadata": {},
   "source": [
    "## Model Manipulation\n",
    "\n",
    "Modifying models in MXNet can be problematic because symbols are held as graphs.  This means that modifiying the input of the model requires the graph to be reconstructed above any changes made.  ModelHandler takes care of this for you which means that adding and removing layers from either end of a neural network can be done with 1-2 lines of code.\n",
    "\n",
    "### Remove layers"
   ]
  },
  {
   "cell_type": "code",
   "execution_count": 11,
   "metadata": {},
   "outputs": [
    {
     "name": "stderr",
     "output_type": "stream",
     "text": [
      "INFO:root:relu7, drop7, fc8, prob deleted from model top\n"
     ]
    },
    {
     "name": "stdout",
     "output_type": "stream",
     "text": [
      "['conv1_1', 'relu1_1', 'conv1_2', 'relu1_2', 'pool1', 'conv2_1', 'relu2_1', 'conv2_2', 'relu2_2', 'pool2', 'conv3_1', 'relu3_1', 'conv3_2', 'relu3_2', 'conv3_3', 'relu3_3', 'conv3_4', 'relu3_4', 'pool3', 'conv4_1', 'relu4_1', 'conv4_2', 'relu4_2', 'conv4_3', 'relu4_3', 'conv4_4', 'relu4_4', 'pool4', 'conv5_1', 'relu5_1', 'conv5_2', 'relu5_2', 'conv5_3', 'relu5_3', 'conv5_4', 'relu5_4', 'pool5', 'flatten_0', 'fc6', 'relu6', 'drop6', 'fc7']\n"
     ]
    }
   ],
   "source": [
    "# Dropping 4 layers from the top of the layer hierarchy (where top = output)\n",
    "mh.drop_layer_top(4)\n",
    "print(mh.layer_names)"
   ]
  },
  {
   "cell_type": "code",
   "execution_count": 12,
   "metadata": {},
   "outputs": [
    {
     "name": "stderr",
     "output_type": "stream",
     "text": [
      "INFO:root:conv1_1 deleted from model bottom\n"
     ]
    },
    {
     "name": "stdout",
     "output_type": "stream",
     "text": [
      "['relu1_1', 'conv1_2', 'relu1_2', 'pool1', 'conv2_1', 'relu2_1', 'conv2_2', 'relu2_2', 'pool2', 'conv3_1', 'relu3_1', 'conv3_2', 'relu3_2', 'conv3_3', 'relu3_3', 'conv3_4', 'relu3_4', 'pool3', 'conv4_1', 'relu4_1', 'conv4_2', 'relu4_2', 'conv4_3', 'relu4_3', 'conv4_4', 'relu4_4', 'pool4', 'conv5_1', 'relu5_1', 'conv5_2', 'relu5_2', 'conv5_3', 'relu5_3', 'conv5_4', 'relu5_4', 'pool5', 'flatten_0', 'fc6', 'relu6', 'drop6', 'fc7']\n"
     ]
    }
   ],
   "source": [
    "# Dropping a layer from the bottom of the layer hierarchy (where bottom = input)\n",
    "mh.drop_layer_bottom(1)\n",
    "print(mh.layer_names)"
   ]
  },
  {
   "cell_type": "markdown",
   "metadata": {},
   "source": [
    "### Add layers\n",
    "\n",
    "Layers can be added to models by first defining the layer with an `mxnet.symbol` object and using `add_layer_top()` or `add_layer_bottom()` to add the layer to the model."
   ]
  },
  {
   "cell_type": "code",
   "execution_count": 13,
   "metadata": {},
   "outputs": [
    {
     "name": "stderr",
     "output_type": "stream",
     "text": [
      "INFO:root:Added convolution1 to model bottom\n",
      "INFO:root:Added fullyconntected1, softmax to model top\n"
     ]
    },
    {
     "name": "stdout",
     "output_type": "stream",
     "text": [
      "['convolution1', 'relu1_1', 'conv1_2', 'relu1_2', 'pool1', 'conv2_1', 'relu2_1', 'conv2_2', 'relu2_2', 'pool2', 'conv3_1', 'relu3_1', 'conv3_2', 'relu3_2', 'conv3_3', 'relu3_3', 'conv3_4', 'relu3_4', 'pool3', 'conv4_1', 'relu4_1', 'conv4_2', 'relu4_2', 'conv4_3', 'relu4_3', 'conv4_4', 'relu4_4', 'pool4', 'conv5_1', 'relu5_1', 'conv5_2', 'relu5_2', 'conv5_3', 'relu5_3', 'conv5_4', 'relu5_4', 'pool5', 'flatten_0', 'fc6', 'relu6', 'drop6', 'fc7', 'fullyconntected1', 'softmax']\n"
     ]
    }
   ],
   "source": [
    "# define layer symbols\n",
    "fc = mx.sym.FullyConnected(name='fullyconntected1', num_hidden=4)\n",
    "softmax = mx.sym.SoftmaxOutput(name='softmax')\n",
    "conv1 = mx.sym.Convolution(name='convolution1', kernel=(20,20), num_filter=64)\n",
    "\n",
    "# Add layer to the bottom of the layer hierarchy (where bottom = input)\n",
    "mh.add_layer_bottom([conv1])\n",
    "# Add layer to the top of the layer hierarchy (where top = output)\n",
    "mh.add_layer_top([fc, softmax])\n",
    "\n",
    "print(mh.layer_names)"
   ]
  },
  {
   "cell_type": "markdown",
   "metadata": {},
   "source": [
    "Once a model has been modified, ModelHandler can be used to return an MXNet Module which can then be used for training.\n",
    "\n",
    "There is an option to specify parameters which should stay fixed during training or should be randomised before training to allow different modes of transfer learning."
   ]
  },
  {
   "cell_type": "code",
   "execution_count": 14,
   "metadata": {
    "collapsed": true
   },
   "outputs": [],
   "source": [
    "# In this case, the conv1_1 layer will stay fixed during training and the layers fc6 and fc7 will be randomised prior to training\n",
    "mod = mh.get_module(iterator,\n",
    "                    fixed_layer_parameters=mh.get_layer_parameters(['conv1_1']),\n",
    "                    random_layer_parameters=mh.get_layer_parameters(['fc6', 'fc7']))"
   ]
  },
  {
   "cell_type": "code",
   "execution_count": 15,
   "metadata": {},
   "outputs": [
    {
     "name": "stderr",
     "output_type": "stream",
     "text": [
      "WARNING:root:Already bound, ignoring bind()\n",
      "/anaconda/envs/xfer_env/lib/python3.5/site-packages/mxnet/module/base_module.py:488: UserWarning: Parameters already initialized and force_init=False. init_params call ignored.\n",
      "  allow_missing=allow_missing, force_init=force_init)\n",
      "INFO:root:Epoch[0] Train-accuracy=0.100000\n",
      "INFO:root:Epoch[0] Time cost=58.709\n",
      "INFO:root:Epoch[1] Train-accuracy=0.250000\n",
      "INFO:root:Epoch[1] Time cost=56.932\n",
      "INFO:root:Epoch[2] Train-accuracy=0.250000\n",
      "INFO:root:Epoch[2] Time cost=52.735\n",
      "INFO:root:Epoch[3] Train-accuracy=0.250000\n",
      "INFO:root:Epoch[3] Time cost=61.472\n",
      "INFO:root:Epoch[4] Train-accuracy=0.250000\n",
      "INFO:root:Epoch[4] Time cost=58.052\n"
     ]
    }
   ],
   "source": [
    "iterator.reset()\n",
    "mod.fit(iterator, num_epoch=5)"
   ]
  },
  {
   "cell_type": "markdown",
   "metadata": {},
   "source": [
    "We now have a trained model ready to be used for prediction. This new model isn't very useful but demonstrates the concept - to train a better model, use more data and experiment with combinations of fixed and random layers."
   ]
  },
  {
   "cell_type": "markdown",
   "metadata": {},
   "source": [
    "Now you have seen what ModelHandler can do, you should try it out for yourself!\n",
    "\n",
    "For more details see the [API docs](../api.html#model-handler)"
   ]
  },
  {
   "cell_type": "code",
   "execution_count": null,
   "metadata": {
    "collapsed": true
   },
   "outputs": [],
   "source": []
  }
 ],
 "metadata": {
  "kernelspec": {
   "display_name": "Python 3",
   "language": "python",
   "name": "python3"
  },
  "language_info": {
   "codemirror_mode": {
    "name": "ipython",
    "version": 3
   },
   "file_extension": ".py",
   "mimetype": "text/x-python",
   "name": "python",
   "nbconvert_exporter": "python",
   "pygments_lexer": "ipython3",
   "version": "3.5.5"
  }
 },
 "nbformat": 4,
 "nbformat_minor": 2
}
