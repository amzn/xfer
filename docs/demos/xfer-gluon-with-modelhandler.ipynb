{
 "cells": [
  {
   "cell_type": "markdown",
   "metadata": {},
   "source": [
    "# Using ModelHandler with Gluon\n",
    "\n",
    "MXNet's Gluon framework allows Neural Networks to be written under an imperative paradigm.  ModelHandler is currently based around the symbolic graph implementation of MXNet and as a result, models written in Gluon cannot directly be used.\n",
    "\n",
    "If the model is written in Gluon using [HybridBlocks](https://gluon.mxnet.io/chapter07_distributed-learning/hybridize.html) (i.e. if the network consists entirely of predefined MXNet layers) then the model can be compliled as a symbolic graph using the command `.hybridize()`.\n",
    "\n",
    "The Gluon defined model can then be converted to a symbol and set of parameters which can then be loaded as an MXNet Module and used with ModelHandler.\n",
    "\n",
    "In this demo, we will show that you can define a model in Gluon using code from the [Gluon MNIST demo](https://mxnet.incubator.apache.org/tutorials/gluon/mnist.html) and then convert it to a Module and use ModelHandler."
   ]
  },
  {
   "cell_type": "code",
   "execution_count": 1,
   "metadata": {
    "collapsed": true
   },
   "outputs": [],
   "source": [
    "import mxnet as mx\n",
    "from mxnet import gluon\n",
    "from mxnet.gluon import nn\n",
    "from mxnet import autograd as ag\n",
    "\n",
    "import os\n",
    "\n",
    "# Fixing the random seed\n",
    "mx.random.seed(42)"
   ]
  },
  {
   "cell_type": "markdown",
   "metadata": {},
   "source": [
    "## Train model in Gluon\n",
    "\n",
    "### Define model in Gluon"
   ]
  },
  {
   "cell_type": "code",
   "execution_count": 2,
   "metadata": {
    "collapsed": true
   },
   "outputs": [],
   "source": [
    "mnist = mx.test_utils.get_mnist()"
   ]
  },
  {
   "cell_type": "code",
   "execution_count": 3,
   "metadata": {
    "collapsed": true
   },
   "outputs": [],
   "source": [
    "batch_size = 100\n",
    "train_data = mx.io.NDArrayIter(mnist['train_data'], mnist['train_label'], batch_size, shuffle=True)\n",
    "val_data = mx.io.NDArrayIter(mnist['test_data'], mnist['test_label'], batch_size)"
   ]
  },
  {
   "cell_type": "code",
   "execution_count": 4,
   "metadata": {
    "collapsed": true
   },
   "outputs": [],
   "source": [
    "# define network\n",
    "net = nn.HybridSequential()\n",
    "with net.name_scope():\n",
    "    net.add(nn.Dense(128, activation='relu'))\n",
    "    net.add(nn.Dense(64, activation='relu'))\n",
    "    net.add(nn.Dense(10))\n",
    "    \n",
    "net.hybridize()"
   ]
  },
  {
   "cell_type": "code",
   "execution_count": 5,
   "metadata": {
    "collapsed": true
   },
   "outputs": [],
   "source": [
    "gpus = mx.test_utils.list_gpus()\n",
    "ctx =  [mx.gpu()] if gpus else [mx.cpu(0), mx.cpu(1)]\n",
    "net.initialize(mx.init.Xavier(magnitude=2.24), ctx=ctx)\n",
    "trainer = gluon.Trainer(net.collect_params(), 'sgd', {'learning_rate': 0.02})"
   ]
  },
  {
   "cell_type": "markdown",
   "metadata": {},
   "source": [
    "### Training"
   ]
  },
  {
   "cell_type": "code",
   "execution_count": 6,
   "metadata": {},
   "outputs": [
    {
     "name": "stdout",
     "output_type": "stream",
     "text": [
      "training acc at epoch 0: accuracy=0.7816\n",
      "training acc at epoch 1: accuracy=0.89915\n",
      "training acc at epoch 2: accuracy=0.9134666666666666\n",
      "training acc at epoch 3: accuracy=0.9225833333333333\n",
      "training acc at epoch 4: accuracy=0.9305666666666667\n",
      "training acc at epoch 5: accuracy=0.9366666666666666\n",
      "training acc at epoch 6: accuracy=0.9418166666666666\n",
      "training acc at epoch 7: accuracy=0.94585\n",
      "training acc at epoch 8: accuracy=0.9495333333333333\n",
      "training acc at epoch 9: accuracy=0.9532333333333334\n",
      "CPU times: user 43.1 s, sys: 4.18 s, total: 47.3 s\n",
      "Wall time: 29.7 s\n"
     ]
    }
   ],
   "source": [
    "%%time\n",
    "epoch = 10\n",
    "# Use Accuracy as the evaluation metric.\n",
    "metric = mx.metric.Accuracy()\n",
    "softmax_cross_entropy_loss = gluon.loss.SoftmaxCrossEntropyLoss()\n",
    "for i in range(epoch):\n",
    "    # Reset the train data iterator.\n",
    "    train_data.reset()\n",
    "    # Loop over the train data iterator.\n",
    "    for batch in train_data:\n",
    "        # Splits train data into multiple slices along batch_axis\n",
    "        # and copy each slice into a context.\n",
    "        data = gluon.utils.split_and_load(batch.data[0], ctx_list=ctx, batch_axis=0)\n",
    "        # Splits train labels into multiple slices along batch_axis\n",
    "        # and copy each slice into a context.\n",
    "        label = gluon.utils.split_and_load(batch.label[0], ctx_list=ctx, batch_axis=0)\n",
    "        outputs = []\n",
    "        # Inside training scope\n",
    "        with ag.record():\n",
    "            for x, y in zip(data, label):\n",
    "                z = net(x)\n",
    "                # Computes softmax cross entropy loss.\n",
    "                loss = softmax_cross_entropy_loss(z, y)\n",
    "                # Backpropagate the error for one iteration.\n",
    "                loss.backward()\n",
    "                outputs.append(z)\n",
    "        # Updates internal evaluation\n",
    "        metric.update(label, outputs)\n",
    "        # Make one step of parameter update. Trainer needs to know the\n",
    "        # batch size of data to normalize the gradient by 1/batch_size.\n",
    "        trainer.step(batch.data[0].shape[0])\n",
    "    # Gets the evaluation result.\n",
    "    name, acc = metric.get()\n",
    "    # Reset evaluation result to initial state.\n",
    "    metric.reset()\n",
    "    print('training acc at epoch {}: {}={}'.format(i, name, acc))"
   ]
  },
  {
   "cell_type": "markdown",
   "metadata": {},
   "source": [
    "## Testing"
   ]
  },
  {
   "cell_type": "code",
   "execution_count": 7,
   "metadata": {},
   "outputs": [
    {
     "name": "stdout",
     "output_type": "stream",
     "text": [
      "validation acc: accuracy=0.9527\n"
     ]
    }
   ],
   "source": [
    "# Use Accuracy as the evaluation metric.\n",
    "metric = mx.metric.Accuracy()\n",
    "# Reset the validation data iterator.\n",
    "val_data.reset()\n",
    "# Loop over the validation data iterator.\n",
    "for batch in val_data:\n",
    "    # Splits validation data into multiple slices along batch_axis\n",
    "    # and copy each slice into a context.\n",
    "    data = gluon.utils.split_and_load(batch.data[0], ctx_list=ctx, batch_axis=0)\n",
    "    # Splits validation label into multiple slices along batch_axis\n",
    "    # and copy each slice into a context.\n",
    "    label = gluon.utils.split_and_load(batch.label[0], ctx_list=ctx, batch_axis=0)\n",
    "    outputs = []\n",
    "    for x in data:\n",
    "        outputs.append(net(x))\n",
    "    # Updates internal evaluation\n",
    "    metric.update(label, outputs)\n",
    "print('validation acc: {}={}'.format(*metric.get()))\n",
    "assert metric.get()[1] > 0.94"
   ]
  },
  {
   "cell_type": "markdown",
   "metadata": {},
   "source": [
    "## Convert Gluon model to Module\n",
    "\n",
    "*Adapted from snippet found [here](https://github.com/apache/incubator-mxnet/issues/9374)*\n",
    "\n",
    "From the Gluon model, the symbol and parameters are extracted and used to define an `Module` object."
   ]
  },
  {
   "cell_type": "code",
   "execution_count": 8,
   "metadata": {
    "collapsed": true
   },
   "outputs": [],
   "source": [
    "def block2symbol(block):\n",
    "    data = mx.sym.Variable('data')\n",
    "    sym = block(data)\n",
    "    args = {}\n",
    "    auxs = {}\n",
    "    for k, v in block.collect_params().items():\n",
    "        args[k] = mx.nd.array(v.data().asnumpy())\n",
    "        auxs[k] = mx.nd.array(v.data().asnumpy())\n",
    "    return sym, args, auxs"
   ]
  },
  {
   "cell_type": "code",
   "execution_count": 9,
   "metadata": {
    "collapsed": true
   },
   "outputs": [],
   "source": [
    "def symbol2mod(sym, args, auxs, data_iter):\n",
    "    mx_sym = mx.sym.SoftmaxOutput(data=sym, name='softmax')\n",
    "    model = mx.mod.Module(symbol=mx_sym, context=mx.cpu(), \n",
    "                          label_names=['softmax_label'])\n",
    "    model.bind( data_shapes = data_iter.provide_data, \n",
    "                label_shapes = data_iter.provide_label )\n",
    "    model.set_params(args, auxs)  \n",
    "    return model"
   ]
  },
  {
   "cell_type": "code",
   "execution_count": 10,
   "metadata": {
    "collapsed": true
   },
   "outputs": [],
   "source": [
    "sym_params = block2symbol(net)"
   ]
  },
  {
   "cell_type": "code",
   "execution_count": 11,
   "metadata": {
    "collapsed": true
   },
   "outputs": [],
   "source": [
    "mod = symbol2mod(*sym_params, train_data)"
   ]
  },
  {
   "cell_type": "markdown",
   "metadata": {},
   "source": [
    "### Alternative Method\n",
    "\n",
    "Serialise Gluon model to file using `.export()`.\n",
    "\n",
    "Load the serialised model as an MXNet Module with `Module.load()` so that xfer can be used."
   ]
  },
  {
   "cell_type": "code",
   "execution_count": 12,
   "metadata": {
    "collapsed": true
   },
   "outputs": [],
   "source": [
    "# model_name = 'gluon-model'\n",
    "# net.export(model_name)\n",
    "\n",
    "# mod = mx.mod.Module.load(model_name, 0, label_names=[])\n",
    "# os.remove(model_name+'-symbol.json')\n",
    "# os.remove(model_name+'-0000.params')"
   ]
  },
  {
   "cell_type": "markdown",
   "metadata": {},
   "source": [
    "## Apply ModelHandler\n",
    "\n",
    "Now we can load the model into ModelHandler and use it to visualise the model, return the layer names, extract features and much more!"
   ]
  },
  {
   "cell_type": "code",
   "execution_count": 13,
   "metadata": {
    "collapsed": true
   },
   "outputs": [],
   "source": [
    "import xfer"
   ]
  },
  {
   "cell_type": "code",
   "execution_count": 14,
   "metadata": {
    "collapsed": true
   },
   "outputs": [],
   "source": [
    "mh = xfer.model_handler.ModelHandler(mod)"
   ]
  },
  {
   "cell_type": "code",
   "execution_count": 15,
   "metadata": {},
   "outputs": [
    {
     "data": {
      "image/svg+xml": [
       "<?xml version=\"1.0\" encoding=\"UTF-8\" standalone=\"no\"?>\n",
       "<!DOCTYPE svg PUBLIC \"-//W3C//DTD SVG 1.1//EN\"\n",
       " \"http://www.w3.org/Graphics/SVG/1.1/DTD/svg11.dtd\">\n",
       "<!-- Generated by graphviz version 2.40.1 (20161225.0304)\n",
       " -->\n",
       "<!-- Title: plot Pages: 1 -->\n",
       "<svg width=\"234pt\" height=\"630pt\"\n",
       " viewBox=\"0.00 0.00 234.22 630.00\" xmlns=\"http://www.w3.org/2000/svg\" xmlns:xlink=\"http://www.w3.org/1999/xlink\">\n",
       "<g id=\"graph0\" class=\"graph\" transform=\"scale(1 1) rotate(0) translate(4 626)\">\n",
       "<title>plot</title>\n",
       "<polygon fill=\"#ffffff\" stroke=\"transparent\" points=\"-4,4 -4,-626 230.2215,-626 230.2215,4 -4,4\"/>\n",
       "<!-- data -->\n",
       "<g id=\"node1\" class=\"node\">\n",
       "<title>data</title>\n",
       "<ellipse fill=\"#8dd3c7\" stroke=\"#000000\" cx=\"52.7173\" cy=\"-29\" rx=\"47\" ry=\"29\"/>\n",
       "<text text-anchor=\"middle\" x=\"52.7173\" y=\"-24.8\" font-family=\"Times,serif\" font-size=\"14.00\" fill=\"#000000\">data</text>\n",
       "</g>\n",
       "<!-- hybridsequential0_dense0_fwd -->\n",
       "<g id=\"node2\" class=\"node\">\n",
       "<title>hybridsequential0_dense0_fwd</title>\n",
       "<polygon fill=\"#fb8072\" stroke=\"#000000\" points=\"105.6528,-152 -.2182,-152 -.2182,-94 105.6528,-94 105.6528,-152\"/>\n",
       "<text text-anchor=\"middle\" x=\"52.7173\" y=\"-125.8\" font-family=\"Times,serif\" font-size=\"14.00\" fill=\"#000000\">FullyConnected</text>\n",
       "<text text-anchor=\"middle\" x=\"52.7173\" y=\"-111.8\" font-family=\"Times,serif\" font-size=\"14.00\" fill=\"#000000\">128</text>\n",
       "</g>\n",
       "<!-- hybridsequential0_dense0_fwd&#45;&gt;data -->\n",
       "<g id=\"edge1\" class=\"edge\">\n",
       "<title>hybridsequential0_dense0_fwd&#45;&gt;data</title>\n",
       "<path fill=\"none\" stroke=\"#000000\" d=\"M52.7173,-83.6321C52.7173,-75.1148 52.7173,-66.2539 52.7173,-58.2088\"/>\n",
       "<polygon fill=\"#000000\" stroke=\"#000000\" points=\"52.7173,-93.7731 48.2174,-83.773 52.7173,-88.7731 52.7174,-83.7731 52.7174,-83.7731 52.7174,-83.7731 52.7173,-88.7731 57.2174,-83.7731 52.7173,-93.7731 52.7173,-93.7731\"/>\n",
       "</g>\n",
       "<!-- hybridsequential0_dense0_relu_fwd -->\n",
       "<g id=\"node3\" class=\"node\">\n",
       "<title>hybridsequential0_dense0_relu_fwd</title>\n",
       "<polygon fill=\"#ffffb3\" stroke=\"#000000\" points=\"99.7173,-246 5.7173,-246 5.7173,-188 99.7173,-188 99.7173,-246\"/>\n",
       "<text text-anchor=\"middle\" x=\"52.7173\" y=\"-219.8\" font-family=\"Times,serif\" font-size=\"14.00\" fill=\"#000000\">Activation</text>\n",
       "<text text-anchor=\"middle\" x=\"52.7173\" y=\"-205.8\" font-family=\"Times,serif\" font-size=\"14.00\" fill=\"#000000\">relu</text>\n",
       "</g>\n",
       "<!-- hybridsequential0_dense0_relu_fwd&#45;&gt;hybridsequential0_dense0_fwd -->\n",
       "<g id=\"edge2\" class=\"edge\">\n",
       "<title>hybridsequential0_dense0_relu_fwd&#45;&gt;hybridsequential0_dense0_fwd</title>\n",
       "<path fill=\"none\" stroke=\"#000000\" d=\"M52.7173,-177.6321C52.7173,-169.1148 52.7173,-160.2539 52.7173,-152.2088\"/>\n",
       "<polygon fill=\"#000000\" stroke=\"#000000\" points=\"52.7173,-187.7731 48.2174,-177.773 52.7173,-182.7731 52.7174,-177.7731 52.7174,-177.7731 52.7174,-177.7731 52.7173,-182.7731 57.2174,-177.7731 52.7173,-187.7731 52.7173,-187.7731\"/>\n",
       "</g>\n",
       "<!-- hybridsequential0_dense1_fwd -->\n",
       "<g id=\"node4\" class=\"node\">\n",
       "<title>hybridsequential0_dense1_fwd</title>\n",
       "<polygon fill=\"#fb8072\" stroke=\"#000000\" points=\"105.6528,-340 -.2182,-340 -.2182,-282 105.6528,-282 105.6528,-340\"/>\n",
       "<text text-anchor=\"middle\" x=\"52.7173\" y=\"-313.8\" font-family=\"Times,serif\" font-size=\"14.00\" fill=\"#000000\">FullyConnected</text>\n",
       "<text text-anchor=\"middle\" x=\"52.7173\" y=\"-299.8\" font-family=\"Times,serif\" font-size=\"14.00\" fill=\"#000000\">64</text>\n",
       "</g>\n",
       "<!-- hybridsequential0_dense1_fwd&#45;&gt;hybridsequential0_dense0_relu_fwd -->\n",
       "<g id=\"edge3\" class=\"edge\">\n",
       "<title>hybridsequential0_dense1_fwd&#45;&gt;hybridsequential0_dense0_relu_fwd</title>\n",
       "<path fill=\"none\" stroke=\"#000000\" d=\"M52.7173,-271.6321C52.7173,-263.1148 52.7173,-254.2539 52.7173,-246.2088\"/>\n",
       "<polygon fill=\"#000000\" stroke=\"#000000\" points=\"52.7173,-281.7731 48.2174,-271.773 52.7173,-276.7731 52.7174,-271.7731 52.7174,-271.7731 52.7174,-271.7731 52.7173,-276.7731 57.2174,-271.7731 52.7173,-281.7731 52.7173,-281.7731\"/>\n",
       "</g>\n",
       "<!-- hybridsequential0_dense1_relu_fwd -->\n",
       "<g id=\"node5\" class=\"node\">\n",
       "<title>hybridsequential0_dense1_relu_fwd</title>\n",
       "<polygon fill=\"#ffffb3\" stroke=\"#000000\" points=\"99.7173,-434 5.7173,-434 5.7173,-376 99.7173,-376 99.7173,-434\"/>\n",
       "<text text-anchor=\"middle\" x=\"52.7173\" y=\"-407.8\" font-family=\"Times,serif\" font-size=\"14.00\" fill=\"#000000\">Activation</text>\n",
       "<text text-anchor=\"middle\" x=\"52.7173\" y=\"-393.8\" font-family=\"Times,serif\" font-size=\"14.00\" fill=\"#000000\">relu</text>\n",
       "</g>\n",
       "<!-- hybridsequential0_dense1_relu_fwd&#45;&gt;hybridsequential0_dense1_fwd -->\n",
       "<g id=\"edge4\" class=\"edge\">\n",
       "<title>hybridsequential0_dense1_relu_fwd&#45;&gt;hybridsequential0_dense1_fwd</title>\n",
       "<path fill=\"none\" stroke=\"#000000\" d=\"M52.7173,-365.6321C52.7173,-357.1148 52.7173,-348.2539 52.7173,-340.2088\"/>\n",
       "<polygon fill=\"#000000\" stroke=\"#000000\" points=\"52.7173,-375.7731 48.2174,-365.773 52.7173,-370.7731 52.7174,-365.7731 52.7174,-365.7731 52.7174,-365.7731 52.7173,-370.7731 57.2174,-365.7731 52.7173,-375.7731 52.7173,-375.7731\"/>\n",
       "</g>\n",
       "<!-- hybridsequential0_dense2_fwd -->\n",
       "<g id=\"node6\" class=\"node\">\n",
       "<title>hybridsequential0_dense2_fwd</title>\n",
       "<polygon fill=\"#fb8072\" stroke=\"#000000\" points=\"105.6528,-528 -.2182,-528 -.2182,-470 105.6528,-470 105.6528,-528\"/>\n",
       "<text text-anchor=\"middle\" x=\"52.7173\" y=\"-501.8\" font-family=\"Times,serif\" font-size=\"14.00\" fill=\"#000000\">FullyConnected</text>\n",
       "<text text-anchor=\"middle\" x=\"52.7173\" y=\"-487.8\" font-family=\"Times,serif\" font-size=\"14.00\" fill=\"#000000\">10</text>\n",
       "</g>\n",
       "<!-- hybridsequential0_dense2_fwd&#45;&gt;hybridsequential0_dense1_relu_fwd -->\n",
       "<g id=\"edge5\" class=\"edge\">\n",
       "<title>hybridsequential0_dense2_fwd&#45;&gt;hybridsequential0_dense1_relu_fwd</title>\n",
       "<path fill=\"none\" stroke=\"#000000\" d=\"M52.7173,-459.6321C52.7173,-451.1148 52.7173,-442.2539 52.7173,-434.2088\"/>\n",
       "<polygon fill=\"#000000\" stroke=\"#000000\" points=\"52.7173,-469.7731 48.2174,-459.773 52.7173,-464.7731 52.7174,-459.7731 52.7174,-459.7731 52.7174,-459.7731 52.7173,-464.7731 57.2174,-459.7731 52.7173,-469.7731 52.7173,-469.7731\"/>\n",
       "</g>\n",
       "<!-- softmax_label -->\n",
       "<g id=\"node7\" class=\"node\">\n",
       "<title>softmax_label</title>\n",
       "<ellipse fill=\"#8dd3c7\" stroke=\"#000000\" cx=\"174.7173\" cy=\"-499\" rx=\"51.5084\" ry=\"29\"/>\n",
       "<text text-anchor=\"middle\" x=\"174.7173\" y=\"-494.8\" font-family=\"Times,serif\" font-size=\"14.00\" fill=\"#000000\">softmax_label</text>\n",
       "</g>\n",
       "<!-- softmax -->\n",
       "<g id=\"node8\" class=\"node\">\n",
       "<title>softmax</title>\n",
       "<polygon fill=\"#fccde5\" stroke=\"#000000\" points=\"160.7173,-622 66.7173,-622 66.7173,-564 160.7173,-564 160.7173,-622\"/>\n",
       "<text text-anchor=\"middle\" x=\"113.7173\" y=\"-588.8\" font-family=\"Times,serif\" font-size=\"14.00\" fill=\"#000000\">softmax</text>\n",
       "</g>\n",
       "<!-- softmax&#45;&gt;hybridsequential0_dense2_fwd -->\n",
       "<g id=\"edge6\" class=\"edge\">\n",
       "<title>softmax&#45;&gt;hybridsequential0_dense2_fwd</title>\n",
       "<path fill=\"none\" stroke=\"#000000\" d=\"M89.2602,-555.3121C83.4034,-546.2868 77.2369,-536.7843 71.672,-528.2088\"/>\n",
       "<polygon fill=\"#000000\" stroke=\"#000000\" points=\"94.7509,-563.7731 85.5324,-557.8342 92.0291,-559.5788 89.3072,-555.3846 89.3072,-555.3846 89.3072,-555.3846 92.0291,-559.5788 93.0821,-552.9349 94.7509,-563.7731 94.7509,-563.7731\"/>\n",
       "</g>\n",
       "<!-- softmax&#45;&gt;softmax_label -->\n",
       "<g id=\"edge7\" class=\"edge\">\n",
       "<title>softmax&#45;&gt;softmax_label</title>\n",
       "<path fill=\"none\" stroke=\"#000000\" d=\"M138.3038,-555.1126C144.5639,-545.4659 151.1697,-535.2865 157.0108,-526.2854\"/>\n",
       "<polygon fill=\"#000000\" stroke=\"#000000\" points=\"132.6837,-563.7731 134.3525,-552.9349 135.4055,-559.5788 138.1273,-555.3846 138.1273,-555.3846 138.1273,-555.3846 135.4055,-559.5788 141.9022,-557.8342 132.6837,-563.7731 132.6837,-563.7731\"/>\n",
       "</g>\n",
       "</g>\n",
       "</svg>\n"
      ],
      "text/plain": [
       "<graphviz.dot.Digraph at 0x12f66fd30>"
      ]
     },
     "execution_count": 15,
     "metadata": {},
     "output_type": "execute_result"
    }
   ],
   "source": [
    "# Show architecture of model\n",
    "mh.visualize_net()"
   ]
  },
  {
   "cell_type": "code",
   "execution_count": 16,
   "metadata": {},
   "outputs": [
    {
     "data": {
      "text/plain": [
       "['hybridsequential0_dense0_fwd',\n",
       " 'hybridsequential0_dense0_relu_fwd',\n",
       " 'hybridsequential0_dense1_fwd',\n",
       " 'hybridsequential0_dense1_relu_fwd',\n",
       " 'hybridsequential0_dense2_fwd',\n",
       " 'softmax']"
      ]
     },
     "execution_count": 16,
     "metadata": {},
     "output_type": "execute_result"
    }
   ],
   "source": [
    "mh.layer_names"
   ]
  },
  {
   "cell_type": "code",
   "execution_count": 17,
   "metadata": {},
   "outputs": [
    {
     "data": {
      "text/plain": [
       "(OrderedDict([('hybridsequential0_dense1_fwd',\n",
       "               array([[ 1.93497527e+00,  2.40295935e+00,  1.16074115e-01, ...,\n",
       "                       -4.74348217e-02, -3.76087427e-03,  1.39985621e+00],\n",
       "                      [ 2.15391922e+00,  1.97971451e+00,  4.61517543e-01, ...,\n",
       "                        2.28680030e-01, -8.29489648e-01,  9.69915807e-01],\n",
       "                      [ 2.06626105e+00,  4.06703472e+00,  7.65578270e-01, ...,\n",
       "                        3.74726385e-01,  1.03201318e+00, -5.41208267e-01],\n",
       "                      ...,\n",
       "                      [ 2.55671740e+00,  4.17255354e+00,  5.60081601e-01, ...,\n",
       "                        5.68660349e-02, -1.58825326e+00,  1.59997427e+00],\n",
       "                      [ 2.30686831e+00,  2.34434009e+00, -5.84015131e-01, ...,\n",
       "                        3.16424906e-01, -1.08476102e-01,  6.86561584e-01],\n",
       "                      [ 9.71719801e-01,  1.08340001e+00,  1.72682357e+00, ...,\n",
       "                       -2.98302293e-01,  1.48507738e+00, -7.40276098e-01]], dtype=float32))]),\n",
       " array([8, 8, 6, ..., 8, 8, 4]))"
      ]
     },
     "execution_count": 17,
     "metadata": {},
     "output_type": "execute_result"
    }
   ],
   "source": [
    "# Get output from intermediate layers of the model\n",
    "mh.get_layer_output(train_data, ['hybridsequential0_dense1_fwd'])"
   ]
  },
  {
   "cell_type": "code",
   "execution_count": 18,
   "metadata": {},
   "outputs": [
    {
     "data": {
      "text/plain": [
       "'Activation'"
      ]
     },
     "execution_count": 18,
     "metadata": {},
     "output_type": "execute_result"
    }
   ],
   "source": [
    "mh.get_layer_type('hybridsequential0_dense0_relu_fwd')"
   ]
  },
  {
   "cell_type": "code",
   "execution_count": 19,
   "metadata": {
    "collapsed": true
   },
   "outputs": [
    {
     "data": {
      "image/svg+xml": [
       "<?xml version=\"1.0\" encoding=\"UTF-8\" standalone=\"no\"?>\n",
       "<!DOCTYPE svg PUBLIC \"-//W3C//DTD SVG 1.1//EN\"\n",
       " \"http://www.w3.org/Graphics/SVG/1.1/DTD/svg11.dtd\">\n",
       "<!-- Generated by graphviz version 2.40.1 (20161225.0304)\n",
       " -->\n",
       "<!-- Title: plot Pages: 1 -->\n",
       "<svg width=\"280pt\" height=\"818pt\"\n",
       " viewBox=\"0.00 0.00 280.34 818.00\" xmlns=\"http://www.w3.org/2000/svg\" xmlns:xlink=\"http://www.w3.org/1999/xlink\">\n",
       "<g id=\"graph0\" class=\"graph\" transform=\"scale(1 1) rotate(0) translate(4 814)\">\n",
       "<title>plot</title>\n",
       "<polygon fill=\"#ffffff\" stroke=\"transparent\" points=\"-4,4 -4,-814 276.3387,-814 276.3387,4 -4,4\"/>\n",
       "<!-- data -->\n",
       "<g id=\"node1\" class=\"node\">\n",
       "<title>data</title>\n",
       "<ellipse fill=\"#8dd3c7\" stroke=\"#000000\" cx=\"52.7173\" cy=\"-29\" rx=\"47\" ry=\"29\"/>\n",
       "<text text-anchor=\"middle\" x=\"52.7173\" y=\"-24.8\" font-family=\"Times,serif\" font-size=\"14.00\" fill=\"#000000\">data</text>\n",
       "</g>\n",
       "<!-- hybridsequential0_dense0_fwd -->\n",
       "<g id=\"node2\" class=\"node\">\n",
       "<title>hybridsequential0_dense0_fwd</title>\n",
       "<polygon fill=\"#fb8072\" stroke=\"#000000\" points=\"105.6528,-152 -.2182,-152 -.2182,-94 105.6528,-94 105.6528,-152\"/>\n",
       "<text text-anchor=\"middle\" x=\"52.7173\" y=\"-125.8\" font-family=\"Times,serif\" font-size=\"14.00\" fill=\"#000000\">FullyConnected</text>\n",
       "<text text-anchor=\"middle\" x=\"52.7173\" y=\"-111.8\" font-family=\"Times,serif\" font-size=\"14.00\" fill=\"#000000\">128</text>\n",
       "</g>\n",
       "<!-- hybridsequential0_dense0_fwd&#45;&gt;data -->\n",
       "<g id=\"edge1\" class=\"edge\">\n",
       "<title>hybridsequential0_dense0_fwd&#45;&gt;data</title>\n",
       "<path fill=\"none\" stroke=\"#000000\" d=\"M52.7173,-83.6321C52.7173,-75.1148 52.7173,-66.2539 52.7173,-58.2088\"/>\n",
       "<polygon fill=\"#000000\" stroke=\"#000000\" points=\"52.7173,-93.7731 48.2174,-83.773 52.7173,-88.7731 52.7174,-83.7731 52.7174,-83.7731 52.7174,-83.7731 52.7173,-88.7731 57.2174,-83.7731 52.7173,-93.7731 52.7173,-93.7731\"/>\n",
       "</g>\n",
       "<!-- hybridsequential0_dense0_relu_fwd -->\n",
       "<g id=\"node3\" class=\"node\">\n",
       "<title>hybridsequential0_dense0_relu_fwd</title>\n",
       "<polygon fill=\"#ffffb3\" stroke=\"#000000\" points=\"99.7173,-246 5.7173,-246 5.7173,-188 99.7173,-188 99.7173,-246\"/>\n",
       "<text text-anchor=\"middle\" x=\"52.7173\" y=\"-219.8\" font-family=\"Times,serif\" font-size=\"14.00\" fill=\"#000000\">Activation</text>\n",
       "<text text-anchor=\"middle\" x=\"52.7173\" y=\"-205.8\" font-family=\"Times,serif\" font-size=\"14.00\" fill=\"#000000\">relu</text>\n",
       "</g>\n",
       "<!-- hybridsequential0_dense0_relu_fwd&#45;&gt;hybridsequential0_dense0_fwd -->\n",
       "<g id=\"edge2\" class=\"edge\">\n",
       "<title>hybridsequential0_dense0_relu_fwd&#45;&gt;hybridsequential0_dense0_fwd</title>\n",
       "<path fill=\"none\" stroke=\"#000000\" d=\"M52.7173,-177.6321C52.7173,-169.1148 52.7173,-160.2539 52.7173,-152.2088\"/>\n",
       "<polygon fill=\"#000000\" stroke=\"#000000\" points=\"52.7173,-187.7731 48.2174,-177.773 52.7173,-182.7731 52.7174,-177.7731 52.7174,-177.7731 52.7174,-177.7731 52.7173,-182.7731 57.2174,-177.7731 52.7173,-187.7731 52.7173,-187.7731\"/>\n",
       "</g>\n",
       "<!-- hybridsequential0_dense1_fwd -->\n",
       "<g id=\"node4\" class=\"node\">\n",
       "<title>hybridsequential0_dense1_fwd</title>\n",
       "<polygon fill=\"#fb8072\" stroke=\"#000000\" points=\"105.6528,-340 -.2182,-340 -.2182,-282 105.6528,-282 105.6528,-340\"/>\n",
       "<text text-anchor=\"middle\" x=\"52.7173\" y=\"-313.8\" font-family=\"Times,serif\" font-size=\"14.00\" fill=\"#000000\">FullyConnected</text>\n",
       "<text text-anchor=\"middle\" x=\"52.7173\" y=\"-299.8\" font-family=\"Times,serif\" font-size=\"14.00\" fill=\"#000000\">64</text>\n",
       "</g>\n",
       "<!-- hybridsequential0_dense1_fwd&#45;&gt;hybridsequential0_dense0_relu_fwd -->\n",
       "<g id=\"edge3\" class=\"edge\">\n",
       "<title>hybridsequential0_dense1_fwd&#45;&gt;hybridsequential0_dense0_relu_fwd</title>\n",
       "<path fill=\"none\" stroke=\"#000000\" d=\"M52.7173,-271.6321C52.7173,-263.1148 52.7173,-254.2539 52.7173,-246.2088\"/>\n",
       "<polygon fill=\"#000000\" stroke=\"#000000\" points=\"52.7173,-281.7731 48.2174,-271.773 52.7173,-276.7731 52.7174,-271.7731 52.7174,-271.7731 52.7174,-271.7731 52.7173,-276.7731 57.2174,-271.7731 52.7173,-281.7731 52.7173,-281.7731\"/>\n",
       "</g>\n",
       "<!-- hybridsequential0_dense1_relu_fwd -->\n",
       "<g id=\"node5\" class=\"node\">\n",
       "<title>hybridsequential0_dense1_relu_fwd</title>\n",
       "<polygon fill=\"#ffffb3\" stroke=\"#000000\" points=\"99.7173,-434 5.7173,-434 5.7173,-376 99.7173,-376 99.7173,-434\"/>\n",
       "<text text-anchor=\"middle\" x=\"52.7173\" y=\"-407.8\" font-family=\"Times,serif\" font-size=\"14.00\" fill=\"#000000\">Activation</text>\n",
       "<text text-anchor=\"middle\" x=\"52.7173\" y=\"-393.8\" font-family=\"Times,serif\" font-size=\"14.00\" fill=\"#000000\">relu</text>\n",
       "</g>\n",
       "<!-- hybridsequential0_dense1_relu_fwd&#45;&gt;hybridsequential0_dense1_fwd -->\n",
       "<g id=\"edge4\" class=\"edge\">\n",
       "<title>hybridsequential0_dense1_relu_fwd&#45;&gt;hybridsequential0_dense1_fwd</title>\n",
       "<path fill=\"none\" stroke=\"#000000\" d=\"M52.7173,-365.6321C52.7173,-357.1148 52.7173,-348.2539 52.7173,-340.2088\"/>\n",
       "<polygon fill=\"#000000\" stroke=\"#000000\" points=\"52.7173,-375.7731 48.2174,-365.773 52.7173,-370.7731 52.7174,-365.7731 52.7174,-365.7731 52.7174,-365.7731 52.7173,-370.7731 57.2174,-365.7731 52.7173,-375.7731 52.7173,-375.7731\"/>\n",
       "</g>\n",
       "<!-- fullyconnected0 -->\n",
       "<g id=\"node6\" class=\"node\">\n",
       "<title>fullyconnected0</title>\n",
       "<polygon fill=\"#fb8072\" stroke=\"#000000\" points=\"105.6528,-528 -.2182,-528 -.2182,-470 105.6528,-470 105.6528,-528\"/>\n",
       "<text text-anchor=\"middle\" x=\"52.7173\" y=\"-501.8\" font-family=\"Times,serif\" font-size=\"14.00\" fill=\"#000000\">FullyConnected</text>\n",
       "<text text-anchor=\"middle\" x=\"52.7173\" y=\"-487.8\" font-family=\"Times,serif\" font-size=\"14.00\" fill=\"#000000\">30</text>\n",
       "</g>\n",
       "<!-- fullyconnected0&#45;&gt;hybridsequential0_dense1_relu_fwd -->\n",
       "<g id=\"edge5\" class=\"edge\">\n",
       "<title>fullyconnected0&#45;&gt;hybridsequential0_dense1_relu_fwd</title>\n",
       "<path fill=\"none\" stroke=\"#000000\" d=\"M52.7173,-459.6321C52.7173,-451.1148 52.7173,-442.2539 52.7173,-434.2088\"/>\n",
       "<polygon fill=\"#000000\" stroke=\"#000000\" points=\"52.7173,-469.7731 48.2174,-459.773 52.7173,-464.7731 52.7174,-459.7731 52.7174,-459.7731 52.7174,-459.7731 52.7173,-464.7731 57.2174,-459.7731 52.7173,-469.7731 52.7173,-469.7731\"/>\n",
       "</g>\n",
       "<!-- activation0 -->\n",
       "<g id=\"node7\" class=\"node\">\n",
       "<title>activation0</title>\n",
       "<polygon fill=\"#ffffb3\" stroke=\"#000000\" points=\"99.7173,-622 5.7173,-622 5.7173,-564 99.7173,-564 99.7173,-622\"/>\n",
       "<text text-anchor=\"middle\" x=\"52.7173\" y=\"-595.8\" font-family=\"Times,serif\" font-size=\"14.00\" fill=\"#000000\">Activation</text>\n",
       "<text text-anchor=\"middle\" x=\"52.7173\" y=\"-581.8\" font-family=\"Times,serif\" font-size=\"14.00\" fill=\"#000000\">relu</text>\n",
       "</g>\n",
       "<!-- activation0&#45;&gt;fullyconnected0 -->\n",
       "<g id=\"edge6\" class=\"edge\">\n",
       "<title>activation0&#45;&gt;fullyconnected0</title>\n",
       "<path fill=\"none\" stroke=\"#000000\" d=\"M52.7173,-553.6321C52.7173,-545.1148 52.7173,-536.2539 52.7173,-528.2088\"/>\n",
       "<polygon fill=\"#000000\" stroke=\"#000000\" points=\"52.7173,-563.7731 48.2174,-553.773 52.7173,-558.7731 52.7174,-553.7731 52.7174,-553.7731 52.7174,-553.7731 52.7173,-558.7731 57.2174,-553.7731 52.7173,-563.7731 52.7173,-563.7731\"/>\n",
       "</g>\n",
       "<!-- fullyconnected1 -->\n",
       "<g id=\"node8\" class=\"node\">\n",
       "<title>fullyconnected1</title>\n",
       "<polygon fill=\"#fb8072\" stroke=\"#000000\" points=\"105.6528,-716 -.2182,-716 -.2182,-658 105.6528,-658 105.6528,-716\"/>\n",
       "<text text-anchor=\"middle\" x=\"52.7173\" y=\"-689.8\" font-family=\"Times,serif\" font-size=\"14.00\" fill=\"#000000\">FullyConnected</text>\n",
       "<text text-anchor=\"middle\" x=\"52.7173\" y=\"-675.8\" font-family=\"Times,serif\" font-size=\"14.00\" fill=\"#000000\">10</text>\n",
       "</g>\n",
       "<!-- fullyconnected1&#45;&gt;activation0 -->\n",
       "<g id=\"edge7\" class=\"edge\">\n",
       "<title>fullyconnected1&#45;&gt;activation0</title>\n",
       "<path fill=\"none\" stroke=\"#000000\" d=\"M52.7173,-647.6321C52.7173,-639.1148 52.7173,-630.2539 52.7173,-622.2088\"/>\n",
       "<polygon fill=\"#000000\" stroke=\"#000000\" points=\"52.7173,-657.7731 48.2174,-647.773 52.7173,-652.7731 52.7174,-647.7731 52.7174,-647.7731 52.7174,-647.7731 52.7173,-652.7731 57.2174,-647.7731 52.7173,-657.7731 52.7173,-657.7731\"/>\n",
       "</g>\n",
       "<!-- softmaxoutput0_label -->\n",
       "<g id=\"node9\" class=\"node\">\n",
       "<title>softmaxoutput0_label</title>\n",
       "<ellipse fill=\"#8dd3c7\" stroke=\"#000000\" cx=\"197.7173\" cy=\"-687\" rx=\"74.743\" ry=\"29\"/>\n",
       "<text text-anchor=\"middle\" x=\"197.7173\" y=\"-682.8\" font-family=\"Times,serif\" font-size=\"14.00\" fill=\"#000000\">softmaxoutput0_label</text>\n",
       "</g>\n",
       "<!-- softmaxoutput0 -->\n",
       "<g id=\"node10\" class=\"node\">\n",
       "<title>softmaxoutput0</title>\n",
       "<polygon fill=\"#fccde5\" stroke=\"#000000\" points=\"176.6002,-810 72.8344,-810 72.8344,-752 176.6002,-752 176.6002,-810\"/>\n",
       "<text text-anchor=\"middle\" x=\"124.7173\" y=\"-776.8\" font-family=\"Times,serif\" font-size=\"14.00\" fill=\"#000000\">softmaxoutput0</text>\n",
       "</g>\n",
       "<!-- softmaxoutput0&#45;&gt;fullyconnected1 -->\n",
       "<g id=\"edge8\" class=\"edge\">\n",
       "<title>softmaxoutput0&#45;&gt;fullyconnected1</title>\n",
       "<path fill=\"none\" stroke=\"#000000\" d=\"M96.0636,-743.5911C89.0871,-734.4828 81.7262,-724.8727 75.09,-716.2088\"/>\n",
       "<polygon fill=\"#000000\" stroke=\"#000000\" points=\"102.3307,-751.7731 92.6774,-746.5706 99.2903,-747.8037 96.2499,-743.8343 96.2499,-743.8343 96.2499,-743.8343 99.2903,-747.8037 99.8224,-741.0979 102.3307,-751.7731 102.3307,-751.7731\"/>\n",
       "</g>\n",
       "<!-- softmaxoutput0&#45;&gt;softmaxoutput0_label -->\n",
       "<g id=\"edge9\" class=\"edge\">\n",
       "<title>softmaxoutput0&#45;&gt;softmaxoutput0_label</title>\n",
       "<path fill=\"none\" stroke=\"#000000\" d=\"M153.5669,-743.8511C161.0517,-734.2133 168.9858,-723.9967 176.0326,-714.9228\"/>\n",
       "<polygon fill=\"#000000\" stroke=\"#000000\" points=\"147.4148,-751.7731 149.9943,-741.1149 150.4816,-747.8241 153.5484,-743.875 153.5484,-743.875 153.5484,-743.875 150.4816,-747.8241 157.1025,-746.6351 147.4148,-751.7731 147.4148,-751.7731\"/>\n",
       "</g>\n",
       "</g>\n",
       "</svg>\n"
      ],
      "text/plain": [
       "<graphviz.dot.Digraph at 0x12f699a20>"
      ]
     },
     "execution_count": 19,
     "metadata": {},
     "output_type": "execute_result"
    }
   ],
   "source": [
    "# Add/Remove layers from model output\n",
    "mh.drop_layer_top(2)\n",
    "mh.add_layer_top([mx.sym.FullyConnected(num_hidden=30),\n",
    "                  mx.sym.Activation(act_type='relu'),\n",
    "                  mx.sym.FullyConnected(num_hidden=10),\n",
    "                  mx.sym.SoftmaxOutput()])\n",
    "mh.visualize_net()"
   ]
  },
  {
   "cell_type": "code",
   "execution_count": 20,
   "metadata": {},
   "outputs": [
    {
     "data": {
      "image/svg+xml": [
       "<?xml version=\"1.0\" encoding=\"UTF-8\" standalone=\"no\"?>\n",
       "<!DOCTYPE svg PUBLIC \"-//W3C//DTD SVG 1.1//EN\"\n",
       " \"http://www.w3.org/Graphics/SVG/1.1/DTD/svg11.dtd\">\n",
       "<!-- Generated by graphviz version 2.40.1 (20161225.0304)\n",
       " -->\n",
       "<!-- Title: plot Pages: 1 -->\n",
       "<svg width=\"280pt\" height=\"912pt\"\n",
       " viewBox=\"0.00 0.00 280.34 912.00\" xmlns=\"http://www.w3.org/2000/svg\" xmlns:xlink=\"http://www.w3.org/1999/xlink\">\n",
       "<g id=\"graph0\" class=\"graph\" transform=\"scale(1 1) rotate(0) translate(4 908)\">\n",
       "<title>plot</title>\n",
       "<polygon fill=\"#ffffff\" stroke=\"transparent\" points=\"-4,4 -4,-908 276.3387,-908 276.3387,4 -4,4\"/>\n",
       "<!-- data -->\n",
       "<g id=\"node1\" class=\"node\">\n",
       "<title>data</title>\n",
       "<ellipse fill=\"#8dd3c7\" stroke=\"#000000\" cx=\"52.7173\" cy=\"-29\" rx=\"47\" ry=\"29\"/>\n",
       "<text text-anchor=\"middle\" x=\"52.7173\" y=\"-24.8\" font-family=\"Times,serif\" font-size=\"14.00\" fill=\"#000000\">data</text>\n",
       "</g>\n",
       "<!-- convolution0 -->\n",
       "<g id=\"node2\" class=\"node\">\n",
       "<title>convolution0</title>\n",
       "<polygon fill=\"#fb8072\" stroke=\"#000000\" points=\"99.7173,-152 5.7173,-152 5.7173,-94 99.7173,-94 99.7173,-152\"/>\n",
       "<text text-anchor=\"middle\" x=\"52.7173\" y=\"-125.8\" font-family=\"Times,serif\" font-size=\"14.00\" fill=\"#000000\">Convolution</text>\n",
       "<text text-anchor=\"middle\" x=\"52.7173\" y=\"-111.8\" font-family=\"Times,serif\" font-size=\"14.00\" fill=\"#000000\">2x2/1, 10</text>\n",
       "</g>\n",
       "<!-- convolution0&#45;&gt;data -->\n",
       "<g id=\"edge1\" class=\"edge\">\n",
       "<title>convolution0&#45;&gt;data</title>\n",
       "<path fill=\"none\" stroke=\"#000000\" d=\"M52.7173,-83.6321C52.7173,-75.1148 52.7173,-66.2539 52.7173,-58.2088\"/>\n",
       "<polygon fill=\"#000000\" stroke=\"#000000\" points=\"52.7173,-93.7731 48.2174,-83.773 52.7173,-88.7731 52.7174,-83.7731 52.7174,-83.7731 52.7174,-83.7731 52.7173,-88.7731 57.2174,-83.7731 52.7173,-93.7731 52.7173,-93.7731\"/>\n",
       "</g>\n",
       "<!-- hybridsequential0_dense0_fwd -->\n",
       "<g id=\"node3\" class=\"node\">\n",
       "<title>hybridsequential0_dense0_fwd</title>\n",
       "<polygon fill=\"#fb8072\" stroke=\"#000000\" points=\"105.6528,-246 -.2182,-246 -.2182,-188 105.6528,-188 105.6528,-246\"/>\n",
       "<text text-anchor=\"middle\" x=\"52.7173\" y=\"-219.8\" font-family=\"Times,serif\" font-size=\"14.00\" fill=\"#000000\">FullyConnected</text>\n",
       "<text text-anchor=\"middle\" x=\"52.7173\" y=\"-205.8\" font-family=\"Times,serif\" font-size=\"14.00\" fill=\"#000000\">128</text>\n",
       "</g>\n",
       "<!-- hybridsequential0_dense0_fwd&#45;&gt;convolution0 -->\n",
       "<g id=\"edge2\" class=\"edge\">\n",
       "<title>hybridsequential0_dense0_fwd&#45;&gt;convolution0</title>\n",
       "<path fill=\"none\" stroke=\"#000000\" d=\"M52.7173,-177.6321C52.7173,-169.1148 52.7173,-160.2539 52.7173,-152.2088\"/>\n",
       "<polygon fill=\"#000000\" stroke=\"#000000\" points=\"52.7173,-187.7731 48.2174,-177.773 52.7173,-182.7731 52.7174,-177.7731 52.7174,-177.7731 52.7174,-177.7731 52.7173,-182.7731 57.2174,-177.7731 52.7173,-187.7731 52.7173,-187.7731\"/>\n",
       "</g>\n",
       "<!-- hybridsequential0_dense0_relu_fwd -->\n",
       "<g id=\"node4\" class=\"node\">\n",
       "<title>hybridsequential0_dense0_relu_fwd</title>\n",
       "<polygon fill=\"#ffffb3\" stroke=\"#000000\" points=\"99.7173,-340 5.7173,-340 5.7173,-282 99.7173,-282 99.7173,-340\"/>\n",
       "<text text-anchor=\"middle\" x=\"52.7173\" y=\"-313.8\" font-family=\"Times,serif\" font-size=\"14.00\" fill=\"#000000\">Activation</text>\n",
       "<text text-anchor=\"middle\" x=\"52.7173\" y=\"-299.8\" font-family=\"Times,serif\" font-size=\"14.00\" fill=\"#000000\">relu</text>\n",
       "</g>\n",
       "<!-- hybridsequential0_dense0_relu_fwd&#45;&gt;hybridsequential0_dense0_fwd -->\n",
       "<g id=\"edge3\" class=\"edge\">\n",
       "<title>hybridsequential0_dense0_relu_fwd&#45;&gt;hybridsequential0_dense0_fwd</title>\n",
       "<path fill=\"none\" stroke=\"#000000\" d=\"M52.7173,-271.6321C52.7173,-263.1148 52.7173,-254.2539 52.7173,-246.2088\"/>\n",
       "<polygon fill=\"#000000\" stroke=\"#000000\" points=\"52.7173,-281.7731 48.2174,-271.773 52.7173,-276.7731 52.7174,-271.7731 52.7174,-271.7731 52.7174,-271.7731 52.7173,-276.7731 57.2174,-271.7731 52.7173,-281.7731 52.7173,-281.7731\"/>\n",
       "</g>\n",
       "<!-- hybridsequential0_dense1_fwd -->\n",
       "<g id=\"node5\" class=\"node\">\n",
       "<title>hybridsequential0_dense1_fwd</title>\n",
       "<polygon fill=\"#fb8072\" stroke=\"#000000\" points=\"105.6528,-434 -.2182,-434 -.2182,-376 105.6528,-376 105.6528,-434\"/>\n",
       "<text text-anchor=\"middle\" x=\"52.7173\" y=\"-407.8\" font-family=\"Times,serif\" font-size=\"14.00\" fill=\"#000000\">FullyConnected</text>\n",
       "<text text-anchor=\"middle\" x=\"52.7173\" y=\"-393.8\" font-family=\"Times,serif\" font-size=\"14.00\" fill=\"#000000\">64</text>\n",
       "</g>\n",
       "<!-- hybridsequential0_dense1_fwd&#45;&gt;hybridsequential0_dense0_relu_fwd -->\n",
       "<g id=\"edge4\" class=\"edge\">\n",
       "<title>hybridsequential0_dense1_fwd&#45;&gt;hybridsequential0_dense0_relu_fwd</title>\n",
       "<path fill=\"none\" stroke=\"#000000\" d=\"M52.7173,-365.6321C52.7173,-357.1148 52.7173,-348.2539 52.7173,-340.2088\"/>\n",
       "<polygon fill=\"#000000\" stroke=\"#000000\" points=\"52.7173,-375.7731 48.2174,-365.773 52.7173,-370.7731 52.7174,-365.7731 52.7174,-365.7731 52.7174,-365.7731 52.7173,-370.7731 57.2174,-365.7731 52.7173,-375.7731 52.7173,-375.7731\"/>\n",
       "</g>\n",
       "<!-- hybridsequential0_dense1_relu_fwd -->\n",
       "<g id=\"node6\" class=\"node\">\n",
       "<title>hybridsequential0_dense1_relu_fwd</title>\n",
       "<polygon fill=\"#ffffb3\" stroke=\"#000000\" points=\"99.7173,-528 5.7173,-528 5.7173,-470 99.7173,-470 99.7173,-528\"/>\n",
       "<text text-anchor=\"middle\" x=\"52.7173\" y=\"-501.8\" font-family=\"Times,serif\" font-size=\"14.00\" fill=\"#000000\">Activation</text>\n",
       "<text text-anchor=\"middle\" x=\"52.7173\" y=\"-487.8\" font-family=\"Times,serif\" font-size=\"14.00\" fill=\"#000000\">relu</text>\n",
       "</g>\n",
       "<!-- hybridsequential0_dense1_relu_fwd&#45;&gt;hybridsequential0_dense1_fwd -->\n",
       "<g id=\"edge5\" class=\"edge\">\n",
       "<title>hybridsequential0_dense1_relu_fwd&#45;&gt;hybridsequential0_dense1_fwd</title>\n",
       "<path fill=\"none\" stroke=\"#000000\" d=\"M52.7173,-459.6321C52.7173,-451.1148 52.7173,-442.2539 52.7173,-434.2088\"/>\n",
       "<polygon fill=\"#000000\" stroke=\"#000000\" points=\"52.7173,-469.7731 48.2174,-459.773 52.7173,-464.7731 52.7174,-459.7731 52.7174,-459.7731 52.7174,-459.7731 52.7173,-464.7731 57.2174,-459.7731 52.7173,-469.7731 52.7173,-469.7731\"/>\n",
       "</g>\n",
       "<!-- fullyconnected0 -->\n",
       "<g id=\"node7\" class=\"node\">\n",
       "<title>fullyconnected0</title>\n",
       "<polygon fill=\"#fb8072\" stroke=\"#000000\" points=\"105.6528,-622 -.2182,-622 -.2182,-564 105.6528,-564 105.6528,-622\"/>\n",
       "<text text-anchor=\"middle\" x=\"52.7173\" y=\"-595.8\" font-family=\"Times,serif\" font-size=\"14.00\" fill=\"#000000\">FullyConnected</text>\n",
       "<text text-anchor=\"middle\" x=\"52.7173\" y=\"-581.8\" font-family=\"Times,serif\" font-size=\"14.00\" fill=\"#000000\">30</text>\n",
       "</g>\n",
       "<!-- fullyconnected0&#45;&gt;hybridsequential0_dense1_relu_fwd -->\n",
       "<g id=\"edge6\" class=\"edge\">\n",
       "<title>fullyconnected0&#45;&gt;hybridsequential0_dense1_relu_fwd</title>\n",
       "<path fill=\"none\" stroke=\"#000000\" d=\"M52.7173,-553.6321C52.7173,-545.1148 52.7173,-536.2539 52.7173,-528.2088\"/>\n",
       "<polygon fill=\"#000000\" stroke=\"#000000\" points=\"52.7173,-563.7731 48.2174,-553.773 52.7173,-558.7731 52.7174,-553.7731 52.7174,-553.7731 52.7174,-553.7731 52.7173,-558.7731 57.2174,-553.7731 52.7173,-563.7731 52.7173,-563.7731\"/>\n",
       "</g>\n",
       "<!-- activation0 -->\n",
       "<g id=\"node8\" class=\"node\">\n",
       "<title>activation0</title>\n",
       "<polygon fill=\"#ffffb3\" stroke=\"#000000\" points=\"99.7173,-716 5.7173,-716 5.7173,-658 99.7173,-658 99.7173,-716\"/>\n",
       "<text text-anchor=\"middle\" x=\"52.7173\" y=\"-689.8\" font-family=\"Times,serif\" font-size=\"14.00\" fill=\"#000000\">Activation</text>\n",
       "<text text-anchor=\"middle\" x=\"52.7173\" y=\"-675.8\" font-family=\"Times,serif\" font-size=\"14.00\" fill=\"#000000\">relu</text>\n",
       "</g>\n",
       "<!-- activation0&#45;&gt;fullyconnected0 -->\n",
       "<g id=\"edge7\" class=\"edge\">\n",
       "<title>activation0&#45;&gt;fullyconnected0</title>\n",
       "<path fill=\"none\" stroke=\"#000000\" d=\"M52.7173,-647.6321C52.7173,-639.1148 52.7173,-630.2539 52.7173,-622.2088\"/>\n",
       "<polygon fill=\"#000000\" stroke=\"#000000\" points=\"52.7173,-657.7731 48.2174,-647.773 52.7173,-652.7731 52.7174,-647.7731 52.7174,-647.7731 52.7174,-647.7731 52.7173,-652.7731 57.2174,-647.7731 52.7173,-657.7731 52.7173,-657.7731\"/>\n",
       "</g>\n",
       "<!-- fullyconnected1 -->\n",
       "<g id=\"node9\" class=\"node\">\n",
       "<title>fullyconnected1</title>\n",
       "<polygon fill=\"#fb8072\" stroke=\"#000000\" points=\"105.6528,-810 -.2182,-810 -.2182,-752 105.6528,-752 105.6528,-810\"/>\n",
       "<text text-anchor=\"middle\" x=\"52.7173\" y=\"-783.8\" font-family=\"Times,serif\" font-size=\"14.00\" fill=\"#000000\">FullyConnected</text>\n",
       "<text text-anchor=\"middle\" x=\"52.7173\" y=\"-769.8\" font-family=\"Times,serif\" font-size=\"14.00\" fill=\"#000000\">10</text>\n",
       "</g>\n",
       "<!-- fullyconnected1&#45;&gt;activation0 -->\n",
       "<g id=\"edge8\" class=\"edge\">\n",
       "<title>fullyconnected1&#45;&gt;activation0</title>\n",
       "<path fill=\"none\" stroke=\"#000000\" d=\"M52.7173,-741.6321C52.7173,-733.1148 52.7173,-724.2539 52.7173,-716.2088\"/>\n",
       "<polygon fill=\"#000000\" stroke=\"#000000\" points=\"52.7173,-751.7731 48.2174,-741.773 52.7173,-746.7731 52.7174,-741.7731 52.7174,-741.7731 52.7174,-741.7731 52.7173,-746.7731 57.2174,-741.7731 52.7173,-751.7731 52.7173,-751.7731\"/>\n",
       "</g>\n",
       "<!-- softmaxoutput0_label -->\n",
       "<g id=\"node10\" class=\"node\">\n",
       "<title>softmaxoutput0_label</title>\n",
       "<ellipse fill=\"#8dd3c7\" stroke=\"#000000\" cx=\"197.7173\" cy=\"-781\" rx=\"74.743\" ry=\"29\"/>\n",
       "<text text-anchor=\"middle\" x=\"197.7173\" y=\"-776.8\" font-family=\"Times,serif\" font-size=\"14.00\" fill=\"#000000\">softmaxoutput0_label</text>\n",
       "</g>\n",
       "<!-- softmaxoutput0 -->\n",
       "<g id=\"node11\" class=\"node\">\n",
       "<title>softmaxoutput0</title>\n",
       "<polygon fill=\"#fccde5\" stroke=\"#000000\" points=\"176.6002,-904 72.8344,-904 72.8344,-846 176.6002,-846 176.6002,-904\"/>\n",
       "<text text-anchor=\"middle\" x=\"124.7173\" y=\"-870.8\" font-family=\"Times,serif\" font-size=\"14.00\" fill=\"#000000\">softmaxoutput0</text>\n",
       "</g>\n",
       "<!-- softmaxoutput0&#45;&gt;fullyconnected1 -->\n",
       "<g id=\"edge9\" class=\"edge\">\n",
       "<title>softmaxoutput0&#45;&gt;fullyconnected1</title>\n",
       "<path fill=\"none\" stroke=\"#000000\" d=\"M96.0636,-837.5911C89.0871,-828.4828 81.7262,-818.8727 75.09,-810.2088\"/>\n",
       "<polygon fill=\"#000000\" stroke=\"#000000\" points=\"102.3307,-845.7731 92.6774,-840.5706 99.2903,-841.8037 96.2499,-837.8343 96.2499,-837.8343 96.2499,-837.8343 99.2903,-841.8037 99.8224,-835.0979 102.3307,-845.7731 102.3307,-845.7731\"/>\n",
       "</g>\n",
       "<!-- softmaxoutput0&#45;&gt;softmaxoutput0_label -->\n",
       "<g id=\"edge10\" class=\"edge\">\n",
       "<title>softmaxoutput0&#45;&gt;softmaxoutput0_label</title>\n",
       "<path fill=\"none\" stroke=\"#000000\" d=\"M153.5669,-837.8511C161.0517,-828.2133 168.9858,-817.9967 176.0326,-808.9228\"/>\n",
       "<polygon fill=\"#000000\" stroke=\"#000000\" points=\"147.4148,-845.7731 149.9943,-835.1149 150.4816,-841.8241 153.5484,-837.875 153.5484,-837.875 153.5484,-837.875 150.4816,-841.8241 157.1025,-840.6351 147.4148,-845.7731 147.4148,-845.7731\"/>\n",
       "</g>\n",
       "</g>\n",
       "</svg>\n"
      ],
      "text/plain": [
       "<graphviz.dot.Digraph at 0x12f699978>"
      ]
     },
     "execution_count": 20,
     "metadata": {},
     "output_type": "execute_result"
    }
   ],
   "source": [
    "# Add/remove layers from model input\n",
    "mh.add_layer_bottom([mx.sym.Convolution(kernel=(2,2), num_filter=10)])\n",
    "mh.visualize_net()"
   ]
  },
  {
   "cell_type": "code",
   "execution_count": null,
   "metadata": {},
   "outputs": [],
   "source": []
  }
 ],
 "metadata": {
  "kernelspec": {
   "display_name": "Python [default]",
   "language": "python",
   "name": "python3"
  },
  "language_info": {
   "codemirror_mode": {
    "name": "ipython",
    "version": 3
   },
   "file_extension": ".py",
   "mimetype": "text/x-python",
   "name": "python",
   "nbconvert_exporter": "python",
   "pygments_lexer": "ipython3",
   "version": "3.6.1"
  }
 },
 "nbformat": 4,
 "nbformat_minor": 2
}
