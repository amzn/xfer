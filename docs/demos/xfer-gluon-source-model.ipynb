{
 "cells": [
  {
   "cell_type": "markdown",
   "metadata": {},
   "source": [
    "# Using Gluon with Xfer\n",
    "\n",
    "This notebook demonstrates how to use neural networks defined and trained with Gluon as source models for Transfer Learning with Xfer.\n",
    "\n",
    "> **TL;DR** Gluon models can be used with Xfer provided they use [HybridBlocks](https://gluon.mxnet.io/chapter07_distributed-learning/hybridize.html) so that the symbol can be extracted.\n",
    "\n",
    "This demo is a dummy example where a CNN source model is trained on [MNIST](http://yann.lecun.com/exdb/mnist/) using Gluon and then repurposed for MNIST again.  This is obviously redundant but shows the steps required to use Gluon with Xfer."
   ]
  },
  {
   "cell_type": "code",
   "execution_count": 1,
   "metadata": {
    "collapsed": true
   },
   "outputs": [],
   "source": [
    "import numpy as np\n",
    "import mxnet as mx\n",
    "from mxnet import nd, autograd, gluon\n",
    "mx.random.seed(1)\n",
    "\n",
    "import time\n",
    "from sklearn.metrics import classification_report\n",
    "from scipy import io as scipyio\n",
    "import urllib.request\n",
    "import zipfile\n",
    "import os\n",
    "import logging\n",
    "\n",
    "import xfer"
   ]
  },
  {
   "cell_type": "markdown",
   "metadata": {},
   "source": [
    "## Train CNN with gluon\n",
    "\n",
    "Using code taken from [The Straight Dope](https://gluon.mxnet.io/chapter04_convolutional-neural-networks/cnn-gluon.html)"
   ]
  },
  {
   "cell_type": "code",
   "execution_count": 2,
   "metadata": {
    "collapsed": true
   },
   "outputs": [],
   "source": [
    "ctx = mx.cpu()"
   ]
  },
  {
   "cell_type": "code",
   "execution_count": 3,
   "metadata": {
    "collapsed": true
   },
   "outputs": [],
   "source": [
    "batch_size = 64\n",
    "num_inputs = 784\n",
    "num_outputs = 10\n",
    "def transform(data, label):\n",
    "    return nd.transpose(data.astype(np.float32), (2,0,1))/255, label.astype(np.float32)\n",
    "train_data = gluon.data.DataLoader(gluon.data.vision.MNIST(train=True, transform=transform),\n",
    "                                      batch_size, shuffle=True)\n",
    "test_data = gluon.data.DataLoader(gluon.data.vision.MNIST(train=False, transform=transform),\n",
    "                                     batch_size, shuffle=False)"
   ]
  },
  {
   "cell_type": "code",
   "execution_count": 4,
   "metadata": {
    "collapsed": true
   },
   "outputs": [],
   "source": [
    "num_fc = 512\n",
    "net = gluon.nn.HybridSequential()\n",
    "with net.name_scope():\n",
    "    net.add(gluon.nn.Conv2D(channels=20, kernel_size=5, activation='relu'))\n",
    "    net.add(gluon.nn.MaxPool2D(pool_size=2, strides=2))\n",
    "    net.add(gluon.nn.Conv2D(channels=50, kernel_size=5, activation='relu'))\n",
    "    net.add(gluon.nn.MaxPool2D(pool_size=2, strides=2))\n",
    "    # The Flatten layer collapses all axis, except the first one, into one axis.\n",
    "    net.add(gluon.nn.Flatten())\n",
    "    net.add(gluon.nn.Dense(num_fc, activation=\"relu\"))\n",
    "    net.add(gluon.nn.Dense(num_outputs))"
   ]
  },
  {
   "cell_type": "code",
   "execution_count": 5,
   "metadata": {
    "collapsed": true
   },
   "outputs": [],
   "source": [
    "net.collect_params().initialize(mx.init.Xavier(magnitude=2.24), ctx=ctx)"
   ]
  },
  {
   "cell_type": "code",
   "execution_count": 6,
   "metadata": {
    "collapsed": true
   },
   "outputs": [],
   "source": [
    "softmax_cross_entropy = gluon.loss.SoftmaxCrossEntropyLoss()"
   ]
  },
  {
   "cell_type": "code",
   "execution_count": 7,
   "metadata": {
    "collapsed": true
   },
   "outputs": [],
   "source": [
    "trainer = gluon.Trainer(net.collect_params(), 'sgd', {'learning_rate': .1})"
   ]
  },
  {
   "cell_type": "code",
   "execution_count": 8,
   "metadata": {
    "collapsed": true
   },
   "outputs": [],
   "source": [
    "net.hybridize()"
   ]
  },
  {
   "cell_type": "code",
   "execution_count": 9,
   "metadata": {
    "collapsed": true
   },
   "outputs": [],
   "source": [
    "def evaluate_accuracy(data_iterator, net):\n",
    "    acc = mx.metric.Accuracy()\n",
    "    for i, (data, label) in enumerate(data_iterator):\n",
    "        data = data.as_in_context(ctx)\n",
    "        label = label.as_in_context(ctx)\n",
    "        output = net(data)\n",
    "        predictions = nd.argmax(output, axis=1)\n",
    "        acc.update(preds=predictions, labels=label)\n",
    "    return acc.get()[1]"
   ]
  },
  {
   "cell_type": "code",
   "execution_count": 10,
   "metadata": {},
   "outputs": [
    {
     "name": "stdout",
     "output_type": "stream",
     "text": [
      "Epoch 0.\n",
      "Loss: 0.11107716270094219, Train_acc 0.9745833333333334, Test_acc 0.9742, Epoch_time 54.26378679275513, Eval_time 23.154165029525757\n"
     ]
    }
   ],
   "source": [
    "epochs = 1\n",
    "smoothing_constant = .01\n",
    "\n",
    "for e in range(epochs):\n",
    "    start_time_train = time.time()\n",
    "    for i, (data, label) in enumerate(train_data):\n",
    "        data = data.as_in_context(ctx)\n",
    "        label = label.as_in_context(ctx)\n",
    "        with autograd.record():\n",
    "            output = net(data)\n",
    "            loss = softmax_cross_entropy(output, label)\n",
    "        loss.backward()\n",
    "        trainer.step(data.shape[0])\n",
    "\n",
    "        ##########################\n",
    "        #  Keep a moving average of the losses\n",
    "        ##########################\n",
    "        curr_loss = nd.mean(loss).asscalar()\n",
    "        moving_loss = (curr_loss if ((i == 0) and (e == 0))\n",
    "                       else (1 - smoothing_constant) * moving_loss + smoothing_constant * curr_loss)\n",
    "    end_time_train = time.time()\n",
    "\n",
    "    start_time_eval = time.time()\n",
    "    test_accuracy = evaluate_accuracy(test_data, net)\n",
    "    train_accuracy = evaluate_accuracy(train_data, net)\n",
    "    end_time_eval = time.time()\n",
    "    \n",
    "    epoch_time = end_time_train - start_time_train\n",
    "    eval_time = end_time_eval - start_time_eval\n",
    "    print(\"Epoch {}.\\nLoss: {}, Train_acc {}, Test_acc {}, Epoch_time {}, Eval_time {}\".format(e, moving_loss, train_accuracy, test_accuracy, epoch_time, eval_time))\n",
    "    "
   ]
  },
  {
   "cell_type": "markdown",
   "metadata": {},
   "source": [
    "## Load MNIST dataset\n",
    "\n",
    "Load MNIST into data iterators"
   ]
  },
  {
   "cell_type": "code",
   "execution_count": 19,
   "metadata": {},
   "outputs": [],
   "source": [
    "mnist = mx.test_utils.get_mnist()"
   ]
  },
  {
   "cell_type": "code",
   "execution_count": 20,
   "metadata": {},
   "outputs": [],
   "source": [
    "train_iter = mx.io.NDArrayIter(mnist['train_data'], mnist['train_label'], batch_size, shuffle=True)\n",
    "val_iter = mx.io.NDArrayIter(mnist['test_data'], mnist['test_label'], batch_size)"
   ]
  },
  {
   "cell_type": "markdown",
   "metadata": {},
   "source": [
    "## Convert Gluon model `net` to Module\n",
    "\n",
    "*Adapted from snippet found [here](https://github.com/apache/incubator-mxnet/issues/9374)*\n",
    "\n",
    "From the Gluon model, the symbol and parameters are extracted and used to define an `Module` object."
   ]
  },
  {
   "cell_type": "code",
   "execution_count": 21,
   "metadata": {
    "collapsed": true
   },
   "outputs": [],
   "source": [
    "def block2symbol(block):\n",
    "    data = mx.sym.Variable('data')\n",
    "    sym = block(data)\n",
    "    args = {}\n",
    "    auxs = {}\n",
    "    for k, v in block.collect_params().items():\n",
    "        args[k] = mx.nd.array(v.data().asnumpy())\n",
    "        auxs[k] = mx.nd.array(v.data().asnumpy())\n",
    "    return sym, args, auxs"
   ]
  },
  {
   "cell_type": "code",
   "execution_count": 22,
   "metadata": {
    "collapsed": true
   },
   "outputs": [],
   "source": [
    "def symbol2mod(sym, args, auxs, data_iter):\n",
    "    mx_sym = mx.sym.SoftmaxOutput(data=sym, name='softmax')\n",
    "    model = mx.mod.Module(symbol=mx_sym, context=mx.cpu(), \n",
    "                          label_names=['softmax_label'])\n",
    "    model.bind( data_shapes = data_iter.provide_data, \n",
    "                label_shapes = data_iter.provide_label )\n",
    "    model.set_params(args, auxs)  \n",
    "    return model"
   ]
  },
  {
   "cell_type": "code",
   "execution_count": 23,
   "metadata": {
    "collapsed": true
   },
   "outputs": [],
   "source": [
    "sym_params = block2symbol(net)"
   ]
  },
  {
   "cell_type": "code",
   "execution_count": 24,
   "metadata": {
    "collapsed": true
   },
   "outputs": [],
   "source": [
    "net_mod = symbol2mod(*sym_params, train_iter)"
   ]
  },
  {
   "cell_type": "markdown",
   "metadata": {},
   "source": [
    "### Alternative Method\n",
    "\n",
    "Serialise Gluon model to file using `.export()`.\n",
    "\n",
    "Load the serialised model as an MXNet Module with `Module.load()` so that xfer can be used."
   ]
  },
  {
   "cell_type": "code",
   "execution_count": 25,
   "metadata": {
    "collapsed": true
   },
   "outputs": [],
   "source": [
    "# model_name = 'gluon-model'\n",
    "# net.export(model_name)\n",
    "\n",
    "# mod = mx.mod.Module.load(model_name, 0, label_names=[])\n",
    "# os.remove(model_name+'-symbol.json')\n",
    "# os.remove(model_name+'-0000.params')"
   ]
  },
  {
   "cell_type": "markdown",
   "metadata": {},
   "source": [
    "### Inspect Module "
   ]
  },
  {
   "cell_type": "code",
   "execution_count": 26,
   "metadata": {
    "collapsed": true
   },
   "outputs": [],
   "source": [
    "mh = xfer.model_handler.ModelHandler(net_mod)"
   ]
  },
  {
   "cell_type": "code",
   "execution_count": 27,
   "metadata": {},
   "outputs": [
    {
     "data": {
      "text/plain": [
       "['hybridsequential0_conv0_fwd',\n",
       " 'hybridsequential0_conv0_relu_fwd',\n",
       " 'hybridsequential0_pool0_fwd',\n",
       " 'hybridsequential0_conv1_fwd',\n",
       " 'hybridsequential0_conv1_relu_fwd',\n",
       " 'hybridsequential0_pool1_fwd',\n",
       " 'hybridsequential0_flatten0_reshape0',\n",
       " 'hybridsequential0_dense0_fwd',\n",
       " 'hybridsequential0_dense0_relu_fwd',\n",
       " 'hybridsequential0_dense1_fwd',\n",
       " 'softmax']"
      ]
     },
     "execution_count": 27,
     "metadata": {},
     "output_type": "execute_result"
    }
   ],
   "source": [
    "mh.layer_names"
   ]
  },
  {
   "cell_type": "markdown",
   "metadata": {},
   "source": [
    "## Neural Network Repurposer"
   ]
  },
  {
   "cell_type": "code",
   "execution_count": 28,
   "metadata": {
    "collapsed": true
   },
   "outputs": [],
   "source": [
    "repFT = xfer.NeuralNetworkFineTuneRepurposer(source_model=net_mod,\n",
    "                                             transfer_layer_name='hybridsequential0_dense0_relu_fwd',\n",
    "                                             target_class_count=26, num_epochs=2)"
   ]
  },
  {
   "cell_type": "code",
   "execution_count": 29,
   "metadata": {},
   "outputs": [
    {
     "name": "stderr",
     "output_type": "stream",
     "text": [
      "WARNING:root:Already bound, ignoring bind()\n",
      "/anaconda/envs/xfer-env/lib/python3.6/site-packages/mxnet/module/base_module.py:488: UserWarning: Parameters already initialized and force_init=False. init_params call ignored.\n",
      "  allow_missing=allow_missing, force_init=force_init)\n"
     ]
    }
   ],
   "source": [
    "repFT.repurpose(train_iter)"
   ]
  },
  {
   "cell_type": "code",
   "execution_count": 30,
   "metadata": {
    "collapsed": true
   },
   "outputs": [],
   "source": [
    "predictionsFT = repFT.predict_label(val_iter)"
   ]
  },
  {
   "cell_type": "code",
   "execution_count": 32,
   "metadata": {},
   "outputs": [
    {
     "name": "stdout",
     "output_type": "stream",
     "text": [
      "             precision    recall  f1-score   support\n",
      "\n",
      "          0      0.960     0.990     0.975       980\n",
      "          1      0.984     0.989     0.986      1135\n",
      "          2      0.968     0.965     0.967      1032\n",
      "          3      0.967     0.972     0.970      1010\n",
      "          4      0.977     0.971     0.974       982\n",
      "          5      0.975     0.975     0.975       892\n",
      "          6      0.974     0.966     0.970       958\n",
      "          7      0.970     0.959     0.964      1028\n",
      "          8      0.966     0.966     0.966       974\n",
      "          9      0.966     0.954     0.960      1009\n",
      "\n",
      "avg / total      0.971     0.971     0.971     10000\n",
      "\n"
     ]
    }
   ],
   "source": [
    "print(classification_report(mnist['test_label'], predictionsFT,\n",
    "      digits=3))"
   ]
  },
  {
   "cell_type": "markdown",
   "metadata": {},
   "source": [
    "## Meta-model Repurposer"
   ]
  },
  {
   "cell_type": "code",
   "execution_count": 33,
   "metadata": {
    "collapsed": true
   },
   "outputs": [],
   "source": [
    "repLR = xfer.LrRepurposer(source_model=net_mod, feature_layer_names=['hybridsequential0_dense0_fwd'])"
   ]
  },
  {
   "cell_type": "code",
   "execution_count": 34,
   "metadata": {},
   "outputs": [
    {
     "name": "stderr",
     "output_type": "stream",
     "text": [
      "/anaconda/envs/xfer-env/lib/python3.6/site-packages/sklearn/linear_model/sag.py:326: ConvergenceWarning: The max_iter was reached which means the coef_ did not converge\n",
      "  \"the coef_ did not converge\", ConvergenceWarning)\n"
     ]
    }
   ],
   "source": [
    "repLR.repurpose(train_iter)"
   ]
  },
  {
   "cell_type": "code",
   "execution_count": 35,
   "metadata": {
    "collapsed": true
   },
   "outputs": [],
   "source": [
    "predictionsLR = repLR.predict_label(val_iter)"
   ]
  },
  {
   "cell_type": "code",
   "execution_count": 36,
   "metadata": {},
   "outputs": [
    {
     "name": "stdout",
     "output_type": "stream",
     "text": [
      "             precision    recall  f1-score   support\n",
      "\n",
      "          0      0.990     0.993     0.991       980\n",
      "          1      0.991     0.996     0.993      1135\n",
      "          2      0.985     0.989     0.987      1032\n",
      "          3      0.987     0.989     0.988      1010\n",
      "          4      0.992     0.990     0.991       982\n",
      "          5      0.979     0.982     0.980       892\n",
      "          6      0.990     0.984     0.987       958\n",
      "          7      0.983     0.985     0.984      1028\n",
      "          8      0.987     0.986     0.986       974\n",
      "          9      0.989     0.977     0.983      1009\n",
      "\n",
      "avg / total      0.987     0.987     0.987     10000\n",
      "\n"
     ]
    }
   ],
   "source": [
    "print(classification_report(mnist['test_label'], predictionsLR,\n",
    "      digits=3))"
   ]
  },
  {
   "cell_type": "code",
   "execution_count": null,
   "metadata": {
    "collapsed": true
   },
   "outputs": [],
   "source": []
  }
 ],
 "metadata": {
  "kernelspec": {
   "display_name": "Python [default]",
   "language": "python",
   "name": "python3"
  },
  "language_info": {
   "codemirror_mode": {
    "name": "ipython",
    "version": 3
   },
   "file_extension": ".py",
   "mimetype": "text/x-python",
   "name": "python",
   "nbconvert_exporter": "python",
   "pygments_lexer": "ipython3",
   "version": "3.6.1"
  }
 },
 "nbformat": 4,
 "nbformat_minor": 2
}
