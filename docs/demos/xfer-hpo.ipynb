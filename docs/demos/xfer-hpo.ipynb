{
 "cells": [
  {
   "cell_type": "markdown",
   "metadata": {},
   "source": [
    "## Xfer with HyperParameter Optimization\n",
    "When training neural networks, hyperparameters may have to be tuned to improve accuracy metrics. The purpose of this notebook is to demonstrate how to do *HyperParameter Optimization* (HPO) when repurposing neural networks in [Xfer](https://github.com/amzn/xfer). Here, we use [emukit](https://amzn.github.io/emukit) to do HPO through Bayesian Optimization.\n",
    "\n",
    "Note that depending on number of epochs, the target data set and transferability between source and target tasks, the default hyperparameter settings in Xfer could give desired results and HPO may not be required. If someone wants to try HPO, this notebook shows how to do it using emukit."
   ]
  },
  {
   "cell_type": "code",
   "execution_count": 1,
   "metadata": {},
   "outputs": [],
   "source": [
    "import warnings\n",
    "warnings.filterwarnings(\"ignore\")\n",
    "\n",
    "import logging\n",
    "logging.disable(logging.WARNING)\n",
    "\n",
    "import gc\n",
    "import glob\n",
    "import os\n",
    "import random\n",
    "import time\n",
    "\n",
    "import emukit\n",
    "import mxnet as mx\n",
    "import numpy as np\n",
    "from sklearn.model_selection import StratifiedShuffleSplit\n",
    "import xfer\n",
    "\n",
    "from matplotlib import pylab as plt\n",
    "%matplotlib inline"
   ]
  },
  {
   "cell_type": "markdown",
   "metadata": {},
   "source": [
    "#### Utility methods"
   ]
  },
  {
   "cell_type": "code",
   "execution_count": 2,
   "metadata": {},
   "outputs": [],
   "source": [
    "def set_random_seeds():\n",
    "    seed = 1234\n",
    "    np.random.seed(seed)\n",
    "    mx.random.seed(seed)\n",
    "    random.seed(seed)\n",
    "    \n",
    "def get_iterators(data_dir, train_size=0.3, validation_size=0.3, test_size=0.4, batch_size=1, \n",
    "                  label_name='softmax_label', data_name='data', random_state=1):\n",
    "    \"\"\"\n",
    "    Method to create iterators from data stored in a folder with the following structure:\n",
    "    /data_dir\n",
    "        /class1\n",
    "            class1_img1 ... class1_imgN\n",
    "        /class2\n",
    "            class2_img1 ... class2_imgN\n",
    "        ...\n",
    "        /classN\n",
    "    \"\"\"\n",
    "    set_random_seeds()\n",
    "    # Assert data_dir exists\n",
    "    if not os.path.isdir(data_dir):\n",
    "        raise ValueError('Directory not found: {}'.format(data_dir))\n",
    "    # Get class names\n",
    "    classes = [x.split('/')[-1] for x in glob.glob(data_dir+'/*')]\n",
    "    classes.sort()\n",
    "    fnames = []\n",
    "    labels = []\n",
    "    for c in classes:\n",
    "            # Get all the image filenames and labels\n",
    "            images = glob.glob(data_dir+'/'+c+'/*')\n",
    "            images.sort()\n",
    "            fnames += images\n",
    "            labels += [c]*len(images)\n",
    "    # Create label2id mapping\n",
    "    id2label = dict(enumerate(set(labels)))\n",
    "    label2id = dict((v,k) for k, v in id2label.items())\n",
    "\n",
    "    # Split training(train+validation) and test data\n",
    "    sss = StratifiedShuffleSplit(n_splits=2, test_size=None, train_size=train_size+validation_size, random_state=random_state)\n",
    "    train_indices, test_indices = next(sss.split(labels, labels))\n",
    "        \n",
    "    # Training data (train+validation)\n",
    "    train_validation_images = []\n",
    "    train_validation_labels = []\n",
    "    for idx in train_indices:\n",
    "        train_validation_images.append([label2id[labels[idx]], fnames[idx]])\n",
    "        train_validation_labels.append(label2id[labels[idx]])\n",
    "        \n",
    "    # Test data\n",
    "    test_images = []\n",
    "    test_labels = []\n",
    "    for idx in test_indices:\n",
    "        test_images.append([label2id[labels[idx]], fnames[idx]])\n",
    "        test_labels.append(label2id[labels[idx]])\n",
    "    \n",
    "    # Separate validation set and train set\n",
    "    train_percent = train_size / (train_size+validation_size)\n",
    "    sss_1 = StratifiedShuffleSplit(n_splits=2, test_size=None, train_size=train_percent, random_state=random_state)\n",
    "    train_indices, validation_indices = next(sss_1.split(train_validation_labels, train_validation_labels))\n",
    "    train_images = []\n",
    "    train_labels = []\n",
    "    for idx in train_indices:\n",
    "        train_images.append(train_validation_images[idx])\n",
    "        train_labels.append(train_validation_labels[idx])\n",
    "    validation_images = []\n",
    "    validation_labels = []\n",
    "    for idx in validation_indices:\n",
    "        validation_images.append(train_validation_images[idx])\n",
    "        validation_labels.append(train_validation_labels[idx])\n",
    "        \n",
    "    # Create iterators\n",
    "    train_iterator = mx.image.ImageIter(batch_size, (3,224,224), imglist=train_images, label_name=label_name, \n",
    "                                        data_name=data_name, path_root='')\n",
    "    validation_iterator = mx.image.ImageIter(batch_size, (3,224,224), imglist=validation_images, label_name=label_name,\n",
    "                                             data_name=data_name, path_root='')\n",
    "    train_validation_iterator = mx.image.ImageIter(batch_size, (3,224,224), imglist=train_validation_images, \n",
    "                                                   label_name=label_name, data_name=data_name, path_root='')\n",
    "    test_iterator = mx.image.ImageIter(batch_size, (3,224,224), imglist=test_images, label_name=label_name, \n",
    "                                       data_name=data_name, path_root='')\n",
    "\n",
    "    return train_iterator, validation_iterator, train_validation_iterator, test_iterator, id2label\n",
    "\n",
    "def get_labels(iterator):\n",
    "    \"\"\" Return labels from data iterator \"\"\"\n",
    "    iterator.reset()\n",
    "    labels = []\n",
    "    while True:\n",
    "        try:\n",
    "            labels = labels + iterator.next().label[0].asnumpy().astype(int).tolist()\n",
    "        except StopIteration:\n",
    "            break\n",
    "    return labels\n",
    "\n",
    "def get_images(iterator):\n",
    "    \"\"\" Return list of image arrays from iterator \"\"\"\n",
    "    iterator.reset()\n",
    "    images = []\n",
    "    while True:\n",
    "        try:\n",
    "            batch = iterator.next().data[0]\n",
    "            for n in range(batch.shape[0]):\n",
    "                images.append(batch[n])\n",
    "        except StopIteration:\n",
    "            break\n",
    "    return images\n",
    "\n",
    "def show_predictions(predictions, images, id2label, figsize=(15,1.5), fontsize=12, n=None):\n",
    "    \"\"\" Display images along with predicted labels \"\"\"\n",
    "    n = len(images) if n is None else n\n",
    "    num_rows = 1\n",
    "    plt.figure(figsize=figsize)\n",
    "    for cc in range(n):\n",
    "        plt.subplot(num_rows,n,1+cc)\n",
    "        plt.tick_params(\n",
    "                        axis='both',          # changes apply to the x-axis\n",
    "                        which='both',      # both major and minor ticks are affected\n",
    "                        bottom=False,      # ticks along the bottom edge are off\n",
    "                        top=False,         # ticks along the top edge are off\n",
    "                        left=False,\n",
    "                        labelleft=False,\n",
    "                        labelbottom=False) # labels along the bottom edge are off\n",
    "        plt.imshow(np.uint8(images[cc].asnumpy().transpose((1,2,0))))\n",
    "        plt.title(id2label[predictions[cc]].split(',')[0], fontsize=fontsize)\n",
    "        plt.axis"
   ]
  },
  {
   "cell_type": "markdown",
   "metadata": {},
   "source": [
    "### A) Source model\n",
    "In Transfer Learning, the model from which knowledge is transferred is called the source model. Here, we use [vgg19](https://arxiv.org/pdf/1409.1556v6.pdf) model from [MXNet Model Zoo](https://mxnet.incubator.apache.org/model_zoo/) as the source model. vgg19 is a convolutional neural network trained on the ImageNet dataset which contains 1 million natural images categorized into 1000 classes."
   ]
  },
  {
   "cell_type": "code",
   "execution_count": 3,
   "metadata": {},
   "outputs": [],
   "source": [
    "# Download source model\n",
    "path = 'http://data.mxnet.io/models/imagenet/'\n",
    "[mx.test_utils.download(path+'vgg/vgg19-0000.params'), mx.test_utils.download(path+'vgg/vgg19-symbol.json')]\n",
    "\n",
    "# Load source model from file\n",
    "source_model = mx.module.Module.load('vgg19', 0, label_names=['prob_label'])"
   ]
  },
  {
   "cell_type": "markdown",
   "metadata": {},
   "source": [
    "### B) Target data\n",
    "Target data is a much smaller dataset with 40 images categorized into 4 classes from a different domain (hand-drawn sketches). We'll demonstrate how to use Xfer along with HPO to learn classifying this target data by transferring knowledge from vgg19 model."
   ]
  },
  {
   "cell_type": "code",
   "execution_count": 4,
   "metadata": {},
   "outputs": [
    {
     "name": "stdout",
     "output_type": "stream",
     "text": [
      "Number of train images: 12\n",
      "Number of validation images: 12\n",
      "Number of test images: 16\n"
     ]
    }
   ],
   "source": [
    "TARGET_DATA_DIR = 'test_sketches'\n",
    "set_random_seeds()\n",
    "train_iterator, validation_iterator, train_validation_iterator, test_iterator, id2label = get_iterators(TARGET_DATA_DIR)\n",
    "train_labels = get_labels(train_iterator)\n",
    "validation_labels = get_labels(validation_iterator)\n",
    "test_labels = get_labels(test_iterator)\n",
    "train_validation_labels = get_labels(train_validation_iterator)\n",
    "\n",
    "print('Number of train images: {}'.format(len(train_labels)))\n",
    "print('Number of validation images: {}'.format(len(validation_labels)))\n",
    "print('Number of test images: {}'.format(len(test_labels)))"
   ]
  },
  {
   "cell_type": "markdown",
   "metadata": {},
   "source": [
    "#### How are these data sets used? \n",
    "During HPO, we train the model using the training data and evaluate the hyperparameters with the validation data. Once we find an optimized learning rate, we do a final train of the model using both the training data and the validation data, and report precision on our withheld testing data."
   ]
  },
  {
   "cell_type": "markdown",
   "metadata": {},
   "source": [
    "### C) Repurpose without HPO\n",
    "This section demonstrates how to repurpose the source model to target data with default hyperparameters."
   ]
  },
  {
   "cell_type": "code",
   "execution_count": 5,
   "metadata": {},
   "outputs": [
    {
     "name": "stdout",
     "output_type": "stream",
     "text": [
      "Trained neural network with default hyperparameters. Precision: 0.25\n"
     ]
    },
    {
     "data": {
      "image/png": "[encoded data removed]",
      "text/plain": [
       "<Figure size 1080x108 with 16 Axes>"
      ]
     },
     "metadata": {},
     "output_type": "display_data"
    }
   ],
   "source": [
    "# Default optimizer, learning rate and number of epochs used in Xfer to train neural network\n",
    "DEFAULT_OPTIMIZER = 'sgd'\n",
    "DEFAULT_LEARNING_RATE = 0.01\n",
    "DEFAULT_OPTIMIZER_PARAMS = {'learning_rate': DEFAULT_LEARNING_RATE}  \n",
    "DEFAULT_NUM_EPOCHS = 4\n",
    "\n",
    "TARGET_CLASS_COUNT = 4  # 4 classes of sketch images are used for this demo (car, cheese, house and tree)\n",
    "CONTEXT_FUNCTION = mx.cpu # 'mx.gpu' or 'mx.cpu' (MXNet context function to train neural network)\n",
    "\n",
    "# Layers to freeze or randomly initialize during neural network training. \n",
    "# For this demo, we freeze the first 16 convolutional layers transferred from 'vgg19' model. \n",
    "FIXED_LAYERS = ['conv1_1','conv1_2','conv2_1','conv2_2','conv3_1','conv3_2','conv3_3','conv3_4',\n",
    "                'conv4_1','conv4_2','conv4_3','conv4_4','conv5_1','conv5_2','conv5_3','conv5_4']\n",
    "RANDOM_LAYERS = []\n",
    "\n",
    "# Method to repurpose neural network with given hyperparameters\n",
    "def train_and_predict(source_model, train_data_iterator, test_data_iterator, optimizer, optimizer_params):\n",
    "    set_random_seeds()\n",
    "    repurposer = xfer.NeuralNetworkRandomFreezeRepurposer(source_model, \n",
    "                                                          optimizer=optimizer, \n",
    "                                                          optimizer_params=optimizer_params,\n",
    "                                                          target_class_count=TARGET_CLASS_COUNT, \n",
    "                                                          fixed_layers=FIXED_LAYERS, \n",
    "                                                          random_layers=RANDOM_LAYERS,\n",
    "                                                          context_function=CONTEXT_FUNCTION,\n",
    "                                                          num_epochs=DEFAULT_NUM_EPOCHS)\n",
    "    repurposer.repurpose(train_data_iterator)\n",
    "    predictions = repurposer.predict_label(test_data_iterator)\n",
    "    return predictions\n",
    "\n",
    "# Train neural network with default hyperparameters\n",
    "predictions = train_and_predict(source_model, train_validation_iterator, test_iterator, \n",
    "                                   DEFAULT_OPTIMIZER, DEFAULT_OPTIMIZER_PARAMS)\n",
    "precision_default = np.mean(predictions == test_labels)\n",
    "print('Trained neural network with default hyperparameters. Precision: {}'.format(precision_default))\n",
    "\n",
    "# Display test images and predictions\n",
    "test_images = get_images(test_iterator)\n",
    "show_predictions(predictions, test_images, id2label)"
   ]
  },
  {
   "cell_type": "markdown",
   "metadata": {},
   "source": [
    "Note that the quality of the results may vary due to randomness e.g. in the initialization of the neural network weights. However, the idea is that, since the precision varies with different choices of the learning rate and in certain cases the default learning rate might not be the best. We therefore wish to find a good learning rate automatically rather than with trial-and-error. HPO helps us achieve this, as demonstrated below."
   ]
  },
  {
   "cell_type": "markdown",
   "metadata": {},
   "source": [
    "### D) Repurpose with HPO: Optimizing learning rate"
   ]
  },
  {
   "cell_type": "markdown",
   "metadata": {},
   "source": [
    "#### i) Declare the hyperparameter to optimize and its domain"
   ]
  },
  {
   "cell_type": "code",
   "execution_count": 6,
   "metadata": {},
   "outputs": [],
   "source": [
    "# Learning rate is the hyperparameter we will optimize here\n",
    "# We allow emukit to operate in a normalized domain [0,1] and map the value to a desired log scale inside our objective function\n",
    "# This helps emukit to learn a smooth underlying function in fewer iterations\n",
    "from emukit.core import ParameterSpace, ContinuousParameter\n",
    "\n",
    "emukit_param_space = ParameterSpace([ContinuousParameter('learning_rate', 0, 1)])\n",
    "\n",
    "# Method to map a value given by emukit in [0, 1] to a desired range of learning rate\n",
    "def map_learning_rate(source_value):\n",
    "    if(source_value < 0 or source_value > 1):\n",
    "        raise ValueError('source_value must be in the range [0,1]')\n",
    "    \n",
    "    # We explore learning rate in the range [1e-6 , 1e-1]. You can choose a different range to explore\n",
    "    # Log scale is used here because it is an intuitive way to explore learning rates\n",
    "    # For example, if 1e-2 doesn't work, we tend to explore 1e-3 or 1e-1 which is a jump in log scale\n",
    "    log_learning_rate_start = -6  # 1e-6 in linear scale\n",
    "    log_learning_rate_end = -1  # 1e-1 in linear scale\n",
    "    \n",
    "    log_span = abs(log_learning_rate_end - log_learning_rate_start)\n",
    "    log_mapped_value = log_learning_rate_start + (source_value * log_span)\n",
    "    mapped_value = 10 ** log_mapped_value  # Convert from log scale to linear scale\n",
    "    return mapped_value"
   ]
  },
  {
   "cell_type": "markdown",
   "metadata": {},
   "source": [
    "#### ii) Define an objective function to optimize the hyperparameter"
   ]
  },
  {
   "cell_type": "code",
   "execution_count": 7,
   "metadata": {},
   "outputs": [],
   "source": [
    "def get_hyperparameters_from_config(config):\n",
    "    \"\"\" \n",
    "    Extract hyperparameters from input configuration provided by emukit.\n",
    "    Refer the caller 'hpo_objective_function' for more details.\n",
    "    \"\"\"\n",
    "    learning_rate = map_learning_rate(config[0]) # Map learning_rate value given by emukit to the desire range\n",
    "    optimizer = DEFAULT_OPTIMIZER  # Using default optimizer here i.e. 'sgd'\n",
    "    return optimizer, learning_rate\n",
    "\n",
    "def hpo_objective_function(config_matrix):\n",
    "    \"\"\" \n",
    "    Objective function to optimize the hyperparameters for\n",
    "    This method is called by emukit during the optimization loop\n",
    "    to get outputs of objective function for different input configurations\n",
    "    \n",
    "    We train a neural network with given hyperparameters and return (1-precision) on validation data as the output\n",
    "    You can choose to optimize for a different measure and create the objective function accordingly\n",
    "    Here, we consider one hyperparameter (learning_rate) to optimize precision\n",
    "    \n",
    "    Note: config_matrix has m rows and n columns\n",
    "    m denotes the number of experiments to run i.e. each row would contain input configuration to run one experiment\n",
    "    n denotes the number of hyperparameters (e.g. 2 columns for learning_rate and batch_size)\n",
    "    \"\"\"\n",
    "    # Output of objective function for each input configuration\n",
    "    function_output = np.zeros((config_matrix.shape[0], 1))\n",
    "    \n",
    "    # For each input configuration, train a nerual network and calculate accuracy on validation data\n",
    "    for idx, config in enumerate(config_matrix):\n",
    "        optimizer, learning_rate = get_hyperparameters_from_config(config)\n",
    "\n",
    "        # Train neural network with the mapped learning rate and get predictions on validation data\n",
    "        predictions = train_and_predict(source_model=source_model, \n",
    "                                           train_data_iterator=train_iterator, \n",
    "                                           test_data_iterator=validation_iterator,\n",
    "                                           optimizer = optimizer,\n",
    "                                           optimizer_params = {'learning_rate': learning_rate})\n",
    " \n",
    "        # Calculate precision on validation set and update function_output with (1-precision)\n",
    "        precision = np.mean(predictions == validation_labels)\n",
    "        function_output[idx][0] = (1.0 - precision)  # (1-precision) to keep a minimization objective\n",
    "        print('learning_rate: {}. optimizer: {}. precision: {}'.format(learning_rate, optimizer, precision))\n",
    "        gc.collect()\n",
    "    \n",
    "    return function_output"
   ]
  },
  {
   "cell_type": "markdown",
   "metadata": {},
   "source": [
    "#### iii) Define a model using GPy for emukit to optimize"
   ]
  },
  {
   "cell_type": "code",
   "execution_count": 8,
   "metadata": {},
   "outputs": [
    {
     "data": {
      "text/plain": [
       "True"
      ]
     },
     "execution_count": 8,
     "metadata": {},
     "output_type": "execute_result"
    }
   ],
   "source": [
    "# Notice that our initial learning rate value corresponds to 0.8 on [0, 1] scale\n",
    "map_learning_rate(0.8) == DEFAULT_LEARNING_RATE"
   ]
  },
  {
   "cell_type": "code",
   "execution_count": 9,
   "metadata": {},
   "outputs": [],
   "source": [
    "set_random_seeds()\n",
    "\n",
    "import GPy\n",
    "X = np.array([[0.8]])\n",
    "Y = np.array([[1.0 - precision_default]])\n",
    "\n",
    "gpy_model = GPy.models.GPRegression(X, Y)"
   ]
  },
  {
   "cell_type": "markdown",
   "metadata": {},
   "source": [
    "#### iv) Initialize a Bayesian optimizer using emukit"
   ]
  },
  {
   "cell_type": "code",
   "execution_count": 10,
   "metadata": {},
   "outputs": [],
   "source": [
    "from emukit.bayesian_optimization.loops import BayesianOptimizationLoop\n",
    "from emukit.model_wrappers import GPyModelWrapper\n",
    "\n",
    "emukit_model = GPyModelWrapper(gpy_model)\n",
    "hyperparameter_optimizer = BayesianOptimizationLoop(emukit_param_space, emukit_model)"
   ]
  },
  {
   "cell_type": "markdown",
   "metadata": {},
   "source": [
    "#### v) Run optimization loop to identify a better learning rate for our objective function"
   ]
  },
  {
   "cell_type": "code",
   "execution_count": 11,
   "metadata": {
    "scrolled": true
   },
   "outputs": [
    {
     "name": "stdout",
     "output_type": "stream",
     "text": [
      "Optimization restart 1/1, f = 1.1312564608151783\n",
      "learning_rate: 1e-06. optimizer: sgd. precision: 0.5\n",
      "Optimization restart 1/1, f = 0.9815790760721594\n",
      "learning_rate: 1e-06. optimizer: sgd. precision: 0.5\n",
      "Optimization restart 1/1, f = -6.963249113616735\n",
      "learning_rate: 1.604696232278503e-06. optimizer: sgd. precision: 0.5\n",
      "Optimization restart 1/1, f = -9.048731845639432\n",
      "learning_rate: 1.2681487716415876e-06. optimizer: sgd. precision: 0.5\n",
      "Optimization restart 1/1, f = -16.18851622078782\n",
      "learning_rate: 1.260324119615607e-06. optimizer: sgd. precision: 0.5\n",
      "Optimization restart 1/1, f = -24.10206487648798\n",
      "learning_rate: 6.481443855100692e-06. optimizer: sgd. precision: 0.5833333333333334\n",
      "Optimization restart 1/1, f = -20.776248579222724\n",
      "learning_rate: 0.00011946457911772839. optimizer: sgd. precision: 1.0\n",
      "Optimization restart 1/1, f = -21.117596675753305\n"
     ]
    }
   ],
   "source": [
    "NUM_ITERATIONS_TO_RUN = 7\n",
    "\n",
    "hyperparameter_optimizer.run_loop(hpo_objective_function, NUM_ITERATIONS_TO_RUN)\n",
    "results = hyperparameter_optimizer.get_results()"
   ]
  },
  {
   "cell_type": "markdown",
   "metadata": {},
   "source": [
    "#### Optimized learning rate"
   ]
  },
  {
   "cell_type": "code",
   "execution_count": 12,
   "metadata": {},
   "outputs": [
    {
     "name": "stdout",
     "output_type": "stream",
     "text": [
      "Optimized learning rate: 0.00011946457911772839. Precision on validation data: 1.0\n"
     ]
    }
   ],
   "source": [
    "# Take hyperparameters that minimized the objective function output\n",
    "x_best = results.minimum_location\n",
    "optimized_learning_rate = map_learning_rate(x_best[0])\n",
    "precision = 1.0 - results.minimum_value  # Objective was to minimize 1-precision \n",
    "print('Optimized learning rate: {}. Precision on validation data: {}'.format(optimized_learning_rate, precision))"
   ]
  },
  {
   "cell_type": "code",
   "execution_count": 13,
   "metadata": {},
   "outputs": [
    {
     "data": {
      "text/html": [
       "<style type=\"text/css\">\n",
       ".pd{\n",
       "    font-family: \"Courier New\", Courier, monospace !important;\n",
       "    width: 100%;\n",
       "    padding: 3px;\n",
       "}\n",
       "</style>\n",
       "\n",
       "<p class=pd>\n",
       "<b>Model</b>: GP regression<br>\n",
       "<b>Objective</b>: -21.117596675753305<br>\n",
       "<b>Number of Parameters</b>: 3<br>\n",
       "<b>Number of Optimization Parameters</b>: 3<br>\n",
       "<b>Updates</b>: True<br>\n",
       "</p>\n",
       "<style type=\"text/css\">\n",
       ".tg  {font-family:\"Courier New\", Courier, monospace !important;padding:2px 3px;word-break:normal;border-collapse:collapse;border-spacing:0;border-color:#DCDCDC;margin:0px auto;width:100%;}\n",
       ".tg td{font-family:\"Courier New\", Courier, monospace !important;font-weight:bold;color:#444;background-color:#F7FDFA;border-style:solid;border-width:1px;overflow:hidden;word-break:normal;border-color:#DCDCDC;}\n",
       ".tg th{font-family:\"Courier New\", Courier, monospace !important;font-weight:normal;color:#fff;background-color:#26ADE4;border-style:solid;border-width:1px;overflow:hidden;word-break:normal;border-color:#DCDCDC;}\n",
       ".tg .tg-left{font-family:\"Courier New\", Courier, monospace !important;font-weight:normal;text-align:left;}\n",
       ".tg .tg-center{font-family:\"Courier New\", Courier, monospace !important;font-weight:normal;text-align:center;}\n",
       ".tg .tg-right{font-family:\"Courier New\", Courier, monospace !important;font-weight:normal;text-align:right;}\n",
       "</style>\n",
       "<table class=\"tg\"><tr><th><b>  GP_regression.         </b></th><th><b>                 value</b></th><th><b>constraints</b></th><th><b>priors</b></th></tr>\n",
       "<tr><td class=tg-left>  rbf.variance           </td><td class=tg-right>   0.24506271895881576</td><td class=tg-center>    +ve    </td><td class=tg-center>      </td></tr>\n",
       "<tr><td class=tg-left>  rbf.lengthscale        </td><td class=tg-right>    0.2097337210916541</td><td class=tg-center>    +ve    </td><td class=tg-center>      </td></tr>\n",
       "<tr><td class=tg-left>  Gaussian_noise.variance</td><td class=tg-right>1.5082312531001544e-15</td><td class=tg-center>    +ve    </td><td class=tg-center>      </td></tr>\n",
       "</table>"
      ],
      "text/plain": [
       "<GPy.models.gp_regression.GPRegression at 0x146c27470>"
      ]
     },
     "execution_count": 13,
     "metadata": {},
     "output_type": "execute_result"
    }
   ],
   "source": [
    "gpy_model"
   ]
  },
  {
   "cell_type": "markdown",
   "metadata": {},
   "source": [
    "Note that the optimized learning rate found is from the iterations run so far. Based on time available, one can run more iterations which may help in obtaining a more optimized learning rate."
   ]
  },
  {
   "cell_type": "markdown",
   "metadata": {},
   "source": [
    "#### Precision on test data with optimal learning rate"
   ]
  },
  {
   "cell_type": "code",
   "execution_count": 14,
   "metadata": {},
   "outputs": [
    {
     "name": "stdout",
     "output_type": "stream",
     "text": [
      "Optimized learning rate: 0.00011946457911772839. Precision on test data: 0.9375\n"
     ]
    },
    {
     "data": {
      "image/png": "[encoded data removed]",
      "text/plain": [
       "<Figure size 1080x108 with 16 Axes>"
      ]
     },
     "metadata": {},
     "output_type": "display_data"
    }
   ],
   "source": [
    "# Train neural network with optimal learning rate and get predictions on test data\n",
    "# Along with training data, validation data is also used to train the final model\n",
    "predictions = train_and_predict(source_model=source_model, \n",
    "                                   train_data_iterator=train_validation_iterator,  # train on (train + validation) set\n",
    "                                   test_data_iterator=test_iterator,  # predict on test data\n",
    "                                   optimizer = DEFAULT_OPTIMIZER,\n",
    "                                   optimizer_params = {'learning_rate': optimized_learning_rate})\n",
    "precision_optimized = np.mean(predictions == test_labels)\n",
    "print('Optimized learning rate: {}. Precision on test data: {}'.format(optimized_learning_rate, precision_optimized))\n",
    "show_predictions(predictions, test_images, id2label)"
   ]
  },
  {
   "cell_type": "markdown",
   "metadata": {},
   "source": [
    "### E) Repurpose with HPO: Optimizing multiple hyperparameters\n",
    "The following section can be used for reference when someone wants to optimize multiple hyperparameters to repurpose models using Xfer. Here, the hyperparameters chosen are: \n",
    "1. Optimizer for neural network (sgd or adam). \n",
    "2. Learning rate.\n",
    "\n",
    "Note that running more iterations could be useful here because there are more combination of values to explore."
   ]
  },
  {
   "cell_type": "markdown",
   "metadata": {},
   "source": [
    "```python\n",
    "# Choose the hyperparameters and specify the domain\n",
    "from emukit.core import CategoricalParameter, OneHotEncoding\n",
    "p1 = ContinuousParameter('learning_rate', 0, 1)\n",
    "p2 = CategoricalParameter('optimizer', OneHotEncoding(['sgd', 'adam']))\n",
    "space_with_two_params = ParameterSpace([p1, p2])\n",
    "\n",
    "# Override this method to extract the optimizer in addition to learning_rate from emukit config\n",
    "def get_hyperparameters_from_config(config):\n",
    "    \"\"\" \n",
    "    Extract hyperparameters from input configuration provided by emukit.\n",
    "    Refer the caller 'hpo_objective_function' for more details.\n",
    "    \"\"\"\n",
    "    learning_rate = map_learning_rate(config[0]) # Map learning_rate value given by emukit to the desire range\n",
    "    optimizer = p2.encoding.get_category(config[1:])  # Using optimizer given by emukit\n",
    "    return optimizer, learning_rate\n",
    "\n",
    "# Initialize emukit with new domain, create the model and run optimization\n",
    "set_random_seeds()\n",
    "\n",
    "X = np.array([[0.8] + p2.encoding.get_encoding(DEFAULT_OPTIMIZER)])\n",
    "Y = np.array([[1.0 - precision_default]])\n",
    "gpy_model = GPy.models.GPRegression(X, Y)\n",
    "\n",
    "emukit_model = GPyModelWrapper(gpy_model)\n",
    "hyperparameter_optimizer2 = BayesianOptimizationLoop(space_with_two_params, emukit_model)\n",
    "\n",
    "hyperparameter_optimizer2.run_loop(hpo_objective_function, NUM_ITERATIONS_TO_RUN)\n",
    "results2 = hyperparameter_optimizer2.get_results()\n",
    "\n",
    "# Take hyperparameters that minimized the objective function output\n",
    "x_best2 = results2.minimum_location\n",
    "best_learning_rate = map_learning_rate(x_best2[0])\n",
    "best_optimizer = p2.encoding.get_category(x_best2[1:])\n",
    "precision2 = 1.0 - results2.minimum_value  # Objective was to minimize 1-precision \n",
    "print('Optimized learning rate: {}. Optimizer: {}. Precision on validation data: {}'\n",
    "      .format(best_learning_rate, best_optimizer, precision2))\n",
    "\n",
    "# Train neural network with optimal (learning rate, optimizer) and get predictions on test data\n",
    "# Along with training data, validation data is also used to train the final model\n",
    "predictions2 = train_and_predict(source_model=source_model, \n",
    "                                   train_data_iterator=train_validation_iterator,  # train on (train + validation) set\n",
    "                                   test_data_iterator=test_iterator,  # predict on test data\n",
    "                                   optimizer = best_optimizer,\n",
    "                                   optimizer_params = {'learning_rate': best_learning_rate})\n",
    "precision_optimized2 = np.mean(predictions2 == test_labels)\n",
    "print('Precision on test data after optimization: ' + str(precision_optimized2))\n",
    "show_predictions(predictions2, test_images, id2label)\n",
    "```"
   ]
  },
  {
   "cell_type": "code",
   "execution_count": null,
   "metadata": {},
   "outputs": [],
   "source": []
  }
 ],
 "metadata": {
  "kernelspec": {
   "display_name": "Python 3",
   "language": "python",
   "name": "python3"
  },
  "language_info": {
   "codemirror_mode": {
    "name": "ipython",
    "version": 3
   },
   "file_extension": ".py",
   "mimetype": "text/x-python",
   "name": "python",
   "nbconvert_exporter": "python",
   "pygments_lexer": "ipython3",
   "version": "3.6.5"
  }
 },
 "nbformat": 4,
 "nbformat_minor": 2
}
